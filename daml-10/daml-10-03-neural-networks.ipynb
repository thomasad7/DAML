{
 "cells": [
  {
   "cell_type": "markdown",
   "metadata": {},
   "source": [
    "# DAML 10 - Neural Networks\n",
    "\n",
    "Michal Grochmal <michal.grochmal@city.ac.uk>"
   ]
  },
  {
   "cell_type": "markdown",
   "metadata": {},
   "source": [
    "If we place several perceptrons (neurons) together\n",
    "we can slice the search space with several lines.\n",
    "This is called an *Artificial Neural Network* (ANN)\n",
    "It is not trivial to train these neurons,\n",
    "after all we do not know what the output of most neurons should be.\n",
    "\n",
    "But let's just use `sklearn`'s `MLPClassifier` (multi-layer-perceptron-classifier)\n",
    "as a model and see if we can make it work."
   ]
  },
  {
   "cell_type": "code",
   "execution_count": null,
   "metadata": {},
   "outputs": [],
   "source": [
    "import numpy as np\n",
    "import pandas as pd\n",
    "import matplotlib.pyplot as plt\n",
    "%matplotlib inline\n",
    "plt.style.use('seaborn-talk')"
   ]
  },
  {
   "cell_type": "markdown",
   "metadata": {},
   "source": [
    "## Glass Dataset\n",
    "\n",
    "The forensics of glass composition can reveal the provenience of a piece of glass,\n",
    "yet different brands of glass are slightly different from each other.\n",
    "We will build a model which will classify glass based on its composition,\n",
    "and will use online learning so that we are ready to learn from new data at any time.\n",
    "\n",
    "This is a dataset at UCI machine learning repository, we need to build our `load_glass` function."
   ]
  },
  {
   "cell_type": "code",
   "execution_count": null,
   "metadata": {},
   "outputs": [],
   "source": [
    "import os\n",
    "import sys\n",
    "import requests\n",
    "import numpy as np\n",
    "from sklearn import datasets\n",
    "from sklearn.utils import Bunch\n",
    "\n",
    "\n",
    "def load_glass():\n",
    "    glass_dir = 'uci_glass'\n",
    "    data_dir = datasets.get_data_home()\n",
    "    data_path = os.path.join(data_dir, glass_dir, 'glass.data')\n",
    "    descr_path = os.path.join(data_dir, glass_dir, 'glass.names')\n",
    "    glass_data = 'https://archive.ics.uci.edu/ml/machine-learning-databases/glass/glass.data'\n",
    "    glass_descr = 'https://archive.ics.uci.edu/ml/machine-learning-databases/glass/glass.names'\n",
    "    os.makedirs(os.path.join(data_dir, glass_dir), exist_ok=True)\n",
    "    try:\n",
    "        with open(descr_path, 'r') as f:\n",
    "            descr = f.read()\n",
    "    except IOError:\n",
    "        print('Downloading file from', glass_descr, file=sys.stderr)\n",
    "        r = requests.get(glass_descr)\n",
    "        with open(descr_path, 'w') as f:\n",
    "            f.write(r.text)\n",
    "        descr = r.text\n",
    "        r.close()\n",
    "    try:\n",
    "        data = np.loadtxt(data_path, delimiter=',')\n",
    "    except IOError:\n",
    "        print('Downloading file from', glass_data, file=sys.stderr)\n",
    "        r = requests.get(glass_data)\n",
    "        with open(data_path, 'w') as f:\n",
    "            f.write(r.text)\n",
    "        r.close()\n",
    "        data = np.loadtxt(data_path, delimiter=',')\n",
    "    target = data[:, 10].astype(np.int).copy()\n",
    "    target[target > 3] -= 1  # fix non-existent classes\n",
    "    return Bunch(DESCR=descr,\n",
    "                 data=data[:, :10].copy(),\n",
    "                 feature_names=['ID', 'RI', 'Na', 'Mg', 'Al', 'Si', 'K', 'Ca', 'Ba', 'Fe'],\n",
    "                 target=target,\n",
    "                 target_names=['windows_float_processed',\n",
    "                               'windows_non_float_processed',\n",
    "                               'vehicle_windows',\n",
    "                               'containers',\n",
    "                               'tableware',\n",
    "                               'headlamps'])\n",
    "\n",
    "\n",
    "glass = load_glass()\n",
    "print(glass.DESCR)"
   ]
  },
  {
   "cell_type": "markdown",
   "metadata": {},
   "source": [
    "The support of the classes is quite different.\n",
    "This isn't an easy problem to model."
   ]
  },
  {
   "cell_type": "code",
   "execution_count": null,
   "metadata": {},
   "outputs": [],
   "source": [
    "pd.Series(glass.target).value_counts()"
   ]
  },
  {
   "cell_type": "markdown",
   "metadata": {},
   "source": [
    "Without knowing much about this model,\n",
    "let's try to use a neural network to classify this dataset.\n",
    "We know that the neural network is a good amount\n",
    "of interconnected perceptrons and that we perturb the perceptron weights\n",
    "based on errors in classification to achieve convergence.\n",
    "\n",
    "We also know that `sklearn` provides us with a simple neural network class,\n",
    "no harm in trying it out."
   ]
  },
  {
   "cell_type": "code",
   "execution_count": null,
   "metadata": {},
   "outputs": [],
   "source": [
    "from sklearn.model_selection import train_test_split\n",
    "\n",
    "xtrain, xtest, ytrain, ytest = train_test_split(glass.data, glass.target, test_size=0.2, random_state=42)"
   ]
  },
  {
   "cell_type": "markdown",
   "metadata": {},
   "source": [
    "This is a real dataset,\n",
    "we may as well try to do things properly and take a test set out."
   ]
  },
  {
   "cell_type": "code",
   "execution_count": null,
   "metadata": {},
   "outputs": [],
   "source": [
    "from sklearn.neural_network import MLPClassifier\n",
    "from sklearn.model_selection import GridSearchCV\n",
    "\n",
    "net = MLPClassifier(activation='relu', hidden_layer_sizes=(20,), alpha=0.01, tol=0.001,\n",
    "                    max_iter=200, solver='sgd', learning_rate='constant')\n",
    "param_dict = {\n",
    "    'alpha': [0.0001, 0.001, 0.01, 0.1, 1.0],\n",
    "    'tol': [0.001, 0.01, 0.1],\n",
    "}\n",
    "grid = GridSearchCV(net, param_dict, cv=9)\n",
    "grid.fit(xtrain, ytrain)\n",
    "grid.best_estimator_"
   ]
  },
  {
   "cell_type": "markdown",
   "metadata": {},
   "source": [
    "Some models may not converge but the cross-validation should root them out.\n",
    "And the best model should be a converged network."
   ]
  },
  {
   "cell_type": "code",
   "execution_count": null,
   "metadata": {},
   "outputs": [],
   "source": [
    "grid.best_score_"
   ]
  },
  {
   "cell_type": "markdown",
   "metadata": {},
   "source": [
    "The score isn't bad but a classification report may give a better view\n",
    "of how a multilabel classifier performs."
   ]
  },
  {
   "cell_type": "code",
   "execution_count": null,
   "metadata": {},
   "outputs": [],
   "source": [
    "from sklearn.metrics import classification_report\n",
    "\n",
    "yfit = grid.best_estimator_.predict(xtest)\n",
    "print(classification_report(ytest, yfit, target_names=glass.target_names))"
   ]
  },
  {
   "cell_type": "markdown",
   "metadata": {},
   "source": [
    "And to see the misclassification we use the confusion matrix."
   ]
  },
  {
   "cell_type": "code",
   "execution_count": null,
   "metadata": {},
   "outputs": [],
   "source": [
    "from sklearn.metrics import confusion_matrix\n",
    "import seaborn as sns\n",
    "\n",
    "m = confusion_matrix(ytest, yfit)\n",
    "fig = plt.figure(figsize=(12, 12))\n",
    "ax = sns.heatmap(m.T, square=True, annot=True, fmt='d', cmap='Blues',\n",
    "                 xticklabels=glass.target_names, yticklabels=glass.target_names)\n",
    "ax.set(xlabel='true label', ylabel='predicted label');"
   ]
  },
  {
   "cell_type": "markdown",
   "metadata": {},
   "source": [
    "From the above we learned one of the most important details about neural networks:\n",
    "since weights are updated based on classification errors between expected and predicted\n",
    "classes, if we have classes with very little support the network will fail at classifying them.\n",
    "\n",
    "As we get collect more data the effect of classes with smaller support diminishes.\n",
    "Neural Nets work in similar fashion to us, humans, you cannot show a person 2 paintings\n",
    "by Titian and then 200 painting not by Titian and expect her to be an expert at identifying\n",
    "Titian's work.\n",
    "ANNs work best the more data you have and the more diverse the data is.\n",
    "\n",
    "For the glass data we'll leave as an exercise trying out a Random Forest,\n",
    "that model is very good at digging out classes with small support\n",
    "(contrary to decision trees!).\n",
    "But for now let's understand more about ANNs."
   ]
  },
  {
   "cell_type": "markdown",
   "metadata": {},
   "source": [
    "## Neural Network Concepts\n",
    "\n",
    "OK, so how does that work?\n",
    "We managed to train perceptrons because we knew what the output of each perceptron should be.\n",
    "And we saw that a perceptron can only output either -1 or 1 with the `sign` function.\n",
    "\n",
    "In neural networks the perceptrons are organized in layers:\n",
    "\n",
    "- One *input layer* which has one perceptron per feature\n",
    "- At least one *hidden layer* with fully connected perceptrons\n",
    "- One output layer with one perceptron per output class (or just one for regression)\n",
    "\n",
    "Each perceptron will have its own weights, and these will be trained simultaneously\n",
    "across the entire network, by a process called *backpropagation*.\n",
    "But before we dive into backpropagation let's discuss activation functions.\n",
    "The `sign` function is only one viable activation function,\n",
    "we can make our ANN work with several others:"
   ]
  },
  {
   "cell_type": "code",
   "execution_count": null,
   "metadata": {},
   "outputs": [],
   "source": [
    "fig, ax = plt.subplots(5, 2, figsize=(16, 14), sharey=True, sharex=True)\n",
    "ax_size = [-5, 5, -1.5, 3]\n",
    "fig.subplots_adjust(hspace=0.3)\n",
    "# sign\n",
    "x_full = np.linspace(-5, 5, 60)\n",
    "x1 = np.linspace(-5, 0, 30)\n",
    "x2 = np.linspace(0, 5, 30)\n",
    "y1 = x1*0 - 1\n",
    "y2 = x2*0 + 1\n",
    "ax[0, 0].plot(np.hstack([x1, x2]), np.hstack([y1, y2]), color='crimson')\n",
    "ax[0, 0].legend(['$sign()$'])\n",
    "ax[0, 0].axis(ax_size)\n",
    "ax[0, 0].set_title('Sign')\n",
    "# hard limit\n",
    "y1 = x1*0\n",
    "y2 = x2*0 + 1\n",
    "ax[1, 0].plot(np.hstack([x1, x2]), np.hstack([y1, y2]), color='crimson')\n",
    "ax[1, 0].legend(['$limit()$'])\n",
    "ax[1, 0].axis(ax_size)\n",
    "ax[1, 0].set_title('Hard Limit')\n",
    "# linear\n",
    "ax[0, 1].plot(x_full, x_full/3, color='crimson')\n",
    "ax[0, 1].legend(['$y = ax + b$'])\n",
    "ax[0, 1].axis(ax_size)\n",
    "ax[0, 1].set_title('Linear')\n",
    "# relu\n",
    "y1 = x1*0\n",
    "y2 = x2\n",
    "ax[1, 1].plot(np.hstack([x1, x2]), np.hstack([y1, y2/3]), color='crimson')\n",
    "ax[1, 1].legend(['$y = 0 | y = ax$'])\n",
    "ax[1, 1].axis(ax_size)\n",
    "ax[1, 1].set_title('Rectified Linear Unit (ReLU)')\n",
    "# tanh sigmoid\n",
    "y_full = (np.exp(x_full) - np.exp(-x_full))/(np.exp(x_full) + np.exp(-x_full))\n",
    "ax[2, 0].plot(x_full, y_full, color='crimson')\n",
    "ax[2, 0].legend(['$y = (e^{x} - e^{-x})/(e^{x} + e^{-x})$'])\n",
    "ax[2, 0].axis(ax_size)\n",
    "ax[2, 0].set_title('Hyperbolic Tangent (tanh)')\n",
    "# log sigmoid\n",
    "y_full = 1/(1 + np.exp(-x_full))\n",
    "ax[2, 1].plot(x_full, y_full, color='crimson')\n",
    "ax[2, 1].legend(['$y = 1/(1 + e^{-x})$'])\n",
    "ax[2, 1].axis(ax_size)\n",
    "ax[2, 1].set_title('Log-Sigmoid (Logit)')\n",
    "# radial basis\n",
    "y_full = np.exp(- x_full*x_full)\n",
    "ax[3, 0].plot(x_full, y_full, color='crimson')\n",
    "ax[3, 0].legend(['$y = e^{-x^2}$'])\n",
    "ax[3, 0].axis(ax_size)\n",
    "ax[3, 0].set_title('Radial Basis (RBF)')\n",
    "# triangular basis\n",
    "x1 = np.linspace(-5, -1, 30)\n",
    "x2 = np.linspace(-1, 0, 10)\n",
    "x3 = np.linspace(0, 1, 10)\n",
    "x4 = np.linspace(1, 5, 30)\n",
    "y1 = x1*0\n",
    "y2 = x2 + 1\n",
    "y3 = 1 - x3\n",
    "y4 = x4*0\n",
    "ax[3, 1].plot(np.hstack([x1, x2, x3, x4]), np.hstack([y1, y2, y3, y4]), color='crimson')\n",
    "ax[3, 1].legend(['$y = ax | y = -ax$'])\n",
    "ax[3, 1].axis(ax_size)\n",
    "ax[3, 1].set_title('Triangular Basis')\n",
    "# satlin sign\n",
    "x1 = np.linspace(-5, -1, 30)\n",
    "x2 = np.linspace(-1, 0, 10)\n",
    "x3 = np.linspace(0, 1, 10)\n",
    "x4 = np.linspace(1, 5, 30)\n",
    "y1 = x1*0 - 1\n",
    "y2 = x2\n",
    "y3 = x3\n",
    "y4 = x4*0 + 1\n",
    "ax[4, 0].plot(np.hstack([x1, x2, x3, x4]), np.hstack([y1, y2, y3, y4]), color='crimson')\n",
    "ax[4, 0].legend(['$y = -1 | y = 1 | y = ax$'])\n",
    "ax[4, 0].axis(ax_size)\n",
    "ax[4, 0].set_title('Satlin Sign')\n",
    "# satlin\n",
    "x1 = np.linspace(-5, -1, 30)\n",
    "x2 = np.linspace(-1, 0, 10)\n",
    "x3 = np.linspace(0, 1, 10)\n",
    "x4 = np.linspace(1, 5, 30)\n",
    "y1 = x1*0\n",
    "y2 = x2*0\n",
    "y3 = x3\n",
    "y4 = x4*0 + 1\n",
    "ax[4, 1].plot(np.hstack([x1, x2, x3, x4]), np.hstack([y1, y2, y3, y4]), color='crimson')\n",
    "ax[4, 1].legend(['$y = 0 | y = 1 | y = ax$'])\n",
    "ax[4, 1].axis(ax_size)\n",
    "ax[4, 1].set_title('Satlin');"
   ]
  },
  {
   "cell_type": "markdown",
   "metadata": {},
   "source": [
    "And that's not all, for the last layer of the network two other functions are often used.\n",
    "The `compet` function, which outputs a unit value for the maximum input and zeros for\n",
    "all other inputs.\n",
    "\n",
    "$$\\text{compet} = floor \\left( \\frac{x_i}{max(x)} \\right), \\text{for i in }1, 2, \\dots, N$$\n",
    "\n",
    "And the `softmax` functions which scales all inputs so that the sum of all inputs equals a unit.\n",
    "\n",
    "$$\\text{softmax} = \\frac{e^{x_i}}{\\sum_{k = 0}^{N} e^{x_k}} , \\text{for i in }1, 2, \\dots, N$$"
   ]
  },
  {
   "attachments": {
    "ann.svg": {
     "image/svg+xml": [
      "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"
     ]
    }
   },
   "cell_type": "markdown",
   "metadata": {},
   "source": [
    "![ann.svg](attachment:ann.svg)\n",
    "\n",
    "<div style=\"text-align:right\"><sup>Image available as `*ann.svg`</sup></div>"
   ]
  },
  {
   "cell_type": "markdown",
   "metadata": {},
   "source": [
    "## Backpropagation\n",
    "\n",
    "How can we train the perceptrons in the hidden layer?\n",
    "We do not really know what their output should be.\n",
    "We can certainly say that we have all weights in a vector, let's call is $w$,\n",
    "and then we can attempt Gradient Descent to find the best matrix.\n",
    "But GD requires us to have some form of cost (error) function since it is defined as:\n",
    "\n",
    "$$\n",
    "\\nabla E = \\frac{\\partial E}{\\partial p_1}\\hat{\\imath} + \\frac{\\partial E}{\\partial p_2}\\hat{\\jmath} + \\ldots\n",
    "$$\n",
    "\n",
    "The cost function will be multidimensional, exactly one dimension per weight\n",
    "in the vector $w$ and the last dimension being the value of the error itself.\n",
    "The total error of the network will be a sum of the error contribution of each weight\n",
    "(let's say that the vector $e$ is the amount of error each weight introduces):\n",
    "\n",
    "$$E = \\sum a(w^T \\cdot e)$$\n",
    "\n",
    "Where $a$ is the activation function.\n",
    "\n",
    "If we know the contribution of error from each weight, we can derivate the function\n",
    "above and we have all the components of the error vector to perform gradient descent.\n",
    "\n",
    "Simplifying the problem:\n",
    "If we know the classification error of one output perceptron and we know its weights,\n",
    "we can divide it across the weights coming into the perceptron, and then multiply\n",
    "by the weights to get each weight contribution.\n",
    "The contribution of each weight coming into the output perceptron is the contribution\n",
    "of the output of the perceptron in the previous layer.\n",
    "Summing up the output contributions in the previous layer\n",
    "we know the error contributions on the output side of each perceprtron on that layer.\n",
    "We can then repeat the procedure for this layer,\n",
    "and also get the contributions of the output of the previous layer.\n",
    "And so on.\n",
    "\n",
    "In the end we have the error contribution of every weight, which, when applied the\n",
    "derivate of the activation function, is one of the components of the Gradient\n",
    "vector of the cost function at the current location.\n",
    "And going in the opposite direction of the gradient vector in each of its components\n",
    "(i.e. in the direction of each weight, ignoring the dimension of the error itself)\n",
    "we are minimizing the error of the function, and therefore making the network classify better!"
   ]
  },
  {
   "cell_type": "markdown",
   "metadata": {},
   "source": [
    "## Faces\n",
    "\n",
    "The previous more-or-less real problem we faced was face identification with the LFW dataset.\n",
    "This is a quite complex dataset but has a good number of instances.\n",
    "A neural network has a chance of performing a good-enough classification."
   ]
  },
  {
   "cell_type": "code",
   "execution_count": null,
   "metadata": {},
   "outputs": [],
   "source": [
    "from sklearn.datasets import fetch_lfw_people\n",
    "\n",
    "faces = fetch_lfw_people(min_faces_per_person=50)\n",
    "faces.DESCR"
   ]
  },
  {
   "cell_type": "markdown",
   "metadata": {},
   "source": [
    "To save computations - and time - we will perform PCA just once, on the full set."
   ]
  },
  {
   "cell_type": "code",
   "execution_count": null,
   "metadata": {},
   "outputs": [],
   "source": [
    "from sklearn.decomposition import PCA\n",
    "\n",
    "pca = PCA(n_components=200)\n",
    "faces_pca = pca.fit_transform(faces.data)\n",
    "xtrain, xtest, ytrain, ytest = train_test_split(faces_pca, faces.target, test_size=0.2)"
   ]
  },
  {
   "cell_type": "markdown",
   "metadata": {},
   "source": [
    "The hyperparameters are tuned on the training set only.\n",
    "This is the most important concept in ML, therefore I'll keep repeating it."
   ]
  },
  {
   "cell_type": "code",
   "execution_count": null,
   "metadata": {},
   "outputs": [],
   "source": [
    "net = MLPClassifier(hidden_layer_sizes=(300,), alpha=0.001, tol=0.01,\n",
    "                    max_iter=100, solver='sgd', learning_rate='constant')\n",
    "param_dict = {\n",
    "    'alpha': [0.001, 0.01, 0.1, 1.0],\n",
    "    'tol': [0.001, 0.01],\n",
    "}\n",
    "grid = GridSearchCV(net, param_dict, cv=5)\n",
    "grid.fit(xtrain, ytrain)\n",
    "grid.best_estimator_"
   ]
  },
  {
   "cell_type": "markdown",
   "metadata": {},
   "source": [
    "This is a reasonable network, with 300 neurons in the hidden layer."
   ]
  },
  {
   "cell_type": "code",
   "execution_count": null,
   "metadata": {},
   "outputs": [],
   "source": [
    "grid.best_score_"
   ]
  },
  {
   "cell_type": "markdown",
   "metadata": {},
   "source": [
    "And the score is reasonable.\n",
    "But the full report is what we should look at."
   ]
  },
  {
   "cell_type": "code",
   "execution_count": null,
   "metadata": {},
   "outputs": [],
   "source": [
    "yfit = grid.predict(xtest)\n",
    "print(classification_report(ytest, yfit, target_names=faces.target_names))"
   ]
  },
  {
   "cell_type": "markdown",
   "metadata": {},
   "source": [
    "And the confusion matrix to understand misclassification."
   ]
  },
  {
   "cell_type": "code",
   "execution_count": null,
   "metadata": {},
   "outputs": [],
   "source": [
    "m = confusion_matrix(ytest, yfit)\n",
    "fig = plt.figure(figsize=(14, 14))\n",
    "ax = sns.heatmap(m.T, square=True, annot=True, fmt='d', cmap='BuGn',\n",
    "                 xticklabels=faces.target_names, yticklabels=faces.target_names)\n",
    "ax.set(xlabel='true label', ylabel='predicted label');"
   ]
  },
  {
   "cell_type": "markdown",
   "metadata": {},
   "source": [
    "The ANN performs reasonably and we did not even attempt to tune half\n",
    "of all its hyperparameters.\n",
    "That said, the number of hyperparameters is at the same time a strength\n",
    "and a weakness of ANNs.\n",
    "SGD training uses a lot of randomness, and some hyperparameter tuning\n",
    "may react badly to randomness.\n",
    "\n",
    "Let's try to train networks of different sizes,\n",
    "i.e. using the number of neurons in the hidden layer as a tunable hyperparameter.\n",
    "We will train each size of the network twice."
   ]
  },
  {
   "cell_type": "code",
   "execution_count": null,
   "metadata": {},
   "outputs": [],
   "source": [
    "sizes = [10, 30, 60, 100, 200, 300, 600, 900]\n",
    "scores1 = []\n",
    "scores2 = []\n",
    "for size in sizes:\n",
    "    for s in [scores1, scores2]:\n",
    "        print('Trianing net of size', size)\n",
    "        net = MLPClassifier(hidden_layer_sizes=(size,),\n",
    "                            alpha=0.001, max_iter=100, solver='sgd')\n",
    "        net.fit(xtrain, ytrain)\n",
    "        score = net.score(xtest, ytest)\n",
    "        s.append(score)"
   ]
  },
  {
   "cell_type": "markdown",
   "metadata": {},
   "source": [
    "And let's have a look how the scores of all these different networks look."
   ]
  },
  {
   "cell_type": "code",
   "execution_count": null,
   "metadata": {},
   "outputs": [],
   "source": [
    "fig, ax = plt.subplots(figsize=(16, 7))\n",
    "ax.plot(sizes, scores1)\n",
    "ax.plot(sizes, scores2);"
   ]
  },
  {
   "cell_type": "markdown",
   "metadata": {},
   "source": [
    "There is a good deal of randomness in ANN training but we can say that around 300\n",
    "neurons (perceptrons) in the hidden layer we reached some form of plateau in accuracy score.\n",
    "The number of neurons in a layer can be used as a hyperparameter alright,\n",
    "and should be tuned with a grid search.\n",
    "Different layers in the network may be tuned in size independently,\n",
    "the computational effort to train a network can be very big."
   ]
  },
  {
   "cell_type": "markdown",
   "metadata": {},
   "source": [
    "## References\n",
    "\n",
    "[UCI - Glass Identification Dataset][1]\n",
    "\n",
    "[1]: https://archive.ics.uci.edu/ml/datasets/glass+identification \"UCI Glass\""
   ]
  }
 ],
 "metadata": {
  "anaconda-cloud": {},
  "kernelspec": {
   "display_name": "Python 3",
   "language": "python",
   "name": "python3"
  },
  "language_info": {
   "codemirror_mode": {
    "name": "ipython",
    "version": 3
   },
   "file_extension": ".py",
   "mimetype": "text/x-python",
   "name": "python",
   "nbconvert_exporter": "python",
   "pygments_lexer": "ipython3",
   "version": "3.6.3"
  }
 },
 "nbformat": 4,
 "nbformat_minor": 1
}
