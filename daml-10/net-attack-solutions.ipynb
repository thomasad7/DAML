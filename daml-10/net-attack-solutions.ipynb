{
 "cells": [
  {
   "cell_type": "markdown",
   "metadata": {},
   "source": [
    "# DAML Project - Net Attack\n",
    "\n",
    "Michal Grochmal <michal.grochmal@city.ac.uk>"
   ]
  },
  {
   "cell_type": "markdown",
   "metadata": {},
   "source": [
    "We got webserver logs.\n",
    "Each line in the logs is an HTTP request to a honeypot webserver.\n",
    "We also have labels that tell us whether a specific line was\n",
    "a malicious request or not.\n",
    "With this we should try to build an algorithm that,\n",
    "given a new requests, classifies it as malicious or not malicious.\n",
    "\n",
    "The idea of our project is to experience data munging,\n",
    "i.e. transformig data into a useful form for ML\n",
    "and then performing a prototype ML algorithm.\n",
    "It is completely fine to use different tools to preprocess the data\n",
    "and only load it for the `sklearn` bit.\n",
    "Yet, we are going to use `pandas` to perform the preprocessing,\n",
    "since that is what we learned.\n",
    "\n",
    "For a start we will just do the common imports.\n",
    "Plus `json` since the data is JSON formatted."
   ]
  },
  {
   "cell_type": "code",
   "execution_count": 1,
   "metadata": {},
   "outputs": [],
   "source": [
    "import json\n",
    "import numpy as np\n",
    "import pandas as pd\n",
    "import matplotlib.pyplot as plt\n",
    "%matplotlib inline\n",
    "plt.style.use('seaborn-talk')"
   ]
  },
  {
   "cell_type": "markdown",
   "metadata": {},
   "source": [
    "In the data file the JSON strings are in a binary format.\n",
    "Or, more exactly, the JSON string values are either in plain binary\n",
    "dumps or are encoded in the `latin-1` character set.\n",
    "The labels (in the labels file) are simply a number per line,\n",
    "0 meaning a normal sample and 1 meaning an anomaly.\n",
    "\n",
    "Note that every line in the file is a complete JSON structure,\n",
    "i.e. the entire file is not valid JSON, every line is.\n",
    "We need to go through the file line by line and parse the JSON on each line.\n",
    "When we load everything into `pandas` we should also have a look at some records."
   ]
  },
  {
   "cell_type": "code",
   "execution_count": 2,
   "metadata": {},
   "outputs": [
    {
     "data": {
      "text/html": [
       "<div>\n",
       "<style scoped>\n",
       "    .dataframe tbody tr th:only-of-type {\n",
       "        vertical-align: middle;\n",
       "    }\n",
       "\n",
       "    .dataframe tbody tr th {\n",
       "        vertical-align: top;\n",
       "    }\n",
       "\n",
       "    .dataframe thead th {\n",
       "        text-align: right;\n",
       "    }\n",
       "</style>\n",
       "<table border=\"1\" class=\"dataframe\">\n",
       "  <thead>\n",
       "    <tr style=\"text-align: right;\">\n",
       "      <th></th>\n",
       "      <th>bytes_sent</th>\n",
       "      <th>content_length</th>\n",
       "      <th>content_type</th>\n",
       "      <th>cookie_csrftoken</th>\n",
       "      <th>cookie_sessionid</th>\n",
       "      <th>cookie_userid</th>\n",
       "      <th>geoip_city</th>\n",
       "      <th>geoip_country_code3</th>\n",
       "      <th>geoip_country_name</th>\n",
       "      <th>geoip_latitude</th>\n",
       "      <th>...</th>\n",
       "      <th>ssl_cipher</th>\n",
       "      <th>ssl_curves</th>\n",
       "      <th>ssl_protocol</th>\n",
       "      <th>ssl_session_reused</th>\n",
       "      <th>status</th>\n",
       "      <th>time_iso8601</th>\n",
       "      <th>upstream_cache_status</th>\n",
       "      <th>upstream_response_time</th>\n",
       "      <th>upstream_status</th>\n",
       "      <th>label</th>\n",
       "    </tr>\n",
       "  </thead>\n",
       "  <tbody>\n",
       "    <tr>\n",
       "      <th>0</th>\n",
       "      <td>486</td>\n",
       "      <td></td>\n",
       "      <td></td>\n",
       "      <td></td>\n",
       "      <td></td>\n",
       "      <td></td>\n",
       "      <td></td>\n",
       "      <td>USA</td>\n",
       "      <td>United States</td>\n",
       "      <td>13.7500</td>\n",
       "      <td>...</td>\n",
       "      <td>ECDHE-RSA-AES128-GCM-SHA256</td>\n",
       "      <td>0x001d:prime256v1:secp384r1</td>\n",
       "      <td>TLSv1.2</td>\n",
       "      <td>.</td>\n",
       "      <td>301</td>\n",
       "      <td>2018-05-11T03:33:26+00:00</td>\n",
       "      <td></td>\n",
       "      <td></td>\n",
       "      <td></td>\n",
       "      <td>0</td>\n",
       "    </tr>\n",
       "    <tr>\n",
       "      <th>1</th>\n",
       "      <td>2999</td>\n",
       "      <td></td>\n",
       "      <td></td>\n",
       "      <td></td>\n",
       "      <td></td>\n",
       "      <td></td>\n",
       "      <td>Saint Petersburg</td>\n",
       "      <td>RUS</td>\n",
       "      <td>Russian Federation</td>\n",
       "      <td>59.8944</td>\n",
       "      <td>...</td>\n",
       "      <td></td>\n",
       "      <td></td>\n",
       "      <td></td>\n",
       "      <td></td>\n",
       "      <td>200</td>\n",
       "      <td>2018-05-11T03:34:33+00:00</td>\n",
       "      <td>MISS</td>\n",
       "      <td>0.000</td>\n",
       "      <td>200</td>\n",
       "      <td>0</td>\n",
       "    </tr>\n",
       "    <tr>\n",
       "      <th>2</th>\n",
       "      <td>481</td>\n",
       "      <td></td>\n",
       "      <td></td>\n",
       "      <td></td>\n",
       "      <td></td>\n",
       "      <td></td>\n",
       "      <td></td>\n",
       "      <td>USA</td>\n",
       "      <td>United States</td>\n",
       "      <td>13.7500</td>\n",
       "      <td>...</td>\n",
       "      <td>ECDHE-RSA-AES128-GCM-SHA256</td>\n",
       "      <td>0x001d:prime256v1:secp384r1</td>\n",
       "      <td>TLSv1.2</td>\n",
       "      <td>.</td>\n",
       "      <td>301</td>\n",
       "      <td>2018-05-11T03:51:23+00:00</td>\n",
       "      <td></td>\n",
       "      <td></td>\n",
       "      <td></td>\n",
       "      <td>0</td>\n",
       "    </tr>\n",
       "    <tr>\n",
       "      <th>3</th>\n",
       "      <td>449</td>\n",
       "      <td></td>\n",
       "      <td></td>\n",
       "      <td></td>\n",
       "      <td></td>\n",
       "      <td></td>\n",
       "      <td>Edison</td>\n",
       "      <td>USA</td>\n",
       "      <td>United States</td>\n",
       "      <td>40.4981</td>\n",
       "      <td>...</td>\n",
       "      <td></td>\n",
       "      <td></td>\n",
       "      <td></td>\n",
       "      <td></td>\n",
       "      <td>301</td>\n",
       "      <td>2018-05-11T04:02:52+00:00</td>\n",
       "      <td></td>\n",
       "      <td></td>\n",
       "      <td></td>\n",
       "      <td>0</td>\n",
       "    </tr>\n",
       "    <tr>\n",
       "      <th>4</th>\n",
       "      <td>792</td>\n",
       "      <td></td>\n",
       "      <td></td>\n",
       "      <td></td>\n",
       "      <td></td>\n",
       "      <td></td>\n",
       "      <td>Saint Petersburg</td>\n",
       "      <td>RUS</td>\n",
       "      <td>Russian Federation</td>\n",
       "      <td>59.8944</td>\n",
       "      <td>...</td>\n",
       "      <td></td>\n",
       "      <td></td>\n",
       "      <td></td>\n",
       "      <td></td>\n",
       "      <td>200</td>\n",
       "      <td>2018-05-11T05:09:04+00:00</td>\n",
       "      <td></td>\n",
       "      <td></td>\n",
       "      <td></td>\n",
       "      <td>0</td>\n",
       "    </tr>\n",
       "  </tbody>\n",
       "</table>\n",
       "<p>5 rows × 39 columns</p>\n",
       "</div>"
      ],
      "text/plain": [
       "   bytes_sent content_length content_type cookie_csrftoken cookie_sessionid  \\\n",
       "0         486                                                                 \n",
       "1        2999                                                                 \n",
       "2         481                                                                 \n",
       "3         449                                                                 \n",
       "4         792                                                                 \n",
       "\n",
       "  cookie_userid        geoip_city geoip_country_code3  geoip_country_name  \\\n",
       "0                                                 USA       United States   \n",
       "1                Saint Petersburg                 RUS  Russian Federation   \n",
       "2                                                 USA       United States   \n",
       "3                          Edison                 USA       United States   \n",
       "4                Saint Petersburg                 RUS  Russian Federation   \n",
       "\n",
       "  geoip_latitude  ...                    ssl_cipher  \\\n",
       "0        13.7500  ...   ECDHE-RSA-AES128-GCM-SHA256   \n",
       "1        59.8944  ...                                 \n",
       "2        13.7500  ...   ECDHE-RSA-AES128-GCM-SHA256   \n",
       "3        40.4981  ...                                 \n",
       "4        59.8944  ...                                 \n",
       "\n",
       "                    ssl_curves ssl_protocol ssl_session_reused status  \\\n",
       "0  0x001d:prime256v1:secp384r1      TLSv1.2                  .    301   \n",
       "1                                                                 200   \n",
       "2  0x001d:prime256v1:secp384r1      TLSv1.2                  .    301   \n",
       "3                                                                 301   \n",
       "4                                                                 200   \n",
       "\n",
       "                time_iso8601 upstream_cache_status upstream_response_time  \\\n",
       "0  2018-05-11T03:33:26+00:00                                                \n",
       "1  2018-05-11T03:34:33+00:00                  MISS                  0.000   \n",
       "2  2018-05-11T03:51:23+00:00                                                \n",
       "3  2018-05-11T04:02:52+00:00                                                \n",
       "4  2018-05-11T05:09:04+00:00                                                \n",
       "\n",
       "  upstream_status label  \n",
       "0                     0  \n",
       "1             200     0  \n",
       "2                     0  \n",
       "3                     0  \n",
       "4                     0  \n",
       "\n",
       "[5 rows x 39 columns]"
      ]
     },
     "execution_count": 2,
     "metadata": {},
     "output_type": "execute_result"
    }
   ],
   "source": [
    "with open('../data/net-attack-access.log', encoding='latin-1') as f:\n",
    "    df = pd.DataFrame(json.loads(l) for l in f)\n",
    "with open('../data/net-attack-access.labels', encoding='latin-1') as f:\n",
    "    df['label'] = pd.Series(int(l) for l in f)\n",
    "df.head()"
   ]
  },
  {
   "cell_type": "markdown",
   "metadata": {},
   "source": [
    "That looks alright,\n",
    "we got the encoding right and all strings are Python strings now.\n",
    "This also means that the majority of the data types in the data frame are strings.\n",
    "Most machine learning techniques will perform badly (or not at all) on strings,\n",
    "we need a way of transforming them into numbers.\n",
    "\n",
    "But before that let's check the actual data types."
   ]
  },
  {
   "cell_type": "code",
   "execution_count": 3,
   "metadata": {},
   "outputs": [
    {
     "name": "stdout",
     "output_type": "stream",
     "text": [
      "<class 'pandas.core.frame.DataFrame'>\n",
      "RangeIndex: 10789 entries, 0 to 10788\n",
      "Data columns (total 39 columns):\n",
      "bytes_sent                10789 non-null int64\n",
      "content_length            10789 non-null object\n",
      "content_type              10789 non-null object\n",
      "cookie_csrftoken          10789 non-null object\n",
      "cookie_sessionid          10789 non-null object\n",
      "cookie_userid             10789 non-null object\n",
      "geoip_city                10789 non-null object\n",
      "geoip_country_code3       10789 non-null object\n",
      "geoip_country_name        10789 non-null object\n",
      "geoip_latitude            10789 non-null object\n",
      "geoip_longitude           10789 non-null object\n",
      "geoip_region_name         10789 non-null object\n",
      "gzip_ratio                10789 non-null object\n",
      "host                      10789 non-null object\n",
      "http2                     10789 non-null object\n",
      "http_referer              10789 non-null object\n",
      "http_user_agent           10789 non-null object\n",
      "http_x_csrf_token         10789 non-null object\n",
      "http_x_forwarded_for      10789 non-null object\n",
      "remote_addr               10789 non-null object\n",
      "remote_port               10789 non-null int64\n",
      "request                   10789 non-null object\n",
      "request_id                10789 non-null object\n",
      "request_length            10789 non-null int64\n",
      "request_method            10789 non-null object\n",
      "request_time              10789 non-null float64\n",
      "request_uri               10789 non-null object\n",
      "scheme                    10789 non-null object\n",
      "server_protocol           10789 non-null object\n",
      "ssl_cipher                10789 non-null object\n",
      "ssl_curves                10789 non-null object\n",
      "ssl_protocol              10789 non-null object\n",
      "ssl_session_reused        10789 non-null object\n",
      "status                    10789 non-null int64\n",
      "time_iso8601              10789 non-null object\n",
      "upstream_cache_status     10789 non-null object\n",
      "upstream_response_time    10789 non-null object\n",
      "upstream_status           10789 non-null object\n",
      "label                     10789 non-null int64\n",
      "dtypes: float64(1), int64(5), object(33)\n",
      "memory usage: 3.2+ MB\n"
     ]
    }
   ],
   "source": [
    "df.info()"
   ]
  },
  {
   "cell_type": "markdown",
   "metadata": {},
   "source": [
    "We do already have some numbers and probably can keep most of these.\n",
    "Yet, before that, judging from the names - and some domain knowledge on webservers - we can\n",
    "say that there is likely a good deal of repetition and missing data.\n",
    "\n",
    "In other words, we need to find ourselves which columns of the data frame\n",
    "will be useful for us and which will not be useful.\n",
    "One way to do it is to check the number of unique value in each column.\n",
    "If the number of unique values provides with enough variance to\n",
    "discern things we keep the column, otherwise we drop it."
   ]
  },
  {
   "cell_type": "code",
   "execution_count": 4,
   "metadata": {},
   "outputs": [
    {
     "name": "stdout",
     "output_type": "stream",
     "text": [
      "bytes_sent 379\n",
      "content_length 21\n",
      "content_type 16\n",
      "cookie_csrftoken 1\n",
      "cookie_sessionid 1\n",
      "cookie_userid 2\n",
      "geoip_city 609\n",
      "geoip_country_code3 84\n",
      "geoip_country_name 84\n",
      "geoip_latitude 772\n",
      "geoip_longitude 777\n",
      "geoip_region_name 373\n",
      "gzip_ratio 37\n",
      "host 42\n",
      "http2 2\n",
      "http_referer 141\n",
      "http_user_agent 282\n",
      "http_x_csrf_token 1\n",
      "http_x_forwarded_for 7\n",
      "remote_addr 2444\n",
      "remote_port 6806\n",
      "request 472\n",
      "request_id 10789\n",
      "request_length 479\n",
      "request_method 6\n",
      "request_time 67\n",
      "request_uri 384\n",
      "scheme 2\n",
      "server_protocol 4\n",
      "ssl_cipher 8\n",
      "ssl_curves 22\n",
      "ssl_protocol 4\n",
      "ssl_session_reused 3\n",
      "status 12\n",
      "time_iso8601 7630\n",
      "upstream_cache_status 4\n",
      "upstream_response_time 31\n",
      "upstream_status 6\n",
      "label 2\n"
     ]
    }
   ],
   "source": [
    "for i in df.columns:\n",
    "    print(i, len(df[i].unique()))"
   ]
  },
  {
   "cell_type": "markdown",
   "metadata": {},
   "source": [
    "OK, several columns do not have enough variance to tell us anything\n",
    "(for example `http_x_csrf_token` is always empty).\n",
    "Other columns have too much variance, i.e. comparable to the size of the dataset\n",
    "(for example `remote_addr` has as many unique values as a quarter of the dataset).\n",
    "\n",
    "Finally, we can use domain knowledge to reason about a handful of columns.\n",
    "For example, `request_id` seem to be some unique ID generated per connection,\n",
    "certainly not useful for us.\n",
    "Also, `remote_port` has lots of variance; and if it it the remote port\n",
    "from which someone connected to the webserver we can argue that it is a random value\n",
    "(ephemeral ports used to connect to a webserver from a browser or script\n",
    "are indeed assigned randomly)."
   ]
  },
  {
   "cell_type": "code",
   "execution_count": 5,
   "metadata": {},
   "outputs": [
    {
     "name": "stdout",
     "output_type": "stream",
     "text": [
      "<class 'pandas.core.frame.DataFrame'>\n",
      "RangeIndex: 10789 entries, 0 to 10788\n",
      "Data columns (total 22 columns):\n",
      "bytes_sent                10789 non-null int64\n",
      "content_type              10789 non-null object\n",
      "geoip_country_name        10789 non-null object\n",
      "gzip_ratio                10789 non-null object\n",
      "host                      10789 non-null object\n",
      "http2                     10789 non-null object\n",
      "http_referer              10789 non-null object\n",
      "http_user_agent           10789 non-null object\n",
      "http_x_forwarded_for      10789 non-null object\n",
      "request                   10789 non-null object\n",
      "request_length            10789 non-null int64\n",
      "request_method            10789 non-null object\n",
      "request_time              10789 non-null float64\n",
      "request_uri               10789 non-null object\n",
      "scheme                    10789 non-null object\n",
      "server_protocol           10789 non-null object\n",
      "ssl_cipher                10789 non-null object\n",
      "ssl_session_reused        10789 non-null object\n",
      "status                    10789 non-null int64\n",
      "time_iso8601              10789 non-null object\n",
      "upstream_response_time    10789 non-null object\n",
      "label                     10789 non-null int64\n",
      "dtypes: float64(1), int64(4), object(17)\n",
      "memory usage: 1.8+ MB\n"
     ]
    }
   ],
   "source": [
    "df = df.drop([\n",
    "    'content_length',         # only present in POST, duplicate of request_method: POST\n",
    "    'cookie_csrftoken',       # no variance\n",
    "    'cookie_sessionid',       # no variance\n",
    "    'cookie_userid',          # low variance\n",
    "    'geoip_city',             # use geoip_country_name\n",
    "    'geoip_country_code3',    # use geoip_country_name\n",
    "    'geoip_latitude',         # use geoip_country_name\n",
    "    'geoip_latitude',         # use geoip_country_name\n",
    "    'geoip_longitude',        # use geoip_country_name\n",
    "    'geoip_region_name',      # use geoip_country_name\n",
    "    'http_x_csrf_token',      # no variance\n",
    "    'remote_addr',            # too much variance\n",
    "    'remote_port',            # this is actually random\n",
    "    'request_id',             # unique ID\n",
    "    'ssl_curves',             # use ssl_cipher\n",
    "    'ssl_protocol',           # use ssl_cipher,\n",
    "    'upstream_cache_status',  # use upstream_response_time\n",
    "    'upstream_status',        # use upstream_response_time\n",
    "], axis=1)\n",
    "df.info()"
   ]
  },
  {
   "cell_type": "markdown",
   "metadata": {},
   "source": [
    "And we dropped all the columns that would not be useful.\n",
    "This includes columns containing (almost) repeated information.\n",
    "\n",
    "We can now go back to the problem that we still have strings, not numbers.\n",
    "One way to transform strings to numbers is one-hot-encoding,\n",
    "yet we still have several columns which have way too many values\n",
    "to allow for one-hot-encoding.\n",
    "Instead we will try a different way of transforming strings to numbers:\n",
    "We will simply take the length of the string."
   ]
  },
  {
   "cell_type": "code",
   "execution_count": 6,
   "metadata": {},
   "outputs": [
    {
     "name": "stdout",
     "output_type": "stream",
     "text": [
      "<class 'pandas.core.frame.DataFrame'>\n",
      "RangeIndex: 10789 entries, 0 to 10788\n",
      "Data columns (total 22 columns):\n",
      "bytes_sent                10789 non-null int64\n",
      "content_type              10789 non-null int64\n",
      "geoip_country_name        10789 non-null object\n",
      "gzip_ratio                10789 non-null object\n",
      "host                      10789 non-null int64\n",
      "http2                     10789 non-null object\n",
      "http_referer              10789 non-null int64\n",
      "http_user_agent           10789 non-null int64\n",
      "http_x_forwarded_for      10789 non-null int64\n",
      "request                   10789 non-null int64\n",
      "request_length            10789 non-null int64\n",
      "request_method            10789 non-null object\n",
      "request_time              10789 non-null float64\n",
      "request_uri               10789 non-null int64\n",
      "scheme                    10789 non-null object\n",
      "server_protocol           10789 non-null object\n",
      "ssl_cipher                10789 non-null object\n",
      "ssl_session_reused        10789 non-null object\n",
      "status                    10789 non-null int64\n",
      "time_iso8601              10789 non-null object\n",
      "upstream_response_time    10789 non-null object\n",
      "label                     10789 non-null int64\n",
      "dtypes: float64(1), int64(11), object(10)\n",
      "memory usage: 1.8+ MB\n"
     ]
    }
   ],
   "source": [
    "len_columns = [\n",
    "    'content_type',\n",
    "    'host',\n",
    "    'http_referer',\n",
    "    'http_user_agent',\n",
    "    'http_x_forwarded_for',\n",
    "    'request',\n",
    "    'request_uri',\n",
    "]\n",
    "for c in len_columns:\n",
    "    df[c] = df[c].str.len()\n",
    "df.info()"
   ]
  },
  {
   "cell_type": "markdown",
   "metadata": {},
   "source": [
    "We left out 10 columns, these have better ways for us to encode into numbers.\n",
    "Some of the columns *are* numbers,\n",
    "yet `pandas` could not read them as numbers because some values are missing.\n",
    "\n",
    "If we fill the missing values by hand,\n",
    "in this case we will say that a missing value is a zero,\n",
    "we can convert these columns to numbers directly."
   ]
  },
  {
   "cell_type": "code",
   "execution_count": 7,
   "metadata": {},
   "outputs": [
    {
     "name": "stdout",
     "output_type": "stream",
     "text": [
      "<class 'pandas.core.frame.DataFrame'>\n",
      "RangeIndex: 10789 entries, 0 to 10788\n",
      "Data columns (total 22 columns):\n",
      "bytes_sent                10789 non-null int64\n",
      "content_type              10789 non-null int64\n",
      "geoip_country_name        10789 non-null object\n",
      "gzip_ratio                10789 non-null float64\n",
      "host                      10789 non-null int64\n",
      "http2                     10789 non-null object\n",
      "http_referer              10789 non-null int64\n",
      "http_user_agent           10789 non-null int64\n",
      "http_x_forwarded_for      10789 non-null int64\n",
      "request                   10789 non-null int64\n",
      "request_length            10789 non-null int64\n",
      "request_method            10789 non-null object\n",
      "request_time              10789 non-null float64\n",
      "request_uri               10789 non-null int64\n",
      "scheme                    10789 non-null object\n",
      "server_protocol           10789 non-null object\n",
      "ssl_cipher                10789 non-null object\n",
      "ssl_session_reused        10789 non-null object\n",
      "status                    10789 non-null int64\n",
      "time_iso8601              10789 non-null object\n",
      "upstream_response_time    10789 non-null float64\n",
      "label                     10789 non-null int64\n",
      "dtypes: float64(3), int64(11), object(8)\n",
      "memory usage: 1.8+ MB\n"
     ]
    }
   ],
   "source": [
    "numbers = [\n",
    "    'gzip_ratio',\n",
    "    'upstream_response_time',\n",
    "]\n",
    "for c in numbers:\n",
    "    df.loc[df[c] == '', c] = 0  # prevent NaNs\n",
    "    df[c] = pd.to_numeric(df[c])\n",
    "df.info()"
   ]
  },
  {
   "cell_type": "markdown",
   "metadata": {},
   "source": [
    "Two columns we managed to convert directly to numbers.\n",
    "That's good, 8 columns to go.\n",
    "\n",
    "These columns do not have too many values in them.\n",
    "In other words,\n",
    "these are the columns for which one-hot-encoding makes sense.\n",
    "Here we also transform the column *status*,\n",
    "that column is already a number but an HTTP status does not convey a numeric value.\n",
    "For example, HTTP 404 NOT FOUND is not *\"better\"* (or greater) than HTTP 200 OK."
   ]
  },
  {
   "cell_type": "code",
   "execution_count": 8,
   "metadata": {
    "scrolled": true
   },
   "outputs": [
    {
     "data": {
      "text/plain": [
       "Index(['bytes_sent', 'content_type', 'gzip_ratio', 'host', 'http_referer',\n",
       "       'http_user_agent', 'http_x_forwarded_for', 'request', 'request_length',\n",
       "       'request_time',\n",
       "       ...\n",
       "       'status_302', 'status_304', 'status_400', 'status_403', 'status_404',\n",
       "       'status_408', 'status_418', 'status_429', 'status_500', 'status_502'],\n",
       "      dtype='object', length=135)"
      ]
     },
     "execution_count": 8,
     "metadata": {},
     "output_type": "execute_result"
    }
   ],
   "source": [
    "dummies = [\n",
    "    'geoip_country_name',\n",
    "    'http2',\n",
    "    'request_method',\n",
    "    'scheme',\n",
    "    'server_protocol',\n",
    "    'ssl_cipher',\n",
    "    'ssl_session_reused',\n",
    "    'status',\n",
    "]\n",
    "df = pd.get_dummies(df, columns=dummies)\n",
    "df.columns"
   ]
  },
  {
   "cell_type": "markdown",
   "metadata": {},
   "source": [
    "This leaves us with one last column to convert: the time.\n",
    "\n",
    "Let us think for a moment about this one.\n",
    "We are trying to classify malicious requests from non-malicious ones,\n",
    "it is reasonable to argue that malicious requests in some region\n",
    "of the world are likely to happen at a certain time.\n",
    "For example, *local* malicious traffic is most often seen late at night.\n",
    "Therefore we are more interested in the time of day a request happened\n",
    "rather than the exact date and time it happened.\n",
    "We will take the time of day as the hour (in 24 hour format)\n",
    "in which the request happened."
   ]
  },
  {
   "cell_type": "code",
   "execution_count": 9,
   "metadata": {},
   "outputs": [
    {
     "name": "stdout",
     "output_type": "stream",
     "text": [
      "<class 'pandas.core.frame.DataFrame'>\n",
      "RangeIndex: 10789 entries, 0 to 10788\n",
      "Columns: 135 entries, bytes_sent to time_of_day\n",
      "dtypes: float64(3), int64(11), uint8(121)\n",
      "memory usage: 2.4 MB\n"
     ]
    }
   ],
   "source": [
    "df['time_of_day'] = pd.to_datetime(df['time_iso8601']).dt.hour\n",
    "df = df.drop(['time_iso8601'], axis=1)\n",
    "df.info()"
   ]
  },
  {
   "cell_type": "markdown",
   "metadata": {},
   "source": [
    "And we are done with bashing the data into a form that we can use.\n",
    "In other words, we have a dataset on which we can operate ML algorithms.\n",
    "\n",
    "The first thing we should do is to put aside part of the dataset as a test set.\n",
    "We then need to make sure that our models do not see this test set\n",
    "during training and cross validation.\n",
    "The test set will be our way of validating cross validated algorithms.\n",
    "We set 20% of our data as the test set."
   ]
  },
  {
   "cell_type": "code",
   "execution_count": 10,
   "metadata": {},
   "outputs": [],
   "source": [
    "from sklearn.model_selection import train_test_split\n",
    "\n",
    "X_train, X_test, y_train, y_test = train_test_split(\n",
    "    df.drop('label', axis=1).values, df['label'].values, test_size=0.2)"
   ]
  },
  {
   "cell_type": "markdown",
   "metadata": {},
   "source": [
    "The first algorithm we should try should be a simple one.\n",
    "An algorithm which will give us a *baseline* so that we know\n",
    "how badly things may go.\n",
    "\n",
    "We will choose Naive Bayes as our baseline,\n",
    "we saw before that this is a good baseline algorithm."
   ]
  },
  {
   "cell_type": "code",
   "execution_count": 11,
   "metadata": {},
   "outputs": [
    {
     "data": {
      "text/plain": [
       "0.3540315106580167"
      ]
     },
     "execution_count": 11,
     "metadata": {},
     "output_type": "execute_result"
    }
   ],
   "source": [
    "from sklearn.naive_bayes import MultinomialNB\n",
    "\n",
    "model = MultinomialNB()\n",
    "model.fit(X_train, y_train)\n",
    "model.score(X_test, y_test)"
   ]
  },
  {
   "cell_type": "markdown",
   "metadata": {},
   "source": [
    "OK, so that is akin of (or even worse than) a random choice.\n",
    "But wait, this data is not 50% anomalies, 50% normal.\n",
    "\n",
    "Let's check the distribution of the data:"
   ]
  },
  {
   "cell_type": "code",
   "execution_count": 12,
   "metadata": {},
   "outputs": [
    {
     "data": {
      "text/plain": [
       "0.08870145518583743"
      ]
     },
     "execution_count": 12,
     "metadata": {},
     "output_type": "execute_result"
    }
   ],
   "source": [
    "np.sum(df['label'] == 1) / df.shape[0]"
   ]
  },
  {
   "cell_type": "markdown",
   "metadata": {},
   "source": [
    "So we have about 9% anomalies.\n",
    "This means that a trivial algorithm,\n",
    "one that would say that every data point is normal,\n",
    "would still get around 90% of the labels right.\n",
    "Given that we are scoring with slightly better\n",
    "scoring functions than plain accuracy (mean accuracy, F1 score),\n",
    "we can argue that a trivial algorithm would get a score of around 80%.\n",
    "\n",
    "Our attempt above is doing much worse than a trivial algorithm.\n",
    "In other words we are clearly doing something very wrong.\n",
    "What we did wrong is that we forgot to scale the data.\n",
    "Note that using either `StandardScaler` or `MinMaxScaler` works.\n",
    "For the baseline, we will just use one scaler, later we should try both."
   ]
  },
  {
   "cell_type": "code",
   "execution_count": 13,
   "metadata": {},
   "outputs": [
    {
     "data": {
      "text/plain": [
       "0.9494902687673772"
      ]
     },
     "execution_count": 13,
     "metadata": {},
     "output_type": "execute_result"
    }
   ],
   "source": [
    "from sklearn.preprocessing import MinMaxScaler\n",
    "from sklearn.pipeline import make_pipeline\n",
    "\n",
    "model = make_pipeline(MinMaxScaler(), MultinomialNB())\n",
    "model.fit(X_train, y_train)\n",
    "model.score(X_test, y_test)"
   ]
  },
  {
   "cell_type": "markdown",
   "metadata": {},
   "source": [
    "That looks like a good score.\n",
    "Moreover since this is just a baseline.\n",
    "\n",
    "But wait, we just checked that we do not have a balanced dataset.\n",
    "In other words, there's a good chance that this algorithm just classifies\n",
    "almost everything as non-anomalies and gets a good score just because\n",
    "most things in the dataset are not anomalies.\n",
    "\n",
    "We need to break down our evaluation class by class.\n",
    "One way to do it is with a confusion matrix."
   ]
  },
  {
   "cell_type": "code",
   "execution_count": 14,
   "metadata": {},
   "outputs": [
    {
     "data": {
      "text/plain": [
       "array([[1959,   10],\n",
       "       [  99,   90]])"
      ]
     },
     "execution_count": 14,
     "metadata": {},
     "output_type": "execute_result"
    }
   ],
   "source": [
    "from sklearn.metrics import confusion_matrix\n",
    "\n",
    "confusion_matrix(y_test, model.predict(X_test))"
   ]
  },
  {
   "cell_type": "markdown",
   "metadata": {},
   "source": [
    "Ops, that ain't good.\n",
    "There are more *False Negatives* (anomalies classified as non-anomalies)\n",
    "than *True Negatives*!\n",
    "\n",
    "Yet, we did learn one thing:\n",
    "we need to check the confusion matrix to evaluate our algorithms.\n",
    "And we also do have a baseline,\n",
    "any algorithms performing worse than this we can straight away eliminate.\n",
    "\n",
    "Onto more complicated algorithms.\n",
    "Let's start with an SVM."
   ]
  },
  {
   "cell_type": "code",
   "execution_count": 15,
   "metadata": {},
   "outputs": [
    {
     "data": {
      "text/plain": [
       "array([[1966,    3],\n",
       "       [  17,  172]])"
      ]
     },
     "execution_count": 15,
     "metadata": {},
     "output_type": "execute_result"
    }
   ],
   "source": [
    "from sklearn.model_selection import GridSearchCV\n",
    "from sklearn.svm import SVC\n",
    "\n",
    "model = make_pipeline(MinMaxScaler(), SVC(gamma='scale'))\n",
    "param_grid = [\n",
    "    {'svc__kernel': ['linear'], 'svc__C': [0.1, 1, 10]},\n",
    "    {'svc__kernel': ['rbf'], 'svc__C': [0.1, 1, 10]},\n",
    "]\n",
    "grid = GridSearchCV(model, param_grid, cv=5)\n",
    "grid.fit(X_train, y_train)\n",
    "confusion_matrix(y_test, grid.predict(X_test))"
   ]
  },
  {
   "cell_type": "markdown",
   "metadata": {},
   "source": [
    "Much, much better.\n",
    "We can see that we managed to classify the majority of both classes correctly.\n",
    "This is a good algorithm, and we could use it as the algorithm to pass\n",
    "new data through and detect anomalies.\n",
    "Yet, we should still try to tweak it, and see if there are differences.\n",
    "\n",
    "We have not yet tried the `StandardScaler`,\n",
    "which is more resistant to outliers than `MinMaxScaler`.\n",
    "If the outliers affect the workings of our SVM,\n",
    "we should be able to find so by comparing the same model trained under\n",
    "different scalers."
   ]
  },
  {
   "cell_type": "code",
   "execution_count": 16,
   "metadata": {},
   "outputs": [
    {
     "data": {
      "text/plain": [
       "array([[1967,    2],\n",
       "       [  12,  177]])"
      ]
     },
     "execution_count": 16,
     "metadata": {},
     "output_type": "execute_result"
    }
   ],
   "source": [
    "from sklearn.preprocessing import StandardScaler\n",
    "from sklearn.pipeline import make_pipeline\n",
    "\n",
    "model = make_pipeline(StandardScaler(), SVC(gamma='scale'))\n",
    "param_grid = [\n",
    "    {'svc__kernel': ['linear'], 'svc__C': [0.1, 1, 10]},\n",
    "    {'svc__kernel': ['rbf'], 'svc__C': [0.1, 1, 10]},\n",
    "]\n",
    "grid = GridSearchCV(model, param_grid, cv=5)\n",
    "grid.fit(X_train, y_train)\n",
    "confusion_matrix(y_test, grid.predict(X_test))"
   ]
  },
  {
   "cell_type": "markdown",
   "metadata": {},
   "source": [
    "There isn't a big difference.\n",
    "This is still a good algorithm but it is hard to say if\n",
    "it is better or worse than the previous attempt.\n",
    "Both classes are reasonably classified in both attempts.\n",
    "\n",
    "Instead let's try another family of algorithms.\n",
    "Let's try a Random Forest, for a start with a small number of trees."
   ]
  },
  {
   "cell_type": "code",
   "execution_count": 17,
   "metadata": {},
   "outputs": [
    {
     "data": {
      "text/plain": [
       "array([[1969,    0],\n",
       "       [   9,  180]])"
      ]
     },
     "execution_count": 17,
     "metadata": {},
     "output_type": "execute_result"
    }
   ],
   "source": [
    "from sklearn.ensemble import RandomForestClassifier\n",
    "from sklearn.pipeline import Pipeline\n",
    "\n",
    "model = Pipeline([('scaler', StandardScaler()),\n",
    "                  ('rfc', RandomForestClassifier(n_estimators=10))])\n",
    "param_grid = {\n",
    "    'rfc__min_samples_split': [3, 10, 20],\n",
    "    'rfc__min_samples_leaf': [2, 3, 6],\n",
    "    'rfc__bootstrap': [True, False],\n",
    "}\n",
    "grid = GridSearchCV(model, param_grid, cv=5)\n",
    "grid.fit(X_train, y_train)\n",
    "confusion_matrix(y_test, grid.predict(X_test))"
   ]
  },
  {
   "cell_type": "markdown",
   "metadata": {},
   "source": [
    "The RFC performs at pretty much the same level as our previous attempts with SVMs\n",
    "(perhaps a little better but this is more dependent on the data split\n",
    "rather than the algorithm itself).\n",
    "This probably means that we reached the amount of knowledge that we can\n",
    "get out of the data we have.\n",
    "In other words, this is likely as good as it gets for this amount of data.\n",
    "\n",
    "Just as an illustration, let's draw this confusion matrix.\n",
    "i.e. with the true and predicted labels on the axes."
   ]
  },
  {
   "cell_type": "code",
   "execution_count": 18,
   "metadata": {},
   "outputs": [
    {
     "data": {
      "text/plain": [
       "array([[1969,    0],\n",
       "       [   9,  180]])"
      ]
     },
     "execution_count": 18,
     "metadata": {},
     "output_type": "execute_result"
    },
    {
     "data": {
      "image/png": "[encoded data removed]",
      "text/plain": [
       "<Figure size 432x432 with 2 Axes>"
      ]
     },
     "metadata": {
      "needs_background": "light"
     },
     "output_type": "display_data"
    }
   ],
   "source": [
    "import seaborn as sns\n",
    "\n",
    "m = confusion_matrix(y_test, grid.predict(X_test))\n",
    "fig, ax = plt.subplots(figsize=(6, 6))\n",
    "sns.heatmap(m, square=True, annot=True, fmt='d', cmap='ocean_r',\n",
    "            xticklabels=[0, 1], yticklabels=[0,1], ax=ax)\n",
    "ax.set(xlabel='predicted label', ylabel='true label')\n",
    "m"
   ]
  },
  {
   "cell_type": "markdown",
   "metadata": {},
   "source": [
    "This algorithms is good enough for a production environment.\n",
    "One more thing that would be good to add to it is some control over\n",
    "*False Negatives* and *False Positives*,\n",
    "i.e. give the algorithm a control over sensitivity to anomalies.\n",
    "A higher sensitivity would mean more normal traffic classified as an\n",
    "anomaly (FP), and lower sensitivity more anomalies undetected (FN).\n",
    "\n",
    "Both the SVC and the RFC classifiers support a `class_weight` parameter.\n",
    "Adding more weight to the anomaly class (1) increases sensitivity,\n",
    "and reducing that weight decreases sensitivity.\n",
    "The default is the same weight for all classes,\n",
    "which for our case is a minimum sensitivity with almost no False Positives.\n",
    "\n",
    "Finally, such tweaks to `class_weight` depend of our requirements for\n",
    "the algorithm.  The defaults are a good start for a production environment\n",
    "on a webserver: most anomalies are caught but the admin is almost never\n",
    "bothered by False Positives."
   ]
  },
  {
   "cell_type": "markdown",
   "metadata": {},
   "source": [
    "## Extras\n",
    "\n",
    "The outlier detection field also has very specialized algorithms for the\n",
    "task of anomaly detection.\n",
    "They may or may not perform better than what we have used.\n",
    "As an extra exercise you can use a handful of the specialized algorithms,\n",
    "e.g. Local Outlier Factor (for a baseline) and then Isolation Forest.\n",
    "\n",
    "[sklearn Outlier Detection](https://scikit-learn.org/stable/modules/outlier_detection.html)\n",
    "\n",
    "The main difference between what we did above and the specialized algorithms,\n",
    "is that the labels are encoded in a different form.\n",
    "Typically, in outlier detection the normal samples are encoded as 1 and anomalies as -1.\n",
    "This should be easy to adapt with two lines of `NumPy` code."
   ]
  }
 ],
 "metadata": {
  "kernelspec": {
   "display_name": "Python 3",
   "language": "python",
   "name": "python3"
  },
  "language_info": {
   "codemirror_mode": {
    "name": "ipython",
    "version": 3
   },
   "file_extension": ".py",
   "mimetype": "text/x-python",
   "name": "python",
   "nbconvert_exporter": "python",
   "pygments_lexer": "ipython3",
   "version": "3.6.6"
  }
 },
 "nbformat": 4,
 "nbformat_minor": 2
}
