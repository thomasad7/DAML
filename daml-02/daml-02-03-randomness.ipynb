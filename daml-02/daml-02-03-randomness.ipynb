{
 "cells": [
  {
   "cell_type": "markdown",
   "metadata": {},
   "source": [
    "# DAML 02 - Randomness in `NumPy`\n",
    "\n",
    "Michal Grochmal <michal.grochmal@city.ac.uk>"
   ]
  },
  {
   "cell_type": "markdown",
   "metadata": {},
   "source": [
    "The random module seem confusing at first due to the number of functions it provides.\n",
    "In reality you will be only using a handful of these functions 90% of the time.\n",
    "\n",
    "Let's look at what kind of random numbers these functions generate."
   ]
  },
  {
   "cell_type": "code",
   "execution_count": null,
   "metadata": {},
   "outputs": [],
   "source": [
    "# ignore this boilerplate code for now\n",
    "import numpy as np\n",
    "%matplotlib inline\n",
    "import matplotlib.pyplot as plt\n",
    "plt.style.use('seaborn-talk')"
   ]
  },
  {
   "cell_type": "code",
   "execution_count": null,
   "metadata": {},
   "outputs": [],
   "source": [
    "r = {}\n",
    "r['random'] = np.random.random(1024)\n",
    "r['ranf'] = np.random.ranf(1024)\n",
    "r['random_sample'] = np.random.random_sample(1024)\n",
    "r['rand'] = np.random.rand(3, 1024)[0]\n",
    "r['randn'] = np.random.randn(3, 1024)[0]\n",
    "r['randint'] = np.random.randint(0, 512, 1024)\n",
    "#r['random_integers'] = np.random.random_integers(0, 2048, 1024)  # deprecated\n",
    "r['choice'] = np.random.choice(np.arange(512), 1024)\n",
    "r['rbytes'] = np.array([int(x) for x in np.random.bytes(1024)])\n",
    "fig, ax = plt.subplots(3, 3, figsize=(13, 13))\n",
    "fig.subplots_adjust(hspace=0.6)\n",
    "order = ['random', 'ranf', 'random_sample', 'rand', 'randn', 'randint', 'choice', 'rbytes']\n",
    "for idx, dist in enumerate(order):\n",
    "    ax[idx // 3, idx % 3].hist(r[dist], bins=50)\n",
    "    ax[idx // 3, idx % 3].title.set_text(dist)\n",
    "for dist in ['random', 'ranf', 'randn']:\n",
    "    ax[2, 2].hist(r[dist], bins=50, alpha=0.5, normed=True)\n",
    "    ax[2, 2].title.set_text('compare')"
   ]
  },
  {
   "cell_type": "code",
   "execution_count": null,
   "metadata": {},
   "outputs": [],
   "source": [
    "rng = np.random.RandomState(42)\n",
    "r = {}\n",
    "#r['random'] = rng.random(1024)\n",
    "#r['ranf'] = rng.ranf(1024)\n",
    "r['random_sample'] = rng.random_sample(1024)\n",
    "r['rand'] = rng.rand(3, 1024)[0]\n",
    "r['randn'] = rng.randn(3, 1024)[0]\n",
    "r['randint'] = rng.randint(0, 512, 1024)\n",
    "r['choice'] = rng.choice(np.arange(512), 1024)\n",
    "r['rbytes'] = np.array([int(x) for x in rng.bytes(1024)])\n",
    "fig, ax = plt.subplots(3, 2, figsize=(13, 13))\n",
    "fig.subplots_adjust(hspace=0.6)\n",
    "order = ['random_sample', 'rand', 'randn', 'randint', 'choice', 'rbytes']\n",
    "for idx, dist in enumerate(order):\n",
    "    ax[idx // 2, idx % 2].hist(r[dist], bins=50)\n",
    "    ax[idx // 2, idx % 2].title.set_text(dist)"
   ]
  },
  {
   "cell_type": "code",
   "execution_count": null,
   "metadata": {},
   "outputs": [],
   "source": [
    "r = {}\n",
    "r['n1'] = rng.normal(0, 1, 1024)\n",
    "r['n2'] = rng.normal(1, 1, 1024)\n",
    "r['n3'] = rng.normal(-1, 3, 1024)\n",
    "for dist in r.keys():\n",
    "    plt.hist(r[dist], bins=30, alpha=0.3)"
   ]
  },
  {
   "cell_type": "markdown",
   "metadata": {},
   "source": [
    "There are many more distributions to select random numbers from:\n",
    "*binomial*, *pareto* and *weibull* are some common ones.  The full list of\n",
    "functions can be found in the [numpy documentation][nprnd].\n",
    "As well as in the in-built documentation.\n",
    "\n",
    "[nprnd]: https://docs.scipy.org/doc/numpy/reference/routines.random.html \"NumPy random\""
   ]
  },
  {
   "cell_type": "code",
   "execution_count": null,
   "metadata": {},
   "outputs": [],
   "source": [
    "np.random?"
   ]
  }
 ],
 "metadata": {
  "kernelspec": {
   "display_name": "Python 3",
   "language": "python",
   "name": "python3"
  },
  "language_info": {
   "codemirror_mode": {
    "name": "ipython",
    "version": 3
   },
   "file_extension": ".py",
   "mimetype": "text/x-python",
   "name": "python",
   "nbconvert_exporter": "python",
   "pygments_lexer": "ipython3",
   "version": "3.6.3"
  }
 },
 "nbformat": 4,
 "nbformat_minor": 2
}
