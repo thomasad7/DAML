{
 "cells": [
  {
   "cell_type": "markdown",
   "metadata": {},
   "source": [
    "# DAML 02 - Random Walk\n",
    "\n",
    "Michal Grochmal <michal.grochmal@city.ac.uk>"
   ]
  },
  {
   "cell_type": "markdown",
   "metadata": {},
   "source": [
    "A random walk is a mathematical concept where random steps are performed repeatedly.\n",
    "Each step consist of adding a random number the the current cumulative sum of all previous steps.\n",
    "Variants of the random walk allow the random numbers to be units (-1 or 1), floating points,\n",
    "limited within a range, and/or taken from a distribution.\n",
    "\n",
    "Several stochastic processes can be modeled through a random walk,\n",
    "notably processes seen in nature.\n",
    "We will simulate a handful of random walks and get a hang of vectorized computing\n",
    "and simple plotting in the process.\n",
    "\n",
    "The `pyplot` is an interface to many plotting facilities in `matplotlib`.\n",
    "For now do not worry about the `%matplotlib inline` line."
   ]
  },
  {
   "cell_type": "code",
   "execution_count": null,
   "metadata": {},
   "outputs": [],
   "source": [
    "import numpy as np\n",
    "import matplotlib.pyplot as plt\n",
    "%matplotlib inline\n",
    "plt.style.use('seaborn-talk')"
   ]
  },
  {
   "cell_type": "markdown",
   "metadata": {},
   "source": [
    "## Vectorized Summing\n",
    "\n",
    "We generate a simple random walk by generating random numbers and summing them."
   ]
  },
  {
   "cell_type": "code",
   "execution_count": null,
   "metadata": {},
   "outputs": [],
   "source": [
    "rng = np.random.RandomState(42)\n",
    "steps = 1024\n",
    "numbers = rng.randint(-9, 10, steps)\n",
    "sums = numbers.cumsum()\n",
    "plt.figure(figsize=(14, 6))\n",
    "plt.plot(sums);"
   ]
  },
  {
   "cell_type": "markdown",
   "metadata": {},
   "source": [
    "What we did is a loop without actually writing a loop: an aggregation.\n",
    "Yet, we can do better.\n",
    "If we generate a matrix of random numbers we can sum across columns,\n",
    "and build several random walks at once."
   ]
  },
  {
   "cell_type": "code",
   "execution_count": null,
   "metadata": {},
   "outputs": [],
   "source": [
    "rng = np.random.RandomState(42)\n",
    "steps = 1024\n",
    "runs = 32\n",
    "numbers = rng.randint(-9, 10, (runs, steps))\n",
    "sums = numbers.cumsum(axis=1)\n",
    "plt.figure(figsize=(14, 6))\n",
    "plt.plot(sums.T);"
   ]
  },
  {
   "cell_type": "markdown",
   "metadata": {},
   "source": [
    "### Step by Step\n",
    "\n",
    "That was a lot to take in, slow down.\n",
    "Let's reduce the number of steps and walks and do an in-deep look at every piece of that code."
   ]
  },
  {
   "cell_type": "code",
   "execution_count": null,
   "metadata": {},
   "outputs": [],
   "source": [
    "rng = np.random.RandomState(42)\n",
    "steps = 6\n",
    "runs = 3\n",
    "numbers = rng.randint(-9, 10, (runs, steps))\n",
    "numbers"
   ]
  },
  {
   "cell_type": "markdown",
   "metadata": {},
   "source": [
    "We have three sets of random numbers, three rows in a matrix."
   ]
  },
  {
   "cell_type": "code",
   "execution_count": null,
   "metadata": {},
   "outputs": [],
   "source": [
    "sums = numbers.cumsum(axis=1)\n",
    "sums"
   ]
  },
  {
   "cell_type": "markdown",
   "metadata": {},
   "source": [
    "`axis=1` means: perform the aggregation *across* columns.\n",
    "Therefore we performed a cumulative sum inside each row,\n",
    "we now have three random walks inside each row."
   ]
  },
  {
   "cell_type": "code",
   "execution_count": null,
   "metadata": {},
   "outputs": [],
   "source": [
    "sums.T"
   ]
  },
  {
   "cell_type": "markdown",
   "metadata": {},
   "source": [
    "The plotting engine understands *columns* as separate functions,\n",
    "therefore we need to transpose (`.T`) the matrix for plotting.\n",
    "We only need to call `plt.figure` to parametrize the image, in this case its size, in inches.\n",
    "The default size of the image is 5 by 5 inches, which is quite small for most uses.\n",
    "\n",
    "Note: The notebook main area uses a resolution of 72 DPI (dots per inch).\n",
    "Which means that its width resolution of 14-15 inches is just around 1024 pixels.\n",
    "Any image bigger than that (in pixels or inches) will be scaled down,\n",
    "and its aspect ratio adapted accordingly."
   ]
  },
  {
   "cell_type": "code",
   "execution_count": null,
   "metadata": {},
   "outputs": [],
   "source": [
    "plt.figure(figsize=(14, 6))\n",
    "plt.plot(sums.T);"
   ]
  },
  {
   "cell_type": "markdown",
   "metadata": {},
   "source": [
    "Let's go back to the full example."
   ]
  },
  {
   "cell_type": "code",
   "execution_count": null,
   "metadata": {},
   "outputs": [],
   "source": [
    "rng = np.random.RandomState(42)\n",
    "steps = 1024\n",
    "runs = 32\n",
    "numbers = rng.randint(-9, 10, (runs, steps))\n",
    "sums = numbers.cumsum(axis=1)\n",
    "plt.figure(figsize=(14, 6))\n",
    "plt.plot(sums.T);"
   ]
  },
  {
   "cell_type": "markdown",
   "metadata": {},
   "source": [
    "## Data Features\n",
    "\n",
    "We can extract statistics (also called features) about the walks.\n",
    "For example, the walk that reached the higher number at the end."
   ]
  },
  {
   "cell_type": "code",
   "execution_count": null,
   "metadata": {},
   "outputs": [],
   "source": [
    "sums[:, -1].argmax()"
   ]
  },
  {
   "cell_type": "markdown",
   "metadata": {},
   "source": [
    "Or the smallest value."
   ]
  },
  {
   "cell_type": "code",
   "execution_count": null,
   "metadata": {},
   "outputs": [],
   "source": [
    "sums[:, -1].argmin()"
   ]
  },
  {
   "cell_type": "markdown",
   "metadata": {},
   "source": [
    "How many walks turned on the positive side?"
   ]
  },
  {
   "cell_type": "code",
   "execution_count": null,
   "metadata": {},
   "outputs": [],
   "source": [
    "np.sum(sums[:, -1] > 0)"
   ]
  },
  {
   "cell_type": "markdown",
   "metadata": {},
   "source": [
    "How many walks stray above 100 or below -100?"
   ]
  },
  {
   "cell_type": "code",
   "execution_count": null,
   "metadata": {},
   "outputs": [],
   "source": [
    "np.sum(np.abs(sums[:, -1]) > 100)"
   ]
  },
  {
   "cell_type": "markdown",
   "metadata": {},
   "source": [
    "Which was the first walk to stray 100 (or -100) from the origin?\n",
    "\n",
    "This is slightly more complicated because we want to consider only the walks that stray that much.\n",
    "Also note that `argmax` (and `argmin`) will take the *first* maximum (or minimum) value in an array,\n",
    "i.e. if there is more than a single maximum value.\n",
    "In the case of a boolean array (as below) `argmax` will give the index of the first `True` value."
   ]
  },
  {
   "cell_type": "code",
   "execution_count": null,
   "metadata": {},
   "outputs": [],
   "source": [
    "above = np.abs(sums[:, -1]) > 100\n",
    "(np.abs(sums[above]) > 100).argmax(axis=1).argmin()"
   ]
  },
  {
   "cell_type": "markdown",
   "metadata": {},
   "source": [
    "Let's have a look at that specific random walk."
   ]
  },
  {
   "cell_type": "code",
   "execution_count": null,
   "metadata": {},
   "outputs": [],
   "source": [
    "sums[above][4, :128]"
   ]
  },
  {
   "cell_type": "markdown",
   "metadata": {},
   "source": [
    "Pretty sensible, this random walk reaches 100 very quickly.\n",
    "\n",
    "Another way to reach the same array is to calculate which row index inside `above`\n",
    "corresponds to the row index inside `sums`."
   ]
  },
  {
   "cell_type": "code",
   "execution_count": null,
   "metadata": {},
   "outputs": [],
   "source": [
    "idx = 4\n",
    "sums[(above.cumsum() == (idx + 1)).argmax(), :128]"
   ]
  },
  {
   "cell_type": "markdown",
   "metadata": {},
   "source": [
    "Can you figure out how this works?"
   ]
  }
 ],
 "metadata": {
  "anaconda-cloud": {},
  "kernelspec": {
   "display_name": "Python 3",
   "language": "python",
   "name": "python3"
  },
  "language_info": {
   "codemirror_mode": {
    "name": "ipython",
    "version": 3
   },
   "file_extension": ".py",
   "mimetype": "text/x-python",
   "name": "python",
   "nbconvert_exporter": "python",
   "pygments_lexer": "ipython3",
   "version": "3.6.3"
  }
 },
 "nbformat": 4,
 "nbformat_minor": 1
}
