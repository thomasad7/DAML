{
 "cells": [
  {
   "cell_type": "markdown",
   "metadata": {},
   "source": [
    "# DAML 09 - Image Features\n",
    "\n",
    "Michal Grochmal <michal.grochmal@city.ac.uk>"
   ]
  },
  {
   "cell_type": "markdown",
   "metadata": {},
   "source": [
    "Feature extraction is likely the most important, time consuming and nerve eating\n",
    "activity in a machine learning pipeline.\n",
    "Given enough data (millions of samples) we can perform feature extraction automatically,\n",
    "yet that isn't viable in most cases.\n",
    "For different types of data specialized feature extraction techniques exist.\n",
    "Images probably have the most extensive number of feature building techniques.\n",
    "\n",
    "Working with images we have been using pixel values as input to our models.\n",
    "That is one way of doing things but it isn't the most effective way in practice.\n",
    "Years of computer vision research did produce techniques for feature extraction\n",
    "that easily outperform any form of PCA or fold learning.\n",
    "\n",
    "In the Python world the `scikit-image` is the framework for image manipulation using `NumPy` arrays.  \n",
    "And it is integrated with `matplotlib` too, we import these things fro now."
   ]
  },
  {
   "cell_type": "code",
   "execution_count": null,
   "metadata": {},
   "outputs": [],
   "source": [
    "import numpy as np\n",
    "import matplotlib.pyplot as plt\n",
    "%matplotlib inline\n",
    "plt.style.use('seaborn-talk')"
   ]
  },
  {
   "cell_type": "markdown",
   "metadata": {},
   "source": [
    "`scikit-image`, imported as `skimage`, has several test images, all are just `NumPy` arrays."
   ]
  },
  {
   "cell_type": "code",
   "execution_count": null,
   "metadata": {},
   "outputs": [],
   "source": [
    "from skimage import data\n",
    "camera = data.camera()\n",
    "camera.shape"
   ]
  },
  {
   "cell_type": "markdown",
   "metadata": {},
   "source": [
    "A two dimensional `NumPy` array is a gray-scale image."
   ]
  },
  {
   "cell_type": "code",
   "execution_count": null,
   "metadata": {},
   "outputs": [],
   "source": [
    "fit, ax = plt.subplots(figsize=(14, 14))\n",
    "ax.imshow(camera, cmap='binary_r');"
   ]
  },
  {
   "cell_type": "markdown",
   "metadata": {},
   "source": [
    "A color image is a three dimensional image where the last (rightmost)\n",
    "dimension are the color channels (most often but not always RGB).\n",
    "`skimage` tries to build standards for image representations as arrays,\n",
    "their standards are:\n",
    "\n",
    "| image                      | coordinates                   |\n",
    "|:-------------------------- |:----------------------------- |\n",
    "| 2D gray-scale              | (row, column)                 |\n",
    "| 2D color image             | (row, column, channel)        |\n",
    "| 3D gray-scale (e.g. video) | (frame, row, column)          |\n",
    "| 3D color (e.g. video)      | (frame, row, column, channel) |"
   ]
  },
  {
   "cell_type": "code",
   "execution_count": null,
   "metadata": {},
   "outputs": [],
   "source": [
    "fit, ax = plt.subplots(figsize=(14, 14))\n",
    "coffee = data.coffee()\n",
    "ax.imshow(coffee)\n",
    "coffee.shape"
   ]
  },
  {
   "cell_type": "markdown",
   "metadata": {},
   "source": [
    "To be fair, videos are complicated to load into `NumPy` arrays.\n",
    "This is mostly due to inter-frame compression in several video formats.\n",
    "Tools, such as `moviepy` or `imageio`, can deal with several video formats\n",
    "but if one can simply dismantle the video into a directory of frames it often produces better results.\n",
    "\n",
    "Images can be read directly into `NumPy` arrays with `skimage`.\n",
    "Most formats are supported, with a couple of special procedures to load TIFF and GIF files."
   ]
  },
  {
   "cell_type": "code",
   "execution_count": null,
   "metadata": {},
   "outputs": [],
   "source": [
    "from skimage import io\n",
    "tulp = io.imread('../../data/rembrandt-tulp.png')"
   ]
  },
  {
   "cell_type": "markdown",
   "metadata": {},
   "source": [
    "Again, this is just a `NumPy` array, therefore we can plot it."
   ]
  },
  {
   "cell_type": "code",
   "execution_count": null,
   "metadata": {},
   "outputs": [],
   "source": [
    "fit, ax = plt.subplots(figsize=(14, 14))\n",
    "ax.imshow(tulp)\n",
    "tulp.shape"
   ]
  },
  {
   "cell_type": "markdown",
   "metadata": {},
   "source": [
    "You may have noticed that the $y$ coordinate of the displayed images is going from top to bottom.\n",
    "This is the common representation in images, despite being different from a Cartesian graph.\n",
    "The `NumPy` array we did just read is ordered in the way the axes above show.\n",
    "\n",
    "We said that the last dimension of the array are the channels,\n",
    "therefore separating the RGB channels is easy."
   ]
  },
  {
   "cell_type": "code",
   "execution_count": null,
   "metadata": {},
   "outputs": [],
   "source": [
    "fit, ax = plt.subplots(1, 3, figsize=(16, 6))\n",
    "component = ['R', 'G', 'B']\n",
    "for i in range(3):\n",
    "    ax.flat[i].imshow(tulp[:, :, i], cmap='binary_r')\n",
    "    ax.flat[i].set_title(component[i])"
   ]
  },
  {
   "cell_type": "markdown",
   "metadata": {},
   "source": [
    "But RGB channels are device specific,\n",
    "and, therefore, very poor for image features.\n",
    "\n",
    "Instead, other representations such a s HSV or LAB are both:\n",
    "device independent and close to how a human sees an image."
   ]
  },
  {
   "cell_type": "code",
   "execution_count": null,
   "metadata": {},
   "outputs": [],
   "source": [
    "from skimage import color\n",
    "tulp_hsv = color.rgb2hsv(tulp)\n",
    "tulp_lab = color.rgb2lab(tulp)\n",
    "fit, ax = plt.subplots(3, 3, figsize=(16, 16))\n",
    "tulp_arr = [tulp, tulp_hsv, tulp_lab]\n",
    "repr_arr = ['RGB', 'HSV', 'LAB']\n",
    "for i in range(3):\n",
    "    for j in range(3):\n",
    "        ax[i, j].imshow(tulp_arr[i][:, :, j], cmap='binary_r')\n",
    "        if not j:\n",
    "            ax[i, j].set_ylabel(repr_arr[i])"
   ]
  },
  {
   "cell_type": "markdown",
   "metadata": {},
   "source": [
    "The $V$ in HSV and the $L$ in LAB representations are actually\n",
    "the transformation we perform when we convert an image to gray-scale.\n",
    "On a decent piece of software that is,\n",
    "bad software often does $R/3 + G/3 +B/3$.\n",
    "\n",
    "`skimage.feature` then has several features that make sense on the lightness ($L$) of an image.\n",
    "The Canny filter is a feature that describes where the image changes the most.\n",
    "It is a *kernel* that walks the image and differentiates between adjacent pixels.\n",
    "High derivatives are then set to one and low ones to zero.\n",
    "\n",
    "This kernel method is called a function *convolution*."
   ]
  },
  {
   "cell_type": "code",
   "execution_count": null,
   "metadata": {},
   "outputs": [],
   "source": [
    "from skimage import feature\n",
    "canny = feature.canny(tulp_lab[:, :, 0], sigma=3)\n",
    "fit, ax = plt.subplots(figsize=(14, 14))\n",
    "ax.imshow(canny, cmap='binary_r');"
   ]
  },
  {
   "cell_type": "markdown",
   "metadata": {},
   "source": [
    "The Sobel filter is similar to the Canny filter\n",
    "but it keeps the scaled values of all derivatives instead of forcing them to zero and one.\n",
    "Contrary to the Canny filter, Sobel does not have a parameter for image scaling\n",
    "therefore we need to do it ourselves.\n",
    "\n",
    "The LAB representation uses floating point numbers,\n",
    "which is acceptable for `skimage` algorithms.\n",
    "Yet `skimage` expects floating points representations to be scaled between\n",
    "-1 and 1 or between 0 and 1.\n",
    "We scale the lightness channel between 0 and 1."
   ]
  },
  {
   "cell_type": "code",
   "execution_count": null,
   "metadata": {},
   "outputs": [],
   "source": [
    "from skimage import filters\n",
    "sobel = filters.sobel(tulp_lab[:, :, 0]/tulp_lab[:, :, 0].max())\n",
    "fit, ax = plt.subplots(figsize=(14,14))\n",
    "ax.imshow(sobel, cmap='binary_r');"
   ]
  },
  {
   "cell_type": "markdown",
   "metadata": {},
   "source": [
    "The painting we are using is actually a rather difficult image to work with:\n",
    "there are very few colors and the light comes from the middle of the picture.\n",
    "As an exercise we will try to segment the image into relevant parts.\n",
    "Most [segmentation techniques][scomp] use color but that is inviable for this one,\n",
    "instead we will use watershed segmentation which uses the same derivatives\n",
    "as the Canny and Soble filters.\n",
    "\n",
    "[segmt]: http://scikit-image.org/docs/dev/api/skimage.segmentation.html#skimage.segmentation.watershed\n",
    "[scomp]: http://scikit-image.org/docs/dev/auto_examples/segmentation/plot_segmentations.html\n",
    "\n",
    "[Watershed segmentation][segmt] attempts to join areas defined by high derivatives\n",
    "by bleeding between the areas.\n",
    "First we blur the image in several disks of diameter of 7 pixels,\n",
    "next we take all gradients (partial derivatives) across the resulting image.\n",
    "We will assume that where the gradients are small we have a continuous area,\n",
    "and where we have high gradients we separate areas.\n",
    "The we use [scipy.ndimage.label][label] to enumerate the areas in the mask we created.\n",
    "Finally we feed the enumerated areas to the watershed algorithm.\n",
    "\n",
    "[label]: https://docs.scipy.org/doc/scipy-1.1.0/reference/generated/scipy.ndimage.label.html\n",
    "\n",
    "Since we are just working with `NumPy` arrays we can do it all with a couple of array operations.\n",
    "Note: the `skimage` documentation warns against using `astype` to convert between float\n",
    "and integer based images, yet what we perform here is the exact implementation of `skimage`'s\n",
    "`img_as_ubyte` procedure."
   ]
  },
  {
   "cell_type": "code",
   "execution_count": null,
   "metadata": {},
   "outputs": [],
   "source": [
    "from skimage import segmentation, morphology\n",
    "from scipy.ndimage import label\n",
    "tulp_float = tulp_lab[:, :, 0] / tulp_lab[:, :, 0].max()\n",
    "tulp_int = (tulp_float * 255).astype(np.uint8)\n",
    "small_gradients = filters.rank.gradient(tulp_int, morphology.disk(7)) < 6\n",
    "labeled, num_features = label(small_gradients)\n",
    "water = segmentation.watershed(tulp_lab[:, :, 0], markers=labeled)\n",
    "fit, ax = plt.subplots(1, 2, figsize=(16, 6))\n",
    "ax.flat[0].imshow(small_gradients, cmap='binary_r')\n",
    "ax.flat[1].imshow(segmentation.mark_boundaries(tulp, water));"
   ]
  },
  {
   "cell_type": "markdown",
   "metadata": {},
   "source": [
    "We have lost of small areas.\n",
    "We could tweak the size of the disk or the value of the minimal gradient to remove them,\n",
    "yet that would impact the borders of the big areas.\n",
    "Let's see how the areas are represented."
   ]
  },
  {
   "cell_type": "code",
   "execution_count": null,
   "metadata": {},
   "outputs": [],
   "source": [
    "fit, ax = plt.subplots(figsize=(14, 14))\n",
    "ax.imshow(water, cmap='binary_r')\n",
    "np.unique(water)"
   ]
  },
  {
   "cell_type": "markdown",
   "metadata": {},
   "source": [
    "Since we are simply dealing with a `NumPy` array,\n",
    "we can join the areas smaller than 512 pixels in tot total into the biggest area.\n",
    "This should remove several of the small areas."
   ]
  },
  {
   "cell_type": "code",
   "execution_count": null,
   "metadata": {},
   "outputs": [],
   "source": [
    "for i in np.unique(water):\n",
    "    if (water == i).sum() < 512:\n",
    "        water[water == i] = 1\n",
    "fit, ax = plt.subplots(1, 2, figsize=(16, 6))\n",
    "ax.flat[0].imshow(water, cmap='binary_r')\n",
    "ax.flat[1].imshow(segmentation.mark_boundaries(tulp, water));"
   ]
  },
  {
   "cell_type": "markdown",
   "metadata": {},
   "source": [
    "Finally, we can mask using `NumPy` arrays.\n",
    "Therefore we can retrieve each of the areas as a separate image.\n",
    "A separate image can then be fed again into feature extraction,\n",
    "and a set of sub-images can be added as features.\n",
    "For example, to retrieve one of the watershed areas."
   ]
  },
  {
   "cell_type": "code",
   "execution_count": null,
   "metadata": {},
   "outputs": [],
   "source": [
    "fit, ax = plt.subplots(figsize=(14, 14))\n",
    "area = tulp.copy()\n",
    "mask = np.zeros_like(tulp[:, :, 0])\n",
    "area_n = 4\n",
    "for channel in range(3):\n",
    "    chan = area[:, :, channel]\n",
    "    chan[~(water == area_n)] = 0\n",
    "mask[water == area_n] = 1\n",
    "rows = mask.sum(axis=1) > 0\n",
    "columns = mask.sum(axis=0) > 0\n",
    "ax.imshow(area[rows, :, :][:, columns, :]);"
   ]
  },
  {
   "cell_type": "markdown",
   "metadata": {},
   "source": [
    "## References\n",
    "\n",
    "- [SciKit Image Documentation][1]\n",
    "- [The image used is Rembrandt's \"Anatomy Lesson of Dr Tulp\" - Image from the VADS' NIRP Project][2]\n",
    "\n",
    "[1]: http://scikit-image.org/docs/stable/index.html \"SciKit Image\"\n",
    "[2]: https://vads.ac.uk/collections/NIRP/index.php \"VADS - NIRP\""
   ]
  }
 ],
 "metadata": {
  "kernelspec": {
   "display_name": "Python 3",
   "language": "python",
   "name": "python3"
  },
  "language_info": {
   "codemirror_mode": {
    "name": "ipython",
    "version": 3
   },
   "file_extension": ".py",
   "mimetype": "text/x-python",
   "name": "python",
   "nbconvert_exporter": "python",
   "pygments_lexer": "ipython3",
   "version": "3.6.3"
  }
 },
 "nbformat": 4,
 "nbformat_minor": 2
}
