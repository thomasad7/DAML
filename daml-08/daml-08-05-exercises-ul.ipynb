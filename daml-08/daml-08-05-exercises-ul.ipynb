{
 "cells": [
  {
   "cell_type": "markdown",
   "metadata": {},
   "source": [
    "# DAML 08 - Unsupervised Learning Exercises\n",
    "\n",
    "Michal Grochmal <michal.grochmal@city.ac.uk>\n",
    "\n",
    "Using PCA to improve the results of the `kmeans` clustering over the handwritten digits\n",
    "does not improve the accuracy/F1 score in any meaningful way.\n",
    "Can we do better using t-SNE since it disengages the number clusters better than PCA?\n",
    "\n",
    "(★★☆)"
   ]
  },
  {
   "cell_type": "markdown",
   "metadata": {},
   "source": [
    "This is how the code looks attempting PCA as the preprocessor:"
   ]
  },
  {
   "cell_type": "code",
   "execution_count": null,
   "metadata": {},
   "outputs": [],
   "source": [
    "import numpy as np\n",
    "import matplotlib.pyplot as plt\n",
    "%matplotlib inline\n",
    "plt.style.use('seaborn-talk')\n",
    "import seaborn as sns\n",
    "from scipy.stats import mode\n",
    "from sklearn.cluster import KMeans\n",
    "from sklearn.datasets import load_digits\n",
    "from sklearn.metrics import accuracy_score, f1_score\n",
    "from sklearn.manifold import TSNE\n",
    "from sklearn.decomposition import PCA\n",
    "from sklearn.metrics import confusion_matrix\n",
    "from sklearn.pipeline import make_pipeline"
   ]
  },
  {
   "cell_type": "code",
   "execution_count": null,
   "metadata": {},
   "outputs": [],
   "source": [
    "digits = load_digits()\n",
    "digits.data.shape"
   ]
  },
  {
   "cell_type": "code",
   "execution_count": null,
   "metadata": {},
   "outputs": [],
   "source": [
    "model = make_pipeline(PCA(n_components=30), KMeans(n_clusters=10))\n",
    "clusters = model.fit_predict(digits.data)\n",
    "labels = np.zeros_like(clusters)\n",
    "for i in range(10):\n",
    "    mask = (clusters == i)\n",
    "    labels[mask] = mode(digits.target[mask])[0]\n",
    "accuracy_score(digits.target, labels), f1_score(digits.target, labels, average='weighted')"
   ]
  },
  {
   "cell_type": "code",
   "execution_count": null,
   "metadata": {},
   "outputs": [],
   "source": [
    "mat = confusion_matrix(digits.target, labels)\n",
    "fig = plt.figure(figsize=(10, 10))\n",
    "ax = sns.heatmap(mat.T, square=True, annot=True, fmt='d', cmap='viridis',\n",
    "                 xticklabels=digits.target_names, yticklabels=digits.target_names)\n",
    "ax.set(xlabel='true label', ylabel='predicted label');"
   ]
  },
  {
   "cell_type": "markdown",
   "metadata": {},
   "source": [
    "That is not an improvement over the plain `kmeans`, we should try t-SNE.\n",
    "Yet, the t-SNE manifold technique in `sklearn` works similarly to a clustering algorithm\n",
    "and is not applicable beyond the data for which it is `fit`.\n",
    "This is a problem since the default `TSNE` class has only the `fit` and `fit_transform` methods,\n",
    "and the pipeline model creation requires that all preprocessors implement both `fit` and `transform` methods.\n",
    "\n",
    "Nothing that we cannot deal with using some hacky Python.\n",
    "Instead of using plain `TSNE` in your pipeline use the class defined below (remember to execute this cell).\n",
    "\n",
    "Evaluate one pipeline using our t-SNE with `n_components=2` and one pipeline with `n_components=3`."
   ]
  },
  {
   "cell_type": "code",
   "execution_count": null,
   "metadata": {},
   "outputs": [],
   "source": [
    "class PipeTSNE(TSNE):\n",
    "    def transform(x):\n",
    "        return self.fit_transform(x)"
   ]
  },
  {
   "cell_type": "code",
   "execution_count": null,
   "metadata": {},
   "outputs": [],
   "source": []
  },
  {
   "cell_type": "code",
   "execution_count": null,
   "metadata": {},
   "outputs": [],
   "source": []
  }
 ],
 "metadata": {
  "anaconda-cloud": {},
  "kernelspec": {
   "display_name": "Python 3",
   "language": "python",
   "name": "python3"
  },
  "language_info": {
   "codemirror_mode": {
    "name": "ipython",
    "version": 3
   },
   "file_extension": ".py",
   "mimetype": "text/x-python",
   "name": "python",
   "nbconvert_exporter": "python",
   "pygments_lexer": "ipython3",
   "version": "3.6.3"
  }
 },
 "nbformat": 4,
 "nbformat_minor": 1
}
