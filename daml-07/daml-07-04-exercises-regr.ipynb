{
 "cells": [
  {
   "cell_type": "markdown",
   "metadata": {},
   "source": [
    "# DAML 07 - Regression Exercises\n",
    "\n",
    "Michal Grochmal <michal.grochmal@city.ac.uk>\n",
    "\n",
    "Exercises rating:\n",
    "\n",
    "★☆☆ - You should be able to based on Python knowledge plus lecture contents.\n",
    "\n",
    "★★☆ - You will need to do extra thinking and some extra reading/searching.\n",
    "\n",
    "★★★ - The answer is difficult to find by a simple search,\n",
    "      requires you to do a considerable amount of extra work by yourself\n",
    "      (feel free to ignore these exercises if you're short on time)."
   ]
  },
  {
   "cell_type": "markdown",
   "metadata": {},
   "source": [
    "The Boston housing dataset is a classical regression set,\n",
    "it contains several socio-economical features and the target price of the houses\n",
    "in several areas of Boston.\n",
    "This set is quite bad for prediction with linear models\n",
    "but we will try to see how far can we get using plain linear regressions.\n",
    "\n",
    "Each exercise depends on the output of the previous one,\n",
    "therefore you need to perform them in  order.\n",
    "First let's import the dataset."
   ]
  },
  {
   "cell_type": "code",
   "execution_count": null,
   "metadata": {},
   "outputs": [],
   "source": [
    "import numpy as np\n",
    "import matplotlib.pyplot as plt\n",
    "%matplotlib inline\n",
    "plt.style.use('seaborn-talk')\n",
    "from sklearn.datasets import load_boston\n",
    "from sklearn.pipeline import make_pipeline\n",
    "from sklearn.linear_model import LinearRegression, Ridge, Lasso\n",
    "from sklearn.preprocessing import PolynomialFeatures\n",
    "from sklearn.model_selection import cross_val_score\n",
    "boston = load_boston()\n",
    "X, y = boston.data, boston.target\n",
    "print(boston.DESCR)\n",
    "boston.feature_names"
   ]
  },
  {
   "cell_type": "markdown",
   "metadata": {},
   "source": [
    "#### 1. Perform simple linear regression and evaluate it through cross-validation (★☆☆)\n",
    "\n",
    "Use 5-fold cross-validation (`cv=5`)."
   ]
  },
  {
   "cell_type": "code",
   "execution_count": null,
   "metadata": {},
   "outputs": [],
   "source": []
  },
  {
   "cell_type": "markdown",
   "metadata": {},
   "source": [
    "#### 2. Find the features that perform better alone (★★☆)\n",
    "\n",
    "Since the output of the previous exercise is quite inconsistent:\n",
    "depending on how we divide the data we get very different results,\n",
    "we need to try to work around the problem.\n",
    "It is likely that the most prominent features will give us a better picture.\n",
    "\n",
    "Use cross-validation and build a model against each single feature.\n",
    "Remember that the `sklearn` models expect a 2D array as the feature argument,\n",
    "therefore select features as `X[:, i:i+1]` instead of `X[:, i]`.\n",
    "\n",
    "The final answer should be all features in order of their relevance\n",
    "as single predictors."
   ]
  },
  {
   "cell_type": "code",
   "execution_count": null,
   "metadata": {},
   "outputs": [],
   "source": []
  },
  {
   "cell_type": "markdown",
   "metadata": {},
   "source": [
    "#### 3. Take the two most important features and build a feature matrix with them alone (★☆☆)"
   ]
  },
  {
   "cell_type": "code",
   "execution_count": null,
   "metadata": {},
   "outputs": [],
   "source": []
  },
  {
   "cell_type": "markdown",
   "metadata": {},
   "source": [
    "#### 4. Scatter plot the two features against each other (★☆☆)"
   ]
  },
  {
   "cell_type": "code",
   "execution_count": null,
   "metadata": {},
   "outputs": [],
   "source": []
  },
  {
   "cell_type": "markdown",
   "metadata": {},
   "source": [
    "#### 5. Use a preprocessing pipeline and try to build a more consistent model (★★☆)\n",
    "\n",
    "From the plot above try to guesstimate a good preprocessing method."
   ]
  },
  {
   "cell_type": "code",
   "execution_count": null,
   "metadata": {},
   "outputs": [],
   "source": []
  }
 ],
 "metadata": {
  "kernelspec": {
   "display_name": "Python 3",
   "language": "python",
   "name": "python3"
  },
  "language_info": {
   "codemirror_mode": {
    "name": "ipython",
    "version": 3
   },
   "file_extension": ".py",
   "mimetype": "text/x-python",
   "name": "python",
   "nbconvert_exporter": "python",
   "pygments_lexer": "ipython3",
   "version": "3.6.3"
  }
 },
 "nbformat": 4,
 "nbformat_minor": 2
}
