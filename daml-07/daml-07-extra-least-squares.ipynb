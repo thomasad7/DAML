{
 "cells": [
  {
   "cell_type": "markdown",
   "metadata": {},
   "source": [
    "# DAML - Least Squares\n",
    "\n",
    "Michal Grochmal <michal.grochmal@city.ac.uk>"
   ]
  },
  {
   "cell_type": "markdown",
   "metadata": {},
   "source": [
    "Linear regression is solved analytically, that is unless we need to perform\n",
    "`Ridge` or `Lasso` parameter filtering.\n",
    "The analytical solution *is* what `sklearn` performs when asked for a linear regression.\n",
    "Here we will try to reach the least squares solution from the scratch.\n",
    "\n",
    "We measure the fit of a line to points by counting residuals,\n",
    "these residuals are the distances of our data points to our model (line).\n",
    "\n",
    "$$r^2 = \\sum_{i=0}^{n} (y_i - (w_0 + w_1x_i))^2$$\n",
    "\n",
    "Let's see how $r^2$ behaves when we change $w_0$ and/or $w_1$ for a group of points:"
   ]
  },
  {
   "cell_type": "code",
   "execution_count": null,
   "metadata": {},
   "outputs": [],
   "source": [
    "import numpy as np\n",
    "import matplotlib.pyplot as plt\n",
    "%matplotlib inline\n",
    "plt.style.use('seaborn-talk')\n",
    "from mpl_toolkits import mplot3d"
   ]
  },
  {
   "cell_type": "code",
   "execution_count": null,
   "metadata": {},
   "outputs": [],
   "source": [
    "def residual(w0, w1, p):\n",
    "    return np.sum((p[:, 0]*w1 + w0 - p[:, 1])**2)\n",
    "\n",
    "\n",
    "scale_factor = 6  # just to scale plots to same size\n",
    "x = np.linspace(0, 10, 16)\n",
    "y = x + 3*np.random.rand(16)\n",
    "points = np.array(list(zip(x, y)))\n",
    "param_range = np.linspace(-20, 20, 100)\n",
    "var_w0 = [residual(x, 0, points) for x in param_range*scale_factor]\n",
    "var_w1 = [residual(0, x, points) for x in param_range]\n",
    "fig, ax = plt.subplots(1, 3, figsize=(16, 6))\n",
    "fig.subplots_adjust(wspace=0.5)\n",
    "ax[0].plot(points[:, 0], points[:, 1], '.')\n",
    "ax[0].set_title('Points to Regress', fontsize=16)\n",
    "ax[1].plot(param_range*scale_factor, var_w0)\n",
    "ax[1].set_title('Varying $w_0$', fontsize=16)\n",
    "ax[1].set_xlabel('$w_0$', rotation=0, fontsize=16)\n",
    "ax[1].set_ylabel('$r^2$', rotation=0, fontsize=16)\n",
    "ax[2].plot(param_range, var_w1)\n",
    "ax[2].set_title('Varying $w_1$', fontsize=16)\n",
    "ax[2].set_xlabel('$w_1$', rotation=0, fontsize=16)\n",
    "ax[2].set_ylabel('$r^2$', rotation=0, fontsize=16);"
   ]
  },
  {
   "cell_type": "markdown",
   "metadata": {},
   "source": [
    "That makes sense, there is one best value for $w_0$ and one best value for $w_1$,\n",
    "where best means the value that minimizes $r^2$.\n",
    "And since $w_0$ and $w_1$ are independent of each other we can search for each value independently.\n",
    "\n",
    "Since $r^2$ in both plots above can be understood as a function of both $w_0$ and $w_1$,\n",
    "i.e. a 3-dimensional function.  We can have a look at it:"
   ]
  },
  {
   "cell_type": "code",
   "execution_count": null,
   "metadata": {},
   "outputs": [],
   "source": [
    "def grid_residual(xy):\n",
    "    def build():\n",
    "        for row in xy:\n",
    "            for i in row:\n",
    "                yield residual(i[0], i[1], points)\n",
    "    return np.array(list(build()))\n",
    "\n",
    "\n",
    "x, y = np.meshgrid(param_range*scale_factor, param_range)\n",
    "xy = np.dstack([x, y])\n",
    "z = grid_residual(xy).reshape(x.shape)\n",
    "fig = plt.figure(figsize=(16, 9))\n",
    "ax = fig.add_subplot(111, projection='3d')\n",
    "ax.plot_wireframe(x, y, z)\n",
    "ax.set_xlabel('$w_0$', fontsize=20)\n",
    "ax.set_ylabel('$w_1$', fontsize=20)\n",
    "ax.set_zlabel('$r^2$', fontsize=20)\n",
    "ax.xaxis.set_rotate_label(False)\n",
    "ax.yaxis.set_rotate_label(False)\n",
    "ax.zaxis.set_rotate_label(False)\n",
    "ax.tick_params(axis='both', labelleft='off', labelbottom='off')\n",
    "ax.view_init(elev=30., azim=65)"
   ]
  },
  {
   "cell_type": "markdown",
   "metadata": {},
   "source": [
    "Good, we have the place where $r^2$ is minimal somewhere at the bottom of this shape.\n",
    "Not that this is not necessarily $r^2 = 0$ but something as close to zero as possible.\n",
    "\n",
    "Since we have a parabola-like surface with a bottom, and the bottom of a parabola is\n",
    "characterized by a derivative equal to zero we can say that at the minimal possible\n",
    "$R^2$ we have $\\frac{\\partial}{\\partial w_0} r^2 = 0$ and\n",
    "$\\frac{\\partial}{\\partial w_1} r^2= 0$.  If we get a hold of the values of\n",
    "$w_0$ and $w_1$ in this point we solved our least squares problem."
   ]
  },
  {
   "cell_type": "markdown",
   "metadata": {},
   "source": [
    "Let's differentiate against $w_0$:\n",
    "\n",
    "$$\n",
    "\\frac{\\partial (r^2)}{\\partial w_0} =\\\\\n",
    "\\frac{\\partial}{\\partial w_0} \\sum_{i=0}^{n} (y_i - (w_0 + w_1x_i))^2 =\\\\\n",
    "\\frac{\\partial}{\\partial w_0} \\sum_{i=0}^{n} (y_i - w_0 - w_1x_i) \\cdot (y_i - w_0 - w_1x_i) =\\\\\n",
    "\\frac{\\partial}{\\partial w_0} \\sum_{i=0}^{n} y_i^2 - 2w_0y_i - 2w_1x_iy_i + 2w_0w_1x_i + w_0^2 + w_1^2x_i^2 =\\\\\n",
    "\\sum_{i=0}^{n} - 2y_i + 2w_1x_i + 2w_0 =\\\\\n",
    "2 \\cdot \\left( \\sum_{i=0}^{n} w_0 + \\sum_{i=0}^{n} w_1x_i - \\sum_{i=0}^{n} y_i \\right) =\\\\\n",
    "2 \\cdot \\left( nw_0 + \\sum_{i=0}^{n} w_1x_i - \\sum_{i=0}^{n} y_i \\right) = 0\n",
    "$$"
   ]
  },
  {
   "cell_type": "markdown",
   "metadata": {},
   "source": [
    "and $w_1$\n",
    "\n",
    "$$\n",
    "\\frac{\\partial (r^2)}{\\partial w_1} =\\\\\n",
    "\\frac{\\partial}{\\partial w_1} \\sum_{i=0}^{n} y_i^2 - 2w_0y_i - 2w_1x_iy_i + 2w_0w_1x_i + w_0^2 + w_1^2x_i^2 =\\\\\n",
    "\\sum_{i=0}^{n} - 2x_iy_i + 2w_0x_i + 2w_1x_i^2 =\\\\\n",
    "2 \\cdot \\left( \\sum_{i=0}^{n} w_0x_i + \\sum_{i=0}^{n} w_1x_i^2 - \\sum_{i=0}^{n} x_iy_i \\right) = 0\n",
    "$$"
   ]
  },
  {
   "cell_type": "markdown",
   "metadata": {},
   "source": [
    "Since these equations equal zero we can simply drop the 2,\n",
    "and we end with a set of two equation with two unknown variables:\n",
    "\n",
    "$$\n",
    "w_0n + w_1 \\sum_{i=0}^{n} x_i = \\sum_{i=0}^{n} y_i\\\\\n",
    "w_0 \\sum_{i=0}^{n} x_i + w_1 \\sum_{i=0}^{n} x_i^2 = \\sum_{i=0}^{n} x_iy_i\n",
    "$$"
   ]
  },
  {
   "cell_type": "markdown",
   "metadata": {},
   "source": [
    "These we can write at matrices and perform the Gaussian elimination to solve the set of equations:\n",
    "\n",
    "$$\n",
    "\\begin{bmatrix}\n",
    "    n & \\sum_{i=0}^{n} x_i\\\\\n",
    "    \\sum_{i=0}^{n} x_i & \\sum_{i=0}^{n} x_i^2\n",
    "\\end{bmatrix}\n",
    "\\begin{bmatrix}\n",
    "    w_0\\\\\n",
    "    w_1\n",
    "\\end{bmatrix}\n",
    "=\n",
    "\\begin{bmatrix}\n",
    "\\sum_{i=0}^{n} y_i\\\\\n",
    "\\sum_{i=0}^{n} x_iy_i\n",
    "\\end{bmatrix}\n",
    "$$"
   ]
  },
  {
   "cell_type": "markdown",
   "metadata": {},
   "source": [
    "We multiply both sides by the inverse matrix:\n",
    "\n",
    "$$\n",
    "\\begin{bmatrix}\n",
    "    w_0\\\\\n",
    "    w_1\n",
    "\\end{bmatrix}\n",
    "=\n",
    "\\begin{bmatrix}\n",
    "    n & \\sum_{i=0}^{n} x_i\\\\\n",
    "    \\sum_{i=0}^{n} x_i & \\sum_{i=0}^{n} x_i^2\n",
    "\\end{bmatrix}^{-1}\n",
    "\\begin{bmatrix}\n",
    "    \\sum_{i=0}^{n} y_i\\\\\n",
    "    \\sum_{i=0}^{n} x_iy_i\n",
    "\\end{bmatrix}\n",
    "$$"
   ]
  },
  {
   "cell_type": "markdown",
   "metadata": {},
   "source": [
    "Calculate the inverse matrix:\n",
    "    \n",
    "$$\n",
    "\\begin{bmatrix}\n",
    "    w_0\\\\\n",
    "    w_1\n",
    "\\end{bmatrix}\n",
    "=\n",
    "\\frac{1}{n\\sum_{i=0}^{n} x_i^2 - \\sum_{i=0}^{n} x_i \\sum_{i=0}^{n} x_i}\n",
    "\\begin{bmatrix}\n",
    "    \\sum_{i=0}^{n} x_i^2 & -\\sum_{i=0}^{n} x_i\\\\\n",
    "    -\\sum_{i=0}^{n} x_i & n\n",
    "\\end{bmatrix}\n",
    "\\begin{bmatrix}\n",
    "    \\sum_{i=0}^{n} y_i\\\\\n",
    "    \\sum_{i=0}^{n} x_iy_i\n",
    "\\end{bmatrix}\n",
    "=\\\\\n",
    "\\frac{1}{n\\sum_{i=0}^{n} x_i^2 - \\sum_{i=0}^{n} x_i \\sum_{i=0}^{n} x_i}\n",
    "\\begin{bmatrix}\n",
    "    \\sum_{i=0}^{n} x_i^2  \\sum_{i=0}^{n} y_i - \\sum_{i=0}^{n} x_i \\sum_{i=0}^{n} x_iy_i\\\\\n",
    "    n \\sum_{i=0}^{n} x_iy_i -\\sum_{i=0}^{n} x_i \\sum_{i=0}^{n} y_i\n",
    "\\end{bmatrix}\n",
    "$$"
   ]
  },
  {
   "cell_type": "markdown",
   "metadata": {},
   "source": [
    "Now we have independent equations for both $w_0$ and $w_1$:\n",
    "\n",
    "$$\n",
    "w_0 = \\frac{\\sum_{i=0}^{n} x_i^2  \\sum_{i=0}^{n} y_i - \\sum_{i=0}^{n} x_i \\sum_{i=0}^{n} x_iy_i}\n",
    "{n \\sum_{i=0}^{n} x_i^2 - \\sum_{i=0}^{n} x_i \\sum_{i=0}^{n} x_i}\\\\\n",
    "w_1 = \\frac{n \\sum_{i=0}^{n} x_iy_i - \\sum_{i=0}^{n} x_i \\sum_{i=0}^{n} y_i}\n",
    "{n \\sum_{i=0}^{n} x_i^2 - \\sum_{i=0}^{n} x_i \\sum_{i=0}^{n} x_i}\n",
    "$$"
   ]
  },
  {
   "cell_type": "markdown",
   "metadata": {},
   "source": [
    "And since $\\frac{\\sum_{i=0}^{n} x_i}{n} = \\overline{x}$ we can simplify this by dividing\n",
    "both parts of each fraction by $n$:\n",
    "\n",
    "$$\n",
    "w_0 = \\frac{\\overline{y} \\sum_{i=0}^{n} x_i^2 - \\overline{x} \\sum_{i=0}^{n} x_iy_i}\n",
    "{\\sum_{i=0}^{n} x_i^2 - \\overline{x} \\sum_{i=0}^{n} x_i}\\\\\n",
    "w_1 = \\frac{\\sum_{i=0}^{n} x_iy_i - \\overline{x} \\sum_{i=0}^{n} y_i}\n",
    "{\\sum_{i=0}^{n} x_i^2 - \\overline{x} \\sum_{i=0}^{n} x_i}\n",
    "$$"
   ]
  },
  {
   "cell_type": "markdown",
   "metadata": {},
   "source": [
    "If we cleverly select a couple of elements and divide them by $n$\n",
    "again we can simplify further:\n",
    "\n",
    "$$\n",
    "w_0 = \\frac{\\overline{y} \\sum_{i=0}^{n} x_i^2 - \\overline{x} \\sum_{i=0}^{n} x_iy_i}\n",
    "{\\sum_{i=0}^{n} x_i^2 - n \\overline{x}^2}\\\\\n",
    "w_1 = \\frac{\\sum_{i=0}^{n} x_iy_i - n \\overline{x} \\overline{y}}\n",
    "{\\sum_{i=0}^{n} x_i^2 - n \\overline{x}^2}\n",
    "$$\n",
    "\n",
    "Finally we have rather usable equations to solve least squares.\n",
    "The same can be performed for 3-dimensions or more but the number of equations\n",
    "grows geometrically because the calculation of the inverse matrix is quite complex\n",
    "as we add more and more dimensions.  Good thing we have computers."
   ]
  }
 ],
 "metadata": {
  "anaconda-cloud": {},
  "kernelspec": {
   "display_name": "Python 3",
   "language": "python",
   "name": "python3"
  },
  "language_info": {
   "codemirror_mode": {
    "name": "ipython",
    "version": 3
   },
   "file_extension": ".py",
   "mimetype": "text/x-python",
   "name": "python",
   "nbconvert_exporter": "python",
   "pygments_lexer": "ipython3",
   "version": "3.6.3"
  }
 },
 "nbformat": 4,
 "nbformat_minor": 1
}
