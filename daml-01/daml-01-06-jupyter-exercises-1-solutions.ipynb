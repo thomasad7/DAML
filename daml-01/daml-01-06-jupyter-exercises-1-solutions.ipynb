{
 "cells": [
  {
   "cell_type": "markdown",
   "metadata": {},
   "source": [
    "# DAML 01 - Jupyter Exercises 1 - Solutions\n",
    "\n",
    "Michal Grochmal <michal.grochmal@city.ac.uk>\n",
    "\n",
    "Exercises rating:\n",
    "\n",
    "★☆☆ - You should be able to do it based on Python knowledge plus lecture contents.\n",
    "\n",
    "★★☆ - You will need to do extra thinking and some extra reading/searching.\n",
    "\n",
    "★★★ - The answer is difficult to find by a simple search,\n",
    "      requires you to do a considerable amount of extra work by yourself\n",
    "      (feel free to ignore these exercises if you're short on time)."
   ]
  },
  {
   "cell_type": "markdown",
   "metadata": {},
   "source": [
    "#### 1. Download the exercises, open the notebook on your `U:` drive and execute the following. (★☆☆)"
   ]
  },
  {
   "cell_type": "code",
   "execution_count": 1,
   "metadata": {},
   "outputs": [
    {
     "name": "stdout",
     "output_type": "stream",
     "text": [
      "Hello Data\n"
     ]
    }
   ],
   "source": [
    "print('Hello Data')"
   ]
  },
  {
   "cell_type": "markdown",
   "metadata": {},
   "source": [
    "#### 2. Write a Python function that find the **mean** of a list of numbers. (★☆☆)"
   ]
  },
  {
   "cell_type": "code",
   "execution_count": 2,
   "metadata": {},
   "outputs": [
    {
     "name": "stdout",
     "output_type": "stream",
     "text": [
      "2.6666666666666665\n"
     ]
    }
   ],
   "source": [
    "def my_mean(numbers):\n",
    "    return sum(numbers)/len(numbers)\n",
    "\n",
    "\n",
    "print(my_mean([1, 2, 5]))"
   ]
  },
  {
   "cell_type": "markdown",
   "metadata": {},
   "source": [
    "Note: this should raise `ZeroDivisionError` when called with an empty list.\n",
    "This is because the mean of no numbers should not exist.  For a thorough explanation see:\n",
    "<https://math.stackexchange.com/questions/909395/what-is-the-average-of-no-numbers>"
   ]
  },
  {
   "cell_type": "markdown",
   "metadata": {},
   "source": [
    "#### 3. Write a Python function that find the **median** of a list of numbers. (★☆☆)"
   ]
  },
  {
   "cell_type": "code",
   "execution_count": 3,
   "metadata": {
    "scrolled": true
   },
   "outputs": [
    {
     "name": "stdout",
     "output_type": "stream",
     "text": [
      "0.75\n",
      "2\n"
     ]
    }
   ],
   "source": [
    "def my_median(numbers):\n",
    "    items = len(numbers)\n",
    "    if items == 0:\n",
    "        return None\n",
    "    elif items % 2 == 0:  # even\n",
    "        middle_index = items // 2\n",
    "        return numbers[middle_index] / numbers[middle_index + 1]\n",
    "    else:  # odd\n",
    "        return numbers[items // 2]\n",
    "\n",
    "\n",
    "print(my_median([1, 2, 3, 4]))\n",
    "print(my_median([1, 2, 3]))"
   ]
  }
 ],
 "metadata": {
  "kernelspec": {
   "display_name": "Python 3",
   "language": "python",
   "name": "python3"
  },
  "language_info": {
   "codemirror_mode": {
    "name": "ipython",
    "version": 3
   },
   "file_extension": ".py",
   "mimetype": "text/x-python",
   "name": "python",
   "nbconvert_exporter": "python",
   "pygments_lexer": "ipython3",
   "version": "3.6.3"
  }
 },
 "nbformat": 4,
 "nbformat_minor": 1
}
