{
 "cells": [
  {
   "cell_type": "markdown",
   "metadata": {},
   "source": [
    "# DAML 02 - Python Exercises - Solutions\n",
    "\n",
    "Michal Grochmal <michal.grochmal@city.ac.uk>\n",
    "\n",
    "Exercises rating:\n",
    "\n",
    "★☆☆ - You should be able to do it based on Python knowledge plus lecture contents.\n",
    "\n",
    "★★☆ - You will need to do extra thinking and some extra reading/searching.\n",
    "\n",
    "★★★ - The answer is difficult to find by a simple search,\n",
    "      requires you to do a considerable amount of extra work by yourself\n",
    "      (feel free to ignore these exercises if you're short on time)."
   ]
  },
  {
   "cell_type": "markdown",
   "metadata": {},
   "source": [
    "#### 1. Create a function which has a default argument, here is a test for the function. (★☆☆)"
   ]
  },
  {
   "cell_type": "code",
   "execution_count": 1,
   "metadata": {},
   "outputs": [
    {
     "name": "stdout",
     "output_type": "stream",
     "text": [
      "('positional', 'optional')\n",
      "('positional', None)\n"
     ]
    }
   ],
   "source": [
    "# define function here\n",
    "def my_func(north, south=None):\n",
    "    return north, south\n",
    "\n",
    "\n",
    "# test\n",
    "print(my_func('positional', 'optional'))\n",
    "print(my_func('positional'))"
   ]
  },
  {
   "cell_type": "markdown",
   "metadata": {},
   "source": [
    "#### 2. Write a function that receives an arbitrary number of arguments and  prints them. (★☆☆)"
   ]
  },
  {
   "cell_type": "code",
   "execution_count": 2,
   "metadata": {
    "collapsed": true
   },
   "outputs": [],
   "source": [
    "def arbitrary(*args, **kwargs):\n",
    "    print(args, kwargs)"
   ]
  },
  {
   "cell_type": "markdown",
   "metadata": {},
   "source": [
    "#### 3. Call the function above using the list and dictionary provided below (remember that you need to run the cell above). (★☆☆)"
   ]
  },
  {
   "cell_type": "code",
   "execution_count": 3,
   "metadata": {},
   "outputs": [
    {
     "name": "stdout",
     "output_type": "stream",
     "text": [
      "([1, 'two', 3.14], {'pinkie': 'pie', 'rainbow': 'dash'}) {}\n",
      "(1, 'two', 3.14) {'pinkie': 'pie', 'rainbow': 'dash'}\n"
     ]
    }
   ],
   "source": [
    "args = [1, 'two', 3.14]\n",
    "kwargs = {'pinkie': 'pie', 'rainbow': 'dash'}\n",
    "\n",
    "\n",
    "arbitrary(args, kwargs)  # incorrect\n",
    "arbitrary(*args, **kwargs)  # correct"
   ]
  },
  {
   "cell_type": "markdown",
   "metadata": {},
   "source": [
    "#### 4. Rewrite the below function into a list comprehension. (★☆☆)"
   ]
  },
  {
   "cell_type": "code",
   "execution_count": 4,
   "metadata": {
    "collapsed": true
   },
   "outputs": [],
   "source": [
    "def add_five(numbers):\n",
    "    l = []\n",
    "    for num in numbers:\n",
    "        l.append(num + 5)\n",
    "    return l"
   ]
  },
  {
   "cell_type": "code",
   "execution_count": 5,
   "metadata": {},
   "outputs": [
    {
     "data": {
      "text/plain": [
       "[6, 7, 8]"
      ]
     },
     "execution_count": 5,
     "metadata": {},
     "output_type": "execute_result"
    }
   ],
   "source": [
    "numbers = [1, 2, 3]\n",
    "\n",
    "\n",
    "# list comprehension\n",
    "[n + 5 for n in numbers]"
   ]
  },
  {
   "cell_type": "markdown",
   "metadata": {},
   "source": [
    "#### 5. Print the type of `type` (yes, this makes sense :) ). (★★☆)"
   ]
  },
  {
   "cell_type": "code",
   "execution_count": 6,
   "metadata": {},
   "outputs": [
    {
     "name": "stdout",
     "output_type": "stream",
     "text": [
      "<class 'type'>\n"
     ]
    }
   ],
   "source": [
    "print(type(type))"
   ]
  },
  {
   "cell_type": "markdown",
   "metadata": {},
   "source": [
    "#### 6. In the text below, how often each word appears?  (Use list comprehensions.) (★★☆)"
   ]
  },
  {
   "cell_type": "code",
   "execution_count": 7,
   "metadata": {},
   "outputs": [
    {
     "data": {
      "text/plain": [
       "{'ad': 1,\n",
       " 'adipiscing': 1,\n",
       " 'aliqua': 1,\n",
       " 'aliquip': 1,\n",
       " 'amet': 1,\n",
       " 'anim': 1,\n",
       " 'aute': 1,\n",
       " 'cillum': 1,\n",
       " 'commodo': 1,\n",
       " 'consectetur': 1,\n",
       " 'consequat': 1,\n",
       " 'culpa': 1,\n",
       " 'cupidatat': 1,\n",
       " 'deserunt': 1,\n",
       " 'do': 1,\n",
       " 'dolor': 2,\n",
       " 'dolore': 2,\n",
       " 'duis': 1,\n",
       " 'ea': 1,\n",
       " 'eiusmod': 1,\n",
       " 'elit': 1,\n",
       " 'enim': 1,\n",
       " 'esse': 1,\n",
       " 'est': 1,\n",
       " 'et': 1,\n",
       " 'eu': 1,\n",
       " 'ex': 1,\n",
       " 'excepteur': 1,\n",
       " 'exercitation': 1,\n",
       " 'fugiat': 1,\n",
       " 'id': 1,\n",
       " 'in': 3,\n",
       " 'incididunt': 1,\n",
       " 'ipsum': 1,\n",
       " 'irure': 1,\n",
       " 'labore': 1,\n",
       " 'laboris': 1,\n",
       " 'laborum': 1,\n",
       " 'lorem': 1,\n",
       " 'magna': 1,\n",
       " 'minim': 1,\n",
       " 'mollit': 1,\n",
       " 'nisi': 1,\n",
       " 'non': 1,\n",
       " 'nostrud': 1,\n",
       " 'nulla': 1,\n",
       " 'occaecat': 1,\n",
       " 'officia': 1,\n",
       " 'pariatur': 1,\n",
       " 'proident': 1,\n",
       " 'qui': 1,\n",
       " 'quis': 1,\n",
       " 'reprehenderit': 1,\n",
       " 'sed': 1,\n",
       " 'sint': 1,\n",
       " 'sit': 1,\n",
       " 'sunt': 1,\n",
       " 'tempor': 1,\n",
       " 'ullamco': 1,\n",
       " 'ut': 3,\n",
       " 'velit': 1,\n",
       " 'veniam': 1,\n",
       " 'voluptate': 1}"
      ]
     },
     "execution_count": 7,
     "metadata": {},
     "output_type": "execute_result"
    }
   ],
   "source": [
    "lorem_ipsum = \"\"\"\n",
    "Lorem ipsum dolor sit amet, consectetur adipiscing elit,\n",
    "sed do eiusmod tempor incididunt ut labore et dolore magna aliqua.\n",
    "Ut enim ad minim veniam, quis nostrud exercitation ullamco laboris nisi ut aliquip ex ea commodo consequat.\n",
    "Duis aute irure dolor in reprehenderit in voluptate velit esse cillum dolore eu fugiat nulla pariatur.\n",
    "Excepteur sint occaecat cupidatat non proident, sunt in culpa qui officia deserunt mollit anim id est laborum.\n",
    "\"\"\"\n",
    "words = [w.strip(',.').lower() for w in lorem_ipsum.split()]\n",
    "each_word = dict([(w, words.count(w)) for w in words])\n",
    "each_word"
   ]
  },
  {
   "cell_type": "markdown",
   "metadata": {},
   "source": [
    "#### 7. Write a `sum` function that takes an arbitrary number of parameters and can sum numbers or concatenate strings. (★★☆)"
   ]
  },
  {
   "cell_type": "code",
   "execution_count": 8,
   "metadata": {},
   "outputs": [
    {
     "name": "stdout",
     "output_type": "stream",
     "text": [
      "None\n",
      "9\n",
      "the quick brown fox\n",
      "None\n",
      "9\n",
      "the quick brown fox\n"
     ]
    }
   ],
   "source": [
    "def my_sum(*args):\n",
    "    if not args:\n",
    "        return None\n",
    "    if type(args[0]) in (int, float):\n",
    "        tot = 0\n",
    "    else:\n",
    "        tot = ''\n",
    "    for a in args:\n",
    "        tot += a\n",
    "    return tot\n",
    "\n",
    "\n",
    "# shorter version\n",
    "from functools import reduce\n",
    "\n",
    "\n",
    "def reduce_sum(*args):\n",
    "    if not args:\n",
    "        return None\n",
    "    return reduce(lambda x, y: x + y, args)\n",
    "\n",
    "\n",
    "# tests\n",
    "print(my_sum())\n",
    "print(my_sum(1, 2, 6))\n",
    "print(my_sum('the ', 'quick ', 'brown ', 'fox'))\n",
    "print(reduce_sum())\n",
    "print(reduce_sum(1, 2, 6))\n",
    "print(reduce_sum('the ', 'quick ', 'brown ', 'fox'))"
   ]
  }
 ],
 "metadata": {
  "kernelspec": {
   "display_name": "Python 3",
   "language": "python",
   "name": "python3"
  },
  "language_info": {
   "codemirror_mode": {
    "name": "ipython",
    "version": 3
   },
   "file_extension": ".py",
   "mimetype": "text/x-python",
   "name": "python",
   "nbconvert_exporter": "python",
   "pygments_lexer": "ipython3",
   "version": "3.6.3"
  }
 },
 "nbformat": 4,
 "nbformat_minor": 1
}
