{
 "cells": [
  {
   "cell_type": "markdown",
   "metadata": {},
   "source": [
    "# DAML 01 - Jupyter Notebook\n",
    "\n",
    "Michal Grochmal <michal.grochmal@city.ac.uk>"
   ]
  },
  {
   "cell_type": "markdown",
   "metadata": {},
   "source": [
    "In data scienece presenting our results is as important as achieving them.\n",
    "The Jupyter project (previously called IPython Notebook) provides a notebook\n",
    "application which allows runnable pieces of code to be mixed with text and images\n",
    "explaining them.  Support for other languages, apart from Python, has been added\n",
    "a handful of years ago; although the notebook is still mostly a Python niche.\n",
    "\n",
    "Similar to some well known editors (e.g. `vi`) the Jupyter Notebook is modal,\n",
    "i.e. it has modes where different commands are accepted.\n",
    "By default it has two modes an edit/input mode and an command/run mode.\n",
    "Some extensions provide more modes."
   ]
  },
  {
   "cell_type": "markdown",
   "metadata": {},
   "source": [
    "### IPython Kernel\n",
    "\n",
    "Behind the scenes the notebook is connected to a process which executes\n",
    "the commands and returns their results.\n",
    "The engine (the kernel) runs inside a local (or remote) webserver talking to the notebook.\n",
    "Communication between the notebook and the kernel is asynchronous,\n",
    "making for a very responsive interface."
   ]
  },
  {
   "cell_type": "markdown",
   "metadata": {},
   "source": [
    "### Dashboard View\n",
    "\n",
    "Files Tab\n",
    "\n",
    "* Starts in the directory where the notebook was started.\n",
    "* Interactive view of a portion of the filesystem.\n",
    "* Will not go above where it was started.\n",
    "* **New** button creates a kernel (notebook, e.g. Python 3), terminal, directory or other files.\n",
    "* **Upload** button allows for notebook, or file, upload.\n",
    "* Drag and drop works as well for uploading.\n",
    "* Actions: **Duplicate, Rename, Move Download**; when you click on the checkbox of a file.\n",
    "\n",
    "Running Tab\n",
    "\n",
    "* Shows currently running notebooks and terminals.\n",
    "* Terminals are only shown on POSIX systems.\n",
    "* Useful to check what you are actually running.\n",
    "* Displays the language/kernel of each notebook.\n",
    "* Has a shutdown button for each running kernel.\n",
    "\n",
    "Clusters Tab\n",
    "\n",
    "* View of [IPython Parallel](http://ipyparallel.readthedocs.org/en/latest/) clusters.\n",
    "* Not needed for our purposes."
   ]
  },
  {
   "cell_type": "markdown",
   "metadata": {},
   "source": [
    "### Text Editor View\n",
    "\n",
    "* Edits a **`text file`**.\n",
    "* The default extension is **`.txt`**, changing that will guess the file syntax.\n",
    "* The syntax can be explicitly set in the **`Language`** menu.\n",
    "* Several key-bindings are available in the **`Edit`** menu.\n",
    "* Useful to persist some python (or other languages).\n",
    "* Note: For python the **`__init__.py`** file is still needed."
   ]
  },
  {
   "cell_type": "markdown",
   "metadata": {},
   "source": [
    "### Terminal View\n",
    "\n",
    "* An actual **`PTY`** connected through a websocket.\n",
    "* Will not work on MS Windows without heavy hacks.\n",
    "* A full **`xterm`** emulator."
   ]
  },
  {
   "cell_type": "markdown",
   "metadata": {},
   "source": [
    "### Notebook View\n",
    "\n",
    "* Interactive editing and running code from cells.\n",
    "* **Code**, **Markdown** and **Raw** cells.\n",
    "* There is a very useful tour in **`Help -> User Interface Tour`**.\n",
    "\n",
    "#### Header\n",
    "\n",
    "* Used to rename the currently shown notebook.\n",
    "* Application like menu bar.\n",
    "\n",
    "#### Body\n",
    "\n",
    "* Group of cells, one after the other.\n",
    "* **Code** cells run interactive Python (or other kernels).\n",
    "* **Markdown** cells annotate the document.\n",
    "* **Raw** cells are not formatted, useful for specific output, e.g. LaTeX.\n",
    "* Extensions can provide new kinds of cells.\n",
    "\n",
    "#### Modal\n",
    "\n",
    "* In **Edit** mode you modify the contents of the cells.\n",
    "* In **Command** mode you can run or move the cells around.\n",
    "\n",
    "#### Navigation\n",
    "\n",
    "*   The bars on top provide good navigation with the mouse.\n",
    "*   The selected cell has an outline (green in edit mode and blue in command mode).\n",
    "*   **`Help -> Keyboard Shortcuts`** has a huge list of keyboard shortcuts.  Useful examples:\n",
    "    - Run the cell: **`enter`**, **`ctrl-enter`**, **`alt-enter`**, **`shift-enter`**\n",
    "    - Move between cells: **`up/k`**, **`down/j`**\n",
    "    - Saving the notebook: **`ctrl-s`**\n",
    "    - Change heading: **`1-6`**\n",
    "    - Cell types: **`y`**, **`m`**, **`r`**\n",
    "    - Cell creation: **`a`**, **`b`**\n",
    "    - Interrupt Kernel: **`i`**, **`.`**"
   ]
  },
  {
   "cell_type": "markdown",
   "metadata": {},
   "source": [
    "## IPython (the command)\n",
    "\n",
    "The `ipython` program (improved Python) is a command line interface that can\n",
    "be understood as another interface to an IPython Kernel (in reality the\n",
    "IPython Kernel is a modified `ipython` binary, since `ipython` is an older project).\n",
    "For quick exploration or just for people that prefer command line tools\n",
    "(your faithful lecturer included), `ipython` is a good initial option,\n",
    "before moving to result presentation."
   ]
  },
  {
   "cell_type": "markdown",
   "metadata": {},
   "source": [
    "## References\n",
    "\n",
    "* [Jupyter Notebook - User Interface][1]\n",
    "\n",
    "[1]: https://jupyter-notebook.readthedocs.io/en/stable/ui_components.html"
   ]
  }
 ],
 "metadata": {
  "anaconda-cloud": {},
  "kernelspec": {
   "display_name": "Python 3",
   "language": "python",
   "name": "python3"
  },
  "language_info": {
   "codemirror_mode": {
    "name": "ipython",
    "version": 3
   },
   "file_extension": ".py",
   "mimetype": "text/x-python",
   "name": "python",
   "nbconvert_exporter": "python",
   "pygments_lexer": "ipython3",
   "version": "3.6.6"
  }
 },
 "nbformat": 4,
 "nbformat_minor": 1
}
