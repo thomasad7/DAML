{
 "cells": [
  {
   "cell_type": "markdown",
   "metadata": {},
   "source": [
    "# DAML 01 - Jupyter Exercises 2 - Solutions\n",
    "\n",
    "Michal Grochmal <michal.grochmal@city.ac.uk>\n",
    "\n",
    "Exercises rating:\n",
    "\n",
    "★☆☆ - You should be able to do it based on Python knowledge plus lecture contents.\n",
    "\n",
    "★★☆ - You will need to do extra thinking and some extra reading/searching.\n",
    "\n",
    "★★★ - The answer is difficult to find by a simple search,\n",
    "      requires you to do a considerable amount of extra work by yourself\n",
    "      (feel free to ignore these exercises if you're short on time)."
   ]
  },
  {
   "cell_type": "markdown",
   "metadata": {},
   "source": [
    "#### 1. Write a Python class that is instantiated with a list of numbers and has a **`.mean()`** method. (★☆☆)"
   ]
  },
  {
   "cell_type": "code",
   "execution_count": 1,
   "metadata": {
    "scrolled": true
   },
   "outputs": [
    {
     "name": "stdout",
     "output_type": "stream",
     "text": [
      "3.5\n"
     ]
    }
   ],
   "source": [
    "class MyMeanie(object):\n",
    "\n",
    "    def __init__(self, numbers):\n",
    "        self.numbers = numbers\n",
    "\n",
    "    def mean(self):\n",
    "        return sum(self.numbers) / len(self.numbers)\n",
    "\n",
    "\n",
    "meanie = MyMeanie([1, 2, 3, 4, 5, 6])\n",
    "print(meanie.mean())"
   ]
  },
  {
   "cell_type": "markdown",
   "metadata": {},
   "source": [
    "#### 2. Save the following into a file called **`by_zero.py`** on the **`U:`** drive (★★☆)\n",
    "\n",
    "---\n",
    "\n",
    "    def div_xy(x, y):\n",
    "        return x / y\n",
    "\n",
    "    def div_by_zero(x):\n",
    "        return div_xy(x, 0.0)\n",
    "\n",
    "---\n",
    "\n",
    "**`import`** the module and execute the **`div_xy`** function to divide 10 by 2.\n",
    "\n",
    "P.S. You do not need to worry about an **`__init__.py`** file if the module is in the same directory."
   ]
  },
  {
   "cell_type": "code",
   "execution_count": 2,
   "metadata": {},
   "outputs": [
    {
     "name": "stdout",
     "output_type": "stream",
     "text": [
      "Overwriting by_zero.py\n"
     ]
    }
   ],
   "source": [
    "%%writefile by_zero.py\n",
    "\n",
    "def div_xy(x, y):\n",
    "    return x / y\n",
    "\n",
    "\n",
    "def div_by_zero(x):\n",
    "    return div_xy(x, 0.0)"
   ]
  },
  {
   "cell_type": "markdown",
   "metadata": {},
   "source": [
    "Using `%%writefile` is a cheat but it is here for simplicity.\n",
    "Another way of doing this is to:\n",
    "\n",
    "1.  Go into the main page of the notebook\n",
    "2.  Click `new` -> `Text File`\n",
    "3.  Open the text file in the editor\n",
    "4.  Click on the title of the file and rename it to `by_zero.py`\n",
    "5.  Write the contents into the file\n",
    "6.  Click `File` -> `Save`"
   ]
  },
  {
   "cell_type": "code",
   "execution_count": 3,
   "metadata": {
    "scrolled": true
   },
   "outputs": [
    {
     "name": "stdout",
     "output_type": "stream",
     "text": [
      "5.0\n"
     ]
    }
   ],
   "source": [
    "import by_zero\n",
    "\n",
    "\n",
    "print(by_zero.div_xy(10, 2))"
   ]
  },
  {
   "cell_type": "markdown",
   "metadata": {},
   "source": [
    "#### 3. What is the difference between the *magic* in the following cells? (★★☆)"
   ]
  },
  {
   "cell_type": "markdown",
   "metadata": {},
   "source": [
    "This exercise introduces *magics*, commands that perform extra functionality not\n",
    "available in vanilla Python.  The magic introduced is `%xmode`, which toggles between\n",
    "different ways of displaying errors.\n",
    "\n",
    "Detailed error messages will be needed in order to figure out how to attempt the last two exercises. "
   ]
  },
  {
   "cell_type": "code",
   "execution_count": 4,
   "metadata": {},
   "outputs": [
    {
     "name": "stdout",
     "output_type": "stream",
     "text": [
      "Exception reporting mode: Plain\n"
     ]
    },
    {
     "ename": "ZeroDivisionError",
     "evalue": "float division by zero",
     "output_type": "error",
     "traceback": [
      "Traceback \u001b[0;36m(most recent call last)\u001b[0m:\n",
      "  File \u001b[1;32m\"<ipython-input-4-385602bb5b5d>\"\u001b[0m, line \u001b[1;32m3\u001b[0m, in \u001b[1;35m<module>\u001b[0m\n    by_zero.div_by_zero(3)\n",
      "  File \u001b[1;32m\"/home/grochmal/programs/my/daml/city/01-python-jupyter/by_zero.py\"\u001b[0m, line \u001b[1;32m7\u001b[0m, in \u001b[1;35mdiv_by_zero\u001b[0m\n    return div_xy(x, 0.0)\n",
      "\u001b[0;36m  File \u001b[0;32m\"/home/grochmal/programs/my/daml/city/01-python-jupyter/by_zero.py\"\u001b[0;36m, line \u001b[0;32m3\u001b[0;36m, in \u001b[0;35mdiv_xy\u001b[0;36m\u001b[0m\n\u001b[0;31m    return x / y\u001b[0m\n",
      "\u001b[0;31mZeroDivisionError\u001b[0m\u001b[0;31m:\u001b[0m float division by zero\n"
     ]
    }
   ],
   "source": [
    "%xmode Plain\n",
    "\n",
    "by_zero.div_by_zero(3)"
   ]
  },
  {
   "cell_type": "code",
   "execution_count": 5,
   "metadata": {},
   "outputs": [
    {
     "name": "stdout",
     "output_type": "stream",
     "text": [
      "Exception reporting mode: Context\n"
     ]
    },
    {
     "ename": "ZeroDivisionError",
     "evalue": "float division by zero",
     "output_type": "error",
     "traceback": [
      "\u001b[0;31m---------------------------------------------------------------------------\u001b[0m",
      "\u001b[0;31mZeroDivisionError\u001b[0m                         Traceback (most recent call last)",
      "\u001b[0;32m<ipython-input-5-c1a26890c100>\u001b[0m in \u001b[0;36m<module>\u001b[0;34m()\u001b[0m\n\u001b[1;32m      1\u001b[0m \u001b[0mget_ipython\u001b[0m\u001b[0;34m(\u001b[0m\u001b[0;34m)\u001b[0m\u001b[0;34m.\u001b[0m\u001b[0mmagic\u001b[0m\u001b[0;34m(\u001b[0m\u001b[0;34m'xmode Context'\u001b[0m\u001b[0;34m)\u001b[0m\u001b[0;34m\u001b[0m\u001b[0m\n\u001b[1;32m      2\u001b[0m \u001b[0;34m\u001b[0m\u001b[0m\n\u001b[0;32m----> 3\u001b[0;31m \u001b[0mby_zero\u001b[0m\u001b[0;34m.\u001b[0m\u001b[0mdiv_by_zero\u001b[0m\u001b[0;34m(\u001b[0m\u001b[0;36m3\u001b[0m\u001b[0;34m)\u001b[0m\u001b[0;34m\u001b[0m\u001b[0m\n\u001b[0m",
      "\u001b[0;32m~/programs/my/daml/city/01-python-jupyter/by_zero.py\u001b[0m in \u001b[0;36mdiv_by_zero\u001b[0;34m(x)\u001b[0m\n\u001b[1;32m      5\u001b[0m \u001b[0;34m\u001b[0m\u001b[0m\n\u001b[1;32m      6\u001b[0m \u001b[0;32mdef\u001b[0m \u001b[0mdiv_by_zero\u001b[0m\u001b[0;34m(\u001b[0m\u001b[0mx\u001b[0m\u001b[0;34m)\u001b[0m\u001b[0;34m:\u001b[0m\u001b[0;34m\u001b[0m\u001b[0m\n\u001b[0;32m----> 7\u001b[0;31m     \u001b[0;32mreturn\u001b[0m \u001b[0mdiv_xy\u001b[0m\u001b[0;34m(\u001b[0m\u001b[0mx\u001b[0m\u001b[0;34m,\u001b[0m \u001b[0;36m0.0\u001b[0m\u001b[0;34m)\u001b[0m\u001b[0;34m\u001b[0m\u001b[0m\n\u001b[0m",
      "\u001b[0;32m~/programs/my/daml/city/01-python-jupyter/by_zero.py\u001b[0m in \u001b[0;36mdiv_xy\u001b[0;34m(x, y)\u001b[0m\n\u001b[1;32m      1\u001b[0m \u001b[0;34m\u001b[0m\u001b[0m\n\u001b[1;32m      2\u001b[0m \u001b[0;32mdef\u001b[0m \u001b[0mdiv_xy\u001b[0m\u001b[0;34m(\u001b[0m\u001b[0mx\u001b[0m\u001b[0;34m,\u001b[0m \u001b[0my\u001b[0m\u001b[0;34m)\u001b[0m\u001b[0;34m:\u001b[0m\u001b[0;34m\u001b[0m\u001b[0m\n\u001b[0;32m----> 3\u001b[0;31m     \u001b[0;32mreturn\u001b[0m \u001b[0mx\u001b[0m \u001b[0;34m/\u001b[0m \u001b[0my\u001b[0m\u001b[0;34m\u001b[0m\u001b[0m\n\u001b[0m\u001b[1;32m      4\u001b[0m \u001b[0;34m\u001b[0m\u001b[0m\n\u001b[1;32m      5\u001b[0m \u001b[0;34m\u001b[0m\u001b[0m\n",
      "\u001b[0;31mZeroDivisionError\u001b[0m: float division by zero"
     ]
    }
   ],
   "source": [
    "%xmode Context\n",
    "\n",
    "by_zero.div_by_zero(3)"
   ]
  },
  {
   "cell_type": "code",
   "execution_count": 6,
   "metadata": {},
   "outputs": [
    {
     "name": "stdout",
     "output_type": "stream",
     "text": [
      "Exception reporting mode: Verbose\n"
     ]
    },
    {
     "ename": "ZeroDivisionError",
     "evalue": "float division by zero",
     "output_type": "error",
     "traceback": [
      "\u001b[0;31m---------------------------------------------------------------------------\u001b[0m",
      "\u001b[0;31mZeroDivisionError\u001b[0m                         Traceback (most recent call last)",
      "\u001b[0;32m<ipython-input-6-6172cd33050f>\u001b[0m in \u001b[0;36m<module>\u001b[0;34m()\u001b[0m\n\u001b[1;32m      1\u001b[0m \u001b[0mget_ipython\u001b[0m\u001b[0;34m(\u001b[0m\u001b[0;34m)\u001b[0m\u001b[0;34m.\u001b[0m\u001b[0mmagic\u001b[0m\u001b[0;34m(\u001b[0m\u001b[0;34m'xmode Verbose'\u001b[0m\u001b[0;34m)\u001b[0m\u001b[0;34m\u001b[0m\u001b[0m\n\u001b[1;32m      2\u001b[0m \u001b[0;34m\u001b[0m\u001b[0m\n\u001b[0;32m----> 3\u001b[0;31m \u001b[0mby_zero\u001b[0m\u001b[0;34m.\u001b[0m\u001b[0mdiv_by_zero\u001b[0m\u001b[0;34m(\u001b[0m\u001b[0;36m3\u001b[0m\u001b[0;34m)\u001b[0m\u001b[0;34m\u001b[0m\u001b[0m\n\u001b[0m        \u001b[0;36mglobal\u001b[0m \u001b[0;36mby_zero.div_by_zero\u001b[0m \u001b[0;34m= <function div_by_zero at 0x7f28183859d8>\u001b[0m\n",
      "\u001b[0;32m~/programs/my/daml/city/01-python-jupyter/by_zero.py\u001b[0m in \u001b[0;36mdiv_by_zero\u001b[0;34m(x=3)\u001b[0m\n\u001b[1;32m      5\u001b[0m \u001b[0;34m\u001b[0m\u001b[0m\n\u001b[1;32m      6\u001b[0m \u001b[0;32mdef\u001b[0m \u001b[0mdiv_by_zero\u001b[0m\u001b[0;34m(\u001b[0m\u001b[0mx\u001b[0m\u001b[0;34m)\u001b[0m\u001b[0;34m:\u001b[0m\u001b[0;34m\u001b[0m\u001b[0m\n\u001b[0;32m----> 7\u001b[0;31m     \u001b[0;32mreturn\u001b[0m \u001b[0mdiv_xy\u001b[0m\u001b[0;34m(\u001b[0m\u001b[0mx\u001b[0m\u001b[0;34m,\u001b[0m \u001b[0;36m0.0\u001b[0m\u001b[0;34m)\u001b[0m\u001b[0;34m\u001b[0m\u001b[0m\n\u001b[0m        \u001b[0;36mglobal\u001b[0m \u001b[0;36mdiv_xy\u001b[0m \u001b[0;34m= <function div_xy at 0x7f2818385950>\u001b[0m\u001b[0;34m\n        \u001b[0m\u001b[0;36mx\u001b[0m \u001b[0;34m= 3\u001b[0m\n",
      "\u001b[0;32m~/programs/my/daml/city/01-python-jupyter/by_zero.py\u001b[0m in \u001b[0;36mdiv_xy\u001b[0;34m(x=3, y=0.0)\u001b[0m\n\u001b[1;32m      1\u001b[0m \u001b[0;34m\u001b[0m\u001b[0m\n\u001b[1;32m      2\u001b[0m \u001b[0;32mdef\u001b[0m \u001b[0mdiv_xy\u001b[0m\u001b[0;34m(\u001b[0m\u001b[0mx\u001b[0m\u001b[0;34m,\u001b[0m \u001b[0my\u001b[0m\u001b[0;34m)\u001b[0m\u001b[0;34m:\u001b[0m\u001b[0;34m\u001b[0m\u001b[0m\n\u001b[0;32m----> 3\u001b[0;31m     \u001b[0;32mreturn\u001b[0m \u001b[0mx\u001b[0m \u001b[0;34m/\u001b[0m \u001b[0my\u001b[0m\u001b[0;34m\u001b[0m\u001b[0m\n\u001b[0m        \u001b[0;36mx\u001b[0m \u001b[0;34m= 3\u001b[0m\u001b[0;34m\n        \u001b[0m\u001b[0;36my\u001b[0m \u001b[0;34m= 0.0\u001b[0m\n\u001b[1;32m      4\u001b[0m \u001b[0;34m\u001b[0m\u001b[0m\n\u001b[1;32m      5\u001b[0m \u001b[0;34m\u001b[0m\u001b[0m\n",
      "\u001b[0;31mZeroDivisionError\u001b[0m: float division by zero"
     ]
    }
   ],
   "source": [
    "%xmode Verbose\n",
    "\n",
    "by_zero.div_by_zero(3)"
   ]
  },
  {
   "cell_type": "markdown",
   "metadata": {},
   "source": [
    "#### 4. Use `%timeit` to time a function  that takes the mean of a list, compare it with `np.sum` (★★☆)\n",
    "\n",
    "You can use **`np.arange(1024)`** to create a list of the first 1024 integers.  Here is a start:\n",
    "\n",
    "(This ought to take a while to run.)"
   ]
  },
  {
   "cell_type": "code",
   "execution_count": 7,
   "metadata": {
    "collapsed": true
   },
   "outputs": [],
   "source": [
    "def my_mean(numbers):\n",
    "    return sum(numbers)/len(numbers)"
   ]
  },
  {
   "cell_type": "code",
   "execution_count": 8,
   "metadata": {},
   "outputs": [
    {
     "name": "stdout",
     "output_type": "stream",
     "text": [
      "8.69 µs ± 50.8 ns per loop (mean ± std. dev. of 7 runs, 100000 loops each)\n",
      "20.7 µs ± 138 ns per loop (mean ± std. dev. of 7 runs, 10000 loops each)\n",
      "146 µs ± 208 ns per loop (mean ± std. dev. of 7 runs, 10000 loops each)\n"
     ]
    }
   ],
   "source": [
    "import numpy as np\n",
    "\n",
    "\n",
    "long_list = np.arange(1024)\n",
    "%timeit np.sum(long_list)\n",
    "%timeit np.mean(long_list)\n",
    "%timeit my_mean(long_list)"
   ]
  },
  {
   "cell_type": "markdown",
   "metadata": {},
   "source": [
    "Our function takes considerably more time against `np.sum`.  Even when compared to `np.mean`.\n",
    "This means that `numpy` must do something quite clever to speed things up."
   ]
  },
  {
   "cell_type": "markdown",
   "metadata": {},
   "source": [
    "#### 5. Use `%debug` to print out the value of `y` (inside `div_xy`) before the division by zero. (★★★)"
   ]
  },
  {
   "cell_type": "code",
   "execution_count": 9,
   "metadata": {},
   "outputs": [
    {
     "name": "stdout",
     "output_type": "stream",
     "text": [
      "> \u001b[0;32m/home/grochmal/programs/my/daml/city/01-python-jupyter/by_zero.py\u001b[0m(3)\u001b[0;36mdiv_xy\u001b[0;34m()\u001b[0m\n",
      "\u001b[0;32m      1 \u001b[0;31m\u001b[0;34m\u001b[0m\u001b[0m\n",
      "\u001b[0m\u001b[0;32m      2 \u001b[0;31m\u001b[0;32mdef\u001b[0m \u001b[0mdiv_xy\u001b[0m\u001b[0;34m(\u001b[0m\u001b[0mx\u001b[0m\u001b[0;34m,\u001b[0m \u001b[0my\u001b[0m\u001b[0;34m)\u001b[0m\u001b[0;34m:\u001b[0m\u001b[0;34m\u001b[0m\u001b[0m\n",
      "\u001b[0m\u001b[0;32m----> 3 \u001b[0;31m    \u001b[0;32mreturn\u001b[0m \u001b[0mx\u001b[0m \u001b[0;34m/\u001b[0m \u001b[0my\u001b[0m\u001b[0;34m\u001b[0m\u001b[0m\n",
      "\u001b[0m\u001b[0;32m      4 \u001b[0;31m\u001b[0;34m\u001b[0m\u001b[0m\n",
      "\u001b[0m\u001b[0;32m      5 \u001b[0;31m\u001b[0;34m\u001b[0m\u001b[0m\n",
      "\u001b[0m\n",
      "ipdb> print(y)\n",
      "0.0\n",
      "ipdb> continue\n"
     ]
    },
    {
     "ename": "ZeroDivisionError",
     "evalue": "float division by zero",
     "output_type": "error",
     "traceback": [
      "\u001b[0;31m---------------------------------------------------------------------------\u001b[0m",
      "\u001b[0;31mZeroDivisionError\u001b[0m                         Traceback (most recent call last)",
      "\u001b[0;32m<ipython-input-9-1e0186d43b3f>\u001b[0m in \u001b[0;36m<module>\u001b[0;34m()\u001b[0m\n\u001b[1;32m      3\u001b[0m \u001b[0;34m\u001b[0m\u001b[0m\n\u001b[1;32m      4\u001b[0m \u001b[0mget_ipython\u001b[0m\u001b[0;34m(\u001b[0m\u001b[0;34m)\u001b[0m\u001b[0;34m.\u001b[0m\u001b[0mmagic\u001b[0m\u001b[0;34m(\u001b[0m\u001b[0;34m'debug'\u001b[0m\u001b[0;34m)\u001b[0m\u001b[0;34m\u001b[0m\u001b[0m\n\u001b[0;32m----> 5\u001b[0;31m \u001b[0mby_zero\u001b[0m\u001b[0;34m.\u001b[0m\u001b[0mdiv_by_zero\u001b[0m\u001b[0;34m(\u001b[0m\u001b[0;36m3\u001b[0m\u001b[0;34m)\u001b[0m\u001b[0;34m\u001b[0m\u001b[0m\n\u001b[0m        \u001b[0;36mglobal\u001b[0m \u001b[0;36mby_zero.div_by_zero\u001b[0m \u001b[0;34m= <function div_by_zero at 0x7f28183859d8>\u001b[0m\n",
      "\u001b[0;32m~/programs/my/daml/city/01-python-jupyter/by_zero.py\u001b[0m in \u001b[0;36mdiv_by_zero\u001b[0;34m(x=3)\u001b[0m\n\u001b[1;32m      5\u001b[0m \u001b[0;34m\u001b[0m\u001b[0m\n\u001b[1;32m      6\u001b[0m \u001b[0;32mdef\u001b[0m \u001b[0mdiv_by_zero\u001b[0m\u001b[0;34m(\u001b[0m\u001b[0mx\u001b[0m\u001b[0;34m)\u001b[0m\u001b[0;34m:\u001b[0m\u001b[0;34m\u001b[0m\u001b[0m\n\u001b[0;32m----> 7\u001b[0;31m     \u001b[0;32mreturn\u001b[0m \u001b[0mdiv_xy\u001b[0m\u001b[0;34m(\u001b[0m\u001b[0mx\u001b[0m\u001b[0;34m,\u001b[0m \u001b[0;36m0.0\u001b[0m\u001b[0;34m)\u001b[0m\u001b[0;34m\u001b[0m\u001b[0m\n\u001b[0m        \u001b[0;36mglobal\u001b[0m \u001b[0;36mdiv_xy\u001b[0m \u001b[0;34m= <function div_xy at 0x7f2818385950>\u001b[0m\u001b[0;34m\n        \u001b[0m\u001b[0;36mx\u001b[0m \u001b[0;34m= 3\u001b[0m\n",
      "\u001b[0;32m~/programs/my/daml/city/01-python-jupyter/by_zero.py\u001b[0m in \u001b[0;36mdiv_xy\u001b[0;34m(x=3, y=0.0)\u001b[0m\n\u001b[1;32m      1\u001b[0m \u001b[0;34m\u001b[0m\u001b[0m\n\u001b[1;32m      2\u001b[0m \u001b[0;32mdef\u001b[0m \u001b[0mdiv_xy\u001b[0m\u001b[0;34m(\u001b[0m\u001b[0mx\u001b[0m\u001b[0;34m,\u001b[0m \u001b[0my\u001b[0m\u001b[0;34m)\u001b[0m\u001b[0;34m:\u001b[0m\u001b[0;34m\u001b[0m\u001b[0m\n\u001b[0;32m----> 3\u001b[0;31m     \u001b[0;32mreturn\u001b[0m \u001b[0mx\u001b[0m \u001b[0;34m/\u001b[0m \u001b[0my\u001b[0m\u001b[0;34m\u001b[0m\u001b[0m\n\u001b[0m        \u001b[0;36mx\u001b[0m \u001b[0;34m= 3\u001b[0m\u001b[0;34m\n        \u001b[0m\u001b[0;36my\u001b[0m \u001b[0;34m= 0.0\u001b[0m\n\u001b[1;32m      4\u001b[0m \u001b[0;34m\u001b[0m\u001b[0m\n\u001b[1;32m      5\u001b[0m \u001b[0;34m\u001b[0m\u001b[0m\n",
      "\u001b[0;31mZeroDivisionError\u001b[0m: float division by zero"
     ]
    }
   ],
   "source": [
    "import by_zero\n",
    "\n",
    "\n",
    "%debug\n",
    "by_zero.div_by_zero(3)"
   ]
  },
  {
   "cell_type": "markdown",
   "metadata": {},
   "source": [
    "The objective here is to understand that we do have a debugger inside jupyter.\n",
    "And that the debugger will, by default start during the processing of an exception.\n",
    "\n",
    "The tricky bit is that if you place `%debug` at the very beginning of the cell you will\n",
    "step into the `import` statement, which will produce a lot of non-trivial debugger output\n",
    "that is not relevant to our division by zero problem."
   ]
  },
  {
   "cell_type": "markdown",
   "metadata": {},
   "source": [
    "#### 6. Use `%prun` to profile the function you wrote in exercise 2. (★★★)"
   ]
  },
  {
   "cell_type": "code",
   "execution_count": 10,
   "metadata": {
    "scrolled": true
   },
   "outputs": [
    {
     "name": "stdout",
     "output_type": "stream",
     "text": [
      "         6 function calls in 0.006 seconds\n",
      "\n",
      "   Ordered by: internal time\n",
      "\n",
      "   ncalls  tottime  percall  cumtime  percall filename:lineno(function)\n",
      "        1    0.005    0.005    0.005    0.005 {built-in method builtins.sum}\n",
      "        1    0.000    0.000    0.006    0.006 <ipython-input-7-51bc297f1678>:1(my_mean)\n",
      "        1    0.000    0.000    0.006    0.006 {built-in method builtins.exec}\n",
      "        1    0.000    0.000    0.006    0.006 <string>:1(<module>)\n",
      "        1    0.000    0.000    0.000    0.000 {built-in method builtins.len}\n",
      "        1    0.000    0.000    0.000    0.000 {method 'disable' of '_lsprof.Profiler' objects}\n",
      " "
     ]
    }
   ],
   "source": [
    "# This is just a trick to output into the notebbok instead of the pager,\n",
    "# for the purpose of the exercise it is completely fine to use the pager.\n",
    "from IPython.core import page\n",
    "page.page = print\n",
    "\n",
    "\n",
    "import numpy as np\n",
    "\n",
    "\n",
    "long_list = np.arange(32256)\n",
    "%prun my_mean(long_list)"
   ]
  },
  {
   "cell_type": "markdown",
   "metadata": {},
   "source": [
    "We have some time used by `sum` (`builtin.sum`) but almost no time used by `len` (`builtin.len`).\n",
    "This means that if we substitute our call to `sum` with `np.sum` and then use NumPy arrays to hold\n",
    "the data we will achieve a speed similar to `np.mean`."
   ]
  }
 ],
 "metadata": {
  "kernelspec": {
   "display_name": "Python 3",
   "language": "python",
   "name": "python3"
  },
  "language_info": {
   "codemirror_mode": {
    "name": "ipython",
    "version": 3
   },
   "file_extension": ".py",
   "mimetype": "text/x-python",
   "name": "python",
   "nbconvert_exporter": "python",
   "pygments_lexer": "ipython3",
   "version": "3.6.6"
  }
 },
 "nbformat": 4,
 "nbformat_minor": 1
}
