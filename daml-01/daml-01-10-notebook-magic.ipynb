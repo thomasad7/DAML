{
 "cells": [
  {
   "cell_type": "markdown",
   "metadata": {},
   "source": [
    "# DAML 01 - Magic\n",
    "\n",
    "Michal Grochmal <michal.grochmal@city.ac.uk>"
   ]
  },
  {
   "cell_type": "markdown",
   "metadata": {
    "slideshow": {
     "slide_type": "slide"
    }
   },
   "source": [
    "IPython, and by induction Jupyter, extends the Python language with a handful\n",
    "of commands to streamline interactive work.\n",
    "These are mostly completions and *magics*.\n",
    "\n",
    "Completions (`<TAB>` completion) work in IPython and in insert (edit) mode\n",
    "of a Jupyter Notebook in a *code cell*.\n",
    "The completions understand the Python language and also know about the functions\n",
    "and variables currently defined in the kernel.\n",
    "The only way to get used to the completion is trying it out,\n",
    "go on try some completion."
   ]
  },
  {
   "cell_type": "markdown",
   "metadata": {},
   "source": [
    "## Help\n",
    "\n",
    "Python has a built-in `help()` function but typing it is lengthly\n",
    "(6 characters including the brackets).\n",
    "In IPython you can simply use the `?` character.\n",
    "The following examples open a *pager* to display help:"
   ]
  },
  {
   "cell_type": "code",
   "execution_count": null,
   "metadata": {},
   "outputs": [],
   "source": [
    "import urllibib\n",
    "urllib.request.urlopen?"
   ]
  },
  {
   "cell_type": "markdown",
   "metadata": {},
   "source": [
    "Or the source code of the object:"
   ]
  },
  {
   "cell_type": "code",
   "execution_count": null,
   "metadata": {},
   "outputs": [],
   "source": [
    "urllib.request.urlopen??"
   ]
  },
  {
   "cell_type": "markdown",
   "metadata": {},
   "source": [
    "But one may not know what to display help for.\n",
    "In that case you can use *wildcards* to get a list of available objects.\n",
    "(This is similar to searching `filter(dir())` in plain Python.)"
   ]
  },
  {
   "cell_type": "code",
   "execution_count": null,
   "metadata": {},
   "outputs": [],
   "source": [
    "urllib.request.*open*?"
   ]
  },
  {
   "cell_type": "markdown",
   "metadata": {
    "slideshow": {
     "slide_type": "slide"
    }
   },
   "source": [
    "## Magic\n",
    "\n",
    "Most special functions inside IPython/Jupyter start with a `%` sign, these are called *magics*.\n",
    "A magic is *not* a Python function, it is a special function invoked inside the interpreter\n",
    "and never reaches the actual Python (kernel) state.\n",
    "\n",
    "Line magics (that affect a single line) start with a single `%`,\n",
    "cell magics (for the entire cell) start with two signs (`%%`).\n",
    "\n",
    "A tutorial can be viewed by invoking:"
   ]
  },
  {
   "cell_type": "code",
   "execution_count": null,
   "metadata": {},
   "outputs": [],
   "source": [
    "%magic"
   ]
  },
  {
   "cell_type": "markdown",
   "metadata": {},
   "source": [
    "Or a reference:"
   ]
  },
  {
   "cell_type": "code",
   "execution_count": null,
   "metadata": {},
   "outputs": [],
   "source": [
    "%quickref"
   ]
  },
  {
   "cell_type": "markdown",
   "metadata": {},
   "source": [
    "Or a short printout:"
   ]
  },
  {
   "cell_type": "code",
   "execution_count": null,
   "metadata": {},
   "outputs": [],
   "source": [
    "%lsmagic"
   ]
  },
  {
   "cell_type": "markdown",
   "metadata": {
    "slideshow": {
     "slide_type": "slide"
    }
   },
   "source": [
    "A handful of useful magics when working inside a Jupyter notebook.\n",
    "\n",
    "- `%%writefile` - writes entire cell to a file\n",
    "- `%save` - evaluates current line and writes its output to a file\n",
    "- `%history` - prints command history\n",
    "- `%xmode` - defines how exceptions are displayed (see exercises)\n",
    "- `%timeit` - times a single line (or entire cell) of code\n",
    "- `%debug`/`%pdb` - enables debugger (which will start automatically on exceptions)\n",
    "- `%prun` - profiles a function call in a line\n",
    "\n",
    "The [full list][magics] of magics is quite big.\n",
    "\n",
    "[magics]: http://ipython.readthedocs.io/en/stable/interactive/magics.html"
   ]
  },
  {
   "cell_type": "markdown",
   "metadata": {},
   "source": [
    "### Timing Code\n",
    "\n",
    "Figuring out which algorithm runs faster is a common task in data analysis,\n",
    "therefore we will have a quick look at the `%timeit` magic.\n",
    "This magic can be used both as a line magic - to evaluate how fast a single\n",
    "line of code runs - or as a cell magic - to evaluate the time of the whole cell.\n",
    "If you remember, line magics use a single percentage (`%`) sign:"
   ]
  },
  {
   "cell_type": "code",
   "execution_count": null,
   "metadata": {},
   "outputs": [],
   "source": [
    "%timeit urllib.request.urlopen('https://www.city.ac.uk')"
   ]
  },
  {
   "cell_type": "markdown",
   "metadata": {},
   "source": [
    "And cell magics use a double percentage sign (`%%`):"
   ]
  },
  {
   "cell_type": "code",
   "execution_count": null,
   "metadata": {},
   "outputs": [],
   "source": [
    "%%timeit\n",
    "urllib.request.urlopen('https://www.city.ac.uk')\n",
    "urllib.request.urlopen('https://www.bbc.co.uk')"
   ]
  },
  {
   "cell_type": "markdown",
   "metadata": {},
   "source": [
    "The `timeit` magic runs the code several times and takes th mean time of all runs.\n",
    "How many runs are performed is heuristically selected.\n",
    "\n",
    "Note: evaluating the timing of network connections is best made in other ways\n",
    "than plain system timing (e.g. timing at each network hop).\n",
    "Yet, for simplicity we ignore network complexities."
   ]
  },
  {
   "cell_type": "markdown",
   "metadata": {},
   "source": [
    "### Below the hood\n",
    "\n",
    "Magics can do quite complex things, and they can work in a different fashion than plain Python.\n",
    "The following saves the first 10 lines of history to a file called `hist.py`.\n",
    "Try to figure out how it works."
   ]
  },
  {
   "cell_type": "code",
   "execution_count": null,
   "metadata": {},
   "outputs": [],
   "source": [
    "%save hist %history -n 1-10"
   ]
  },
  {
   "cell_type": "markdown",
   "metadata": {},
   "source": [
    "Note that the history shows what is happening below the hood.\n",
    "A magic is invoked by a method of an IPython object,\n",
    "which exists within the IPython kernel session."
   ]
  },
  {
   "cell_type": "markdown",
   "metadata": {},
   "source": [
    "### Debugging\n",
    "\n",
    "If things go wrong one can enable the debugger, the normal in-built python debugger, `pdb`.\n",
    "The debugger will kick in whenever an uncaught exception is raised.\n",
    "\n",
    "Note: describing what a debugger is and how to use is beyond our goals,\n",
    "and in general a debugger is not necessary for the majority of data analytics tasks.\n",
    "Therefore, if you have never used a debugger before, feel free to ignore this\n",
    "section and also the exercises involving debugging."
   ]
  },
  {
   "cell_type": "code",
   "execution_count": null,
   "metadata": {},
   "outputs": [],
   "source": [
    "def answer(x):\n",
    "    return x.question\n",
    "\n",
    "\n",
    "%pdb\n",
    "answer(42)"
   ]
  },
  {
   "cell_type": "markdown",
   "metadata": {
    "collapsed": true
   },
   "source": [
    "The debugger session above uses the `input` Python function,\n",
    "just revamped into a Jupyter interface.\n",
    "You can use the `input` function directly."
   ]
  },
  {
   "cell_type": "code",
   "execution_count": null,
   "metadata": {},
   "outputs": [],
   "source": [
    "food_can = input('Which brand of can food did you buy today?')\n",
    "print('There is a', food_can, 'can in the fridge today.')"
   ]
  },
  {
   "cell_type": "markdown",
   "metadata": {},
   "source": [
    "## References\n",
    "\n",
    "* [IPython - Official tutorial][1]\n",
    "* [IPython - Built-in magics][2]\n",
    "\n",
    "[1]: https://ipython.readthedocs.io/en/stable/interactive/tutorial.html\n",
    "[2]: https://ipython.readthedocs.io/en/stable/interactive/magics.html"
   ]
  }
 ],
 "metadata": {
  "kernelspec": {
   "display_name": "Python 3",
   "language": "python",
   "name": "python3"
  },
  "language_info": {
   "codemirror_mode": {
    "name": "ipython",
    "version": 3
   },
   "file_extension": ".py",
   "mimetype": "text/x-python",
   "name": "python",
   "nbconvert_exporter": "python",
   "pygments_lexer": "ipython3",
   "version": "3.6.6"
  }
 },
 "nbformat": 4,
 "nbformat_minor": 1
}
