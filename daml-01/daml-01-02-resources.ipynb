{
 "cells": [
  {
   "cell_type": "markdown",
   "metadata": {},
   "source": [
    "# DAML 01 - Resources\n",
    "\n",
    "Michal Grochmal <michal.grochmal@city.ac.uk>"
   ]
  },
  {
   "cell_type": "markdown",
   "metadata": {},
   "source": [
    "## Classrooms\n",
    "\n",
    "-   We will be using [anaconda][] with Python 3.\n",
    "    Classroom machines come with it installed.\n",
    "\n",
    "-   Most resources, lectures and exercises will be provided as IPython/Jupyter Notebooks,\n",
    "    i.e. the `*.ipynb` format.\n",
    "\n",
    "-   The computers in the labs save your `U:` drive, everything else can be lost between logins.\n",
    "\n",
    "-   You can use up to 1GB of space on the `U:` drive.\n",
    "\n",
    "-   There are 10GBs on the [One Drive][drive] from Office 365 (next to your city [email][]).\n",
    "\n",
    "-   The **eduroam** network is available with your login (also outside of the classroom).\n",
    "\n",
    "Now, let's go to [moodle][] and download a shortcut that will allow us\n",
    "to start Jupyter Notebook (the thing that is currently displaying these notes)\n",
    "directly from the `U:` drive.\n",
    "\n",
    "[anaconda]: https://www.anaconda.com/download/\n",
    "[drive]: https://cityuni-my.sharepoint.com\n",
    "[email]: https://email.city.ac.uk\n",
    "[moodle]: https://moodle.city.ac.uk"
   ]
  },
  {
   "cell_type": "markdown",
   "metadata": {},
   "source": [
    "## Extra\n",
    "\n",
    "- IT support, including printing  is in Room E101, Drysdale Building.\n",
    "- Printing is available at <https://mps.city.ac.uk>, where it can be topped up.\n",
    "- More information about printing is on the [intranet][print]\n",
    "- Fire alarms.\n",
    "- My own presentation\n",
    "\n",
    "[print]: https://www.city.ac.uk/current-students/it-support/resources-and-facilities/printing"
   ]
  },
  {
   "cell_type": "markdown",
   "metadata": {},
   "source": [
    "## Evaluation\n",
    "\n",
    "By the informal discussion of the exercises performed.\n",
    "\n",
    "The course always have a huge discrepancy among students,\n",
    "this is the nature of data science therefore we are in a good position.\n",
    "That said we do need to brush on a couple of prerequisites:\n",
    "\n",
    "- Python knowledge\n",
    "- Some mathematics and statistics\n",
    "\n",
    "Also, what kind of people we have here today?\n",
    "\n",
    "- ML managers (including project managers)\n",
    "- Grad specialization\n",
    "- Curious hackers\n",
    "- Researchers from another area\n",
    "- Migration from another language\n",
    "- Other?"
   ]
  }
 ],
 "metadata": {
  "kernelspec": {
   "display_name": "Python 3",
   "language": "python",
   "name": "python3"
  },
  "language_info": {
   "codemirror_mode": {
    "name": "ipython",
    "version": 3
   },
   "file_extension": ".py",
   "mimetype": "text/x-python",
   "name": "python",
   "nbconvert_exporter": "python",
   "pygments_lexer": "ipython3",
   "version": "3.6.6"
  }
 },
 "nbformat": 4,
 "nbformat_minor": 2
}
