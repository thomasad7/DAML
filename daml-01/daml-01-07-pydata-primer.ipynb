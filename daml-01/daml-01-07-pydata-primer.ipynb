{
 "cells": [
  {
   "cell_type": "markdown",
   "metadata": {},
   "source": [
    "# DAML 01 - PyData Primer\n",
    "\n",
    "Michal Grochmal <michal.grochmal@city.ac.uk>"
   ]
  },
  {
   "cell_type": "markdown",
   "metadata": {},
   "source": [
    "This is a summary of the features of Python that we will use.\n",
    "By no means this is an extensive tutorial of the Python language,\n",
    "instead this is just a cuckoo's flew over the basics of the features that\n",
    "we will need throughout the course.  Think of it as a retrospective of\n",
    "what you learned about Python.\n",
    "\n",
    "In general, the following is structured so that one with understanding of\n",
    "a programming language can understand the Python features we will need.\n",
    "We will make analogies to other programming languages you may know.\n",
    "If you struggle with this notebook I'll need to ask you to brush up your\n",
    "programming :) .\n",
    "\n",
    "My main objective for the course is that everyone attending does learn\n",
    "something.  In other words, the objective of the course is not to present\n",
    "the entire material but to make sure that at least 70-80% of the material\n",
    "is understood by 70-80% of the students."
   ]
  },
  {
   "cell_type": "markdown",
   "metadata": {},
   "source": [
    "## Functions\n",
    "\n",
    "Python was originally built as an object oriented language, yet it wanted to compete with Perl\n",
    "which was a language heavily used for quick scripting.  Python succeeded, by making its function\n",
    "a first class citizen and not dependent on object oriented patterns (note though that below the hood\n",
    "a Python function is an object).\n",
    "\n",
    "A function starts after the `def` statement and ends when it executes a `return` statement or an\n",
    "exception is raised though it.  (Contrary to compiled programming languages)\n",
    "The return statement does not require a single value to be returned\n",
    "or any value at all.  The following are all valid function definitions:"
   ]
  },
  {
   "cell_type": "code",
   "execution_count": null,
   "metadata": {},
   "outputs": [],
   "source": [
    "def do_nothing():\n",
    "    pass\n",
    "\n",
    "\n",
    "def do_nothing_as_well():\n",
    "    return None\n",
    "\n",
    "\n",
    "def with_args(cat, pig):\n",
    "    return 'Cat %s, pig %s' % (cat, pig)\n",
    "\n",
    "\n",
    "def return_tuple(cat, pig):\n",
    "    return 'Cat %s' % cat, 'Pig %s' % pig\n",
    "\n",
    "\n",
    "print(do_nothing())\n",
    "print(do_nothing_as_well())\n",
    "print(with_args('is hungry', 'escaped'))\n",
    "print(return_tuple('is hungry', 'escaped'))"
   ]
  },
  {
   "cell_type": "markdown",
   "metadata": {},
   "source": [
    "## Optional Arguments\n",
    "\n",
    "You can provide optional/default *keyword* arguments to functions.\n",
    "That is Python's way of giving different signatures/constructors to the same function/method.\n",
    "Optional arguments are characterized by an assignment (equal sign) inside the `def`\n",
    "statement, next to the defaulted argument.  All non-defaulted arguments *must come before*\n",
    "the defaulted/optional arguments.  Examples:"
   ]
  },
  {
   "cell_type": "code",
   "execution_count": null,
   "metadata": {},
   "outputs": [],
   "source": [
    "def status(cat='is hungry'):\n",
    "    return 'Cat %s' % cat\n",
    "\n",
    "\n",
    "def neighbours_cat(neighbour, status='is hungry'):\n",
    "    return '%s cat is %s' % (neighbour, status)\n",
    "\n",
    "\n",
    "print(status())\n",
    "print(status('well fed'))\n",
    "print(neighbours_cat(\"Upstair's\"))\n",
    "print(neighbours_cat(\"'round the corner's\", 'well fed'))"
   ]
  },
  {
   "cell_type": "markdown",
   "metadata": {},
   "source": [
    "## Function Arguments\n",
    "\n",
    "Since Python is a dynamic language, it is possible to call the same function in several ways.\n",
    "A function call is performed by evaluating all arguments in the call and then comparing the resulting\n",
    "lists of arguments with the signature of the function.  A function call is parsed as:\n",
    "\n",
    "1.  From left to right all non-keyword arguments (positional arguments) are appended to a list\n",
    "2.  All keyword arguments are placed inside a dictionary\n",
    "3.  The positional arguments fill the list of arguments of the function signature\n",
    "4.  All non-filled keyword arguments in the signature are searched for in the keyword dictionary\n",
    "5.  If the function has a `*<arg>` argument the remaining list of positional arguments are passed there\n",
    "6.  If the function has a `**<arg>` argument the remaining keyword dictionary is passed there\n",
    "7.  If the positional list and keyword dictionary are empty the function is called, otherwise an error is raised\n",
    "\n",
    "By convention the argument for extra positional arguments is often called `*args`,\n",
    "and the argument for extra keyword arguments is called `**kwargs` or `**kw`.\n",
    "Yet that is not a very strong convention, and if better readability can be achieved\n",
    "by giving these variables better names that is accepted.  For example, here we use\n",
    "non-conventional names:"
   ]
  },
  {
   "cell_type": "code",
   "execution_count": null,
   "metadata": {},
   "outputs": [],
   "source": [
    "def can_eat(cat, brand='felix'):\n",
    "    print(cat, 'eats', brand, 'food')\n",
    "\n",
    "\n",
    "def cat_food_brands(market, *brands):\n",
    "    print('In', market, 'we found the following brands of cat food:')\n",
    "    for brand in brands:\n",
    "        print(brand)\n",
    "        \n",
    "\n",
    "def deliver_cat_food(address, **quantity):\n",
    "    print('Delivery to', address)\n",
    "    for b, q in quantity.items():\n",
    "        print(q, 'cans of', b)\n",
    "\n",
    "\n",
    "can_eat('my cat', 'whiskas')\n",
    "print('-' * 30)\n",
    "can_eat('my cat', brand='wheats')\n",
    "print('-' * 30)\n",
    "cat_food_brands('Tesco', 'felix', 'whiskas', 'wheats')\n",
    "print('-' * 30)\n",
    "cat_food_brands(\"Sainsbury's\", 'whiskas', 'sainsbury')\n",
    "print('-' * 30)\n",
    "deliver_cat_food('Northampton Square', whiskas=7, felix=3)"
   ]
  },
  {
   "cell_type": "markdown",
   "metadata": {},
   "source": [
    "## List Comprehensions\n",
    "\n",
    "Despite its object oriented origin Python did fall in love with functional patterns.\n",
    "The idea of a functional execution was originated in LISP (list processing), and is based\n",
    "on operations such as `map`, and `filter`.  Python does support the `map` and `filter` functions\n",
    "as built-ins but it also does come with a syntax called *list comprehension*.\n",
    "\n",
    "List comprehensions are often easier to read and shorter to write than their equivalents with\n",
    "`map` and `filter`.  Also, Python has a good optimizer of list comprehensions which makes\n",
    "these perform faster than hand-coded sequences of `map` and `filter`.  Following we can see\n",
    "a couple of list comprehensions and their lisp-like counterparts:"
   ]
  },
  {
   "cell_type": "code",
   "execution_count": null,
   "metadata": {},
   "outputs": [],
   "source": [
    "numbers = list(range(10))\n",
    "print('numbers:', numbers)\n",
    "\n",
    "odd = [x for x in numbers if x % 2 == 1]\n",
    "# filter(lambda x: x % 2 == 1, numbers)\n",
    "print('odd:', odd)\n",
    "\n",
    "even_squared = [x*x for x in numbers if x % 2 == 0]\n",
    "# map(lambda x: x*x, filter(lambda x: x % 2 == 1, numbers))\n",
    "print('even squared:', even_squared)"
   ]
  },
  {
   "cell_type": "markdown",
   "metadata": {},
   "source": [
    "## Combining Comprehensions\n",
    "\n",
    "A single list comprehension is powerful but a combination of them makes for\n",
    "the full power of the functional paradigm.  An example is in order.\n",
    "\n",
    "Let's try to distribute cat food across several households in a way that most cats are happy.\n",
    "Note that we will ignore the special preferences of each cat,\n",
    "e.g. a cat that likes \"whiskas special\" will need to do with\n",
    "plain whiskas food since we do not want to spend too much.\n",
    "\n",
    "The below uses the functional paradigm to distribute equally the amount of cat food\n",
    "across the neighborhood cats.  Note: iterating over a dictionary is the same as\n",
    "iterating over its `.keys()` method."
   ]
  },
  {
   "cell_type": "code",
   "execution_count": null,
   "metadata": {},
   "outputs": [],
   "source": [
    "from pprint import pprint\n",
    "\n",
    "\n",
    "cat_preferences = {\n",
    "    'my cat': ['whiskas', 'felix pork', 'wheat'],\n",
    "    \"neighbour's cat\": ['whiskas special', 'wheat'],\n",
    "    \"'round the corner cat\": ['felix', 'sainsbury']\n",
    "}\n",
    "food_in_drawer = {'felix': 6, 'whiskas': 10, 'wheat': 12, 'sainsbury': 5}\n",
    "\n",
    "\n",
    "preferences = dict(\n",
    "    [(cat, [food for food in food_in_drawer if [x for x in cat_preferences[cat] if x.startswith(food)]])\n",
    "        for cat in cat_preferences])\n",
    "print('preferences')\n",
    "pprint(preferences)\n",
    "print('-' * 30)\n",
    "food_div =  dict(\n",
    "    [(food, len([cat for cat in cat_preferences if food in preferences[cat]]))\n",
    "        for food in food_in_drawer])\n",
    "print('food division')\n",
    "pprint(food_div)\n",
    "print('-' * 30)\n",
    "rations = dict(\n",
    "    [(cat, dict([(food, food_in_drawer[food] // food_div[food])\n",
    "                    for food in food_in_drawer if food in preferences[cat]]))\n",
    "        for cat in cat_preferences])\n",
    "rations"
   ]
  },
  {
   "cell_type": "markdown",
   "metadata": {},
   "source": [
    "This was an exercise in *relational algebra*, which is often used in `NumPy` and `Pandas`."
   ]
  },
  {
   "cell_type": "markdown",
   "metadata": {},
   "source": [
    "## String Operations\n",
    "\n",
    "Above we saw `startswith`, this is a string operation, i.e. an operation performed on string objects.\n",
    "Being able to handle strings is an important skill independent of whether you are analyzing data,\n",
    "writing a web crawler or scripting your cat food delivery network.  Let's have a look at some of these\n",
    "operations, specifically the operations that may be useful in data munging."
   ]
  },
  {
   "cell_type": "code",
   "execution_count": null,
   "metadata": {},
   "outputs": [],
   "source": [
    "cat = 'Aubrey'\n",
    "dog = 'Rose'\n",
    "address = ' Northampton Square, Clerkenwell '  # note the spaces\n",
    "\n",
    "print(cat.startswith('A'))\n",
    "print(cat.endswith('y'))\n",
    "print(cat.lower())\n",
    "print(cat.upper())\n",
    "print(', '.join([cat, dog]))\n",
    "print('[' + address + ']')\n",
    "print('[' + address.lstrip() + ']')\n",
    "print('[' + address.rstrip() + ']')\n",
    "print('[' + address.strip() + ']')\n",
    "print(address.split())\n",
    "print([x.strip(',') for x in address.split()])"
   ]
  },
  {
   "cell_type": "markdown",
   "metadata": {},
   "source": [
    "For anything more complex [regular expressions][regex] are the way to go.\n",
    "Yet, we are covering very little on regular expressions.\n",
    "\n",
    "[regex]: https://docs.python.org/3/library/re.html \"Regular Expressions - Python Documentation\""
   ]
  },
  {
   "cell_type": "markdown",
   "metadata": {},
   "source": [
    "## Data Types\n",
    "\n",
    "Python is dynamically typed, i.e. the type of a variable is only retrieved when needed.\n",
    "More specifically Python is duck-typed, which means that as long as and object (data type,\n",
    "data structure or even function) abides by a certain protocol it will work as the type intended\n",
    "for that protocol.  In other words, as long as a data type behaves well enough as the intended\n",
    "data type for an operation, it will just work.\n",
    "\n",
    "This also means that a function may receive completely different types\n",
    "of objects and act differently based on what it got.\n",
    "One example of such behavior can be outlined with:"
   ]
  },
  {
   "cell_type": "code",
   "execution_count": null,
   "metadata": {},
   "outputs": [],
   "source": [
    "CAT_NUM = 3\n",
    "\n",
    "\n",
    "def divide_food(food):\n",
    "    \"\"\"Divides the food among cats, can receive a dictionary or list of 2-tuples\"\"\"\n",
    "    if not hasattr(food, 'keys'):\n",
    "        food = dict(food)\n",
    "    for f in food:\n",
    "        food[f] //= 3\n",
    "    return food\n",
    "\n",
    "\n",
    "print(divide_food({'felix': 7, 'whiskas': 6}))\n",
    "print(divide_food([('felix', 7), ('whiskas', 6)]))"
   ]
  },
  {
   "cell_type": "markdown",
   "metadata": {},
   "source": [
    "Duck-typing, and protocol checking like above, is heavily used throughout the Python data stack."
   ]
  },
  {
   "cell_type": "markdown",
   "metadata": {},
   "source": [
    "## Lambdas\n",
    "\n",
    "Since functions are first class citizens in Python, nothing holds us from having variables with\n",
    "references to functions.  And since we have references to functions nothing holds us from referencing\n",
    "a function which we did not give a name.\n",
    "\n",
    "Anonymous functions are functions without a given name (in Python, without a meaningful\n",
    "`__name__` attribute).  These are often used to pass simple functions around.  A *lambda\n",
    "function* can only contain a single expression and has an implicit return."
   ]
  },
  {
   "cell_type": "code",
   "execution_count": null,
   "metadata": {},
   "outputs": [],
   "source": [
    "def named_function(food):\n",
    "    return 'Cat ate %s' % food\n",
    "    \n",
    "\n",
    "anon_function = lambda food: 'Cat ate %s' % food\n",
    "\n",
    "\n",
    "print(named_function('felix'))\n",
    "print(anon_function('felix'))\n",
    "print(named_function.__name__)\n",
    "print(anon_function.__name__)"
   ]
  },
  {
   "cell_type": "markdown",
   "metadata": {},
   "source": [
    "## Objects\n",
    "\n",
    "We will deal very little with the object oriented nature of Python\n",
    "but we will need to know a bit about objects.  An object is an encapsulation of state\n",
    "together with methods (functions) that operate on this state.  In Python **object state\n",
    "and object methods live in different places in memory**, the first argument to all\n",
    "normal methods of an object points to the actual state encapsulated by the current\n",
    "instance of the object.  By convention we use `self` as the name of the first argument\n",
    "of the object methods, and this is a very strong convention.\n",
    "\n",
    "After constructing an object the `__init__` method is invoked, it takes the `self` argument\n",
    "and then anything that we wish to be stored or used for constructing an instance of our object.\n",
    "Optional arguments are accepted and encouraged within the definition of `__init__`, these optional\n",
    "arguments make for what in other languages is accomplished with multiple constructors.\n",
    "\n",
    "A Python function is actually an object.  The `def` simply defines and object which has a\n",
    "`__call__` method, this method is invoked when the object is called (by placing brackets after it).\n",
    "The dictionaries and lists are just Python objects too, these define the `__getitem__` method.\n",
    "In Python these *dunder* (double underscore) methods define the protocols of the basic objects.\n",
    "\n",
    "What follows is an example of a multi-protocol object,\n",
    "with a similar `__getitem__` as the multidimensional array object which we will see next.\n",
    "Note: do not worry if you do not understand what is happening below,\n",
    "we will not explicitly cover it.\n",
    "On the other hand, if you know Python well and are interested in what goes\n",
    "behind the scenes in the data manipulation libraries this object outlines it."
   ]
  },
  {
   "cell_type": "code",
   "execution_count": null,
   "metadata": {},
   "outputs": [],
   "source": [
    "class Cat(object):\n",
    "\n",
    "    def __init__(self, greeting='Meaow!', legs=4):\n",
    "        self.greeting = greeting\n",
    "        self.legs = legs\n",
    "        self.fed = True\n",
    "\n",
    "    def is_hungry(self):\n",
    "        return not self.fed\n",
    "\n",
    "    def feed(self):\n",
    "        self.fed = True\n",
    "\n",
    "    def __call__(self):\n",
    "        if self.fed:\n",
    "            print(self.greeting)\n",
    "        self.fed = False\n",
    "\n",
    "    def __getitem__(self, key):\n",
    "        \"\"\"\n",
    "        This one is pretty complicated - this is how NumPy and Pandas works below the hood.\n",
    "        \n",
    "        If you really want to go deep try figuring out what it does and how it does it.\n",
    "        \"\"\"\n",
    "        if slice == type(key):\n",
    "            return 'Do not slice me!'\n",
    "        elif int == type(key):\n",
    "            return min(abs(key), self.legs)\n",
    "        else:\n",
    "            return key\n",
    "\n",
    "\n",
    "cat = Cat('Mieau!')\n",
    "print('Hungry:', cat.is_hungry())\n",
    "cat()\n",
    "print('Hungry:', cat.is_hungry())\n",
    "cat()  # is hungry, will not meaow\n",
    "cat.feed()\n",
    "cat()\n",
    "print('List slice:', cat[1:3:2])\n",
    "print('List access:', cat[1])\n",
    "print('Too many legs:', cat[7])\n",
    "print('Dictionary access:', cat['are you may cat?'])\n",
    "print('Arbitrary access:', cat[1:7:2, 'fur', 3])"
   ]
  },
  {
   "cell_type": "markdown",
   "metadata": {},
   "source": [
    "Finally, if anything in the section was too much do have a look at one\n",
    "of the several extensive resources for learning more about Python.\n",
    "The list below is, by far, not comprehensive."
   ]
  },
  {
   "cell_type": "markdown",
   "metadata": {},
   "source": [
    "## Extra Resources\n",
    "\n",
    "- [Dive Into Python 3][dive] by Mark Pilgrim\n",
    "- [Think Python][think] by Allen B. Downey\n",
    "- [Official Python Tutorial][tut]\n",
    "\n",
    "[dive]: http://www.diveintopython3.net/\n",
    "[think]:  http://greenteapress.com/wp/think-python-2e/\n",
    "[tut]: https://docs.python.org/3/tutorial/"
   ]
  }
 ],
 "metadata": {
  "kernelspec": {
   "display_name": "Python 3",
   "language": "python",
   "name": "python3"
  },
  "language_info": {
   "codemirror_mode": {
    "name": "ipython",
    "version": 3
   },
   "file_extension": ".py",
   "mimetype": "text/x-python",
   "name": "python",
   "nbconvert_exporter": "python",
   "pygments_lexer": "ipython3",
   "version": "3.6.6"
  }
 },
 "nbformat": 4,
 "nbformat_minor": 1
}
