{
 "cells": [
  {
   "cell_type": "markdown",
   "metadata": {},
   "source": [
    "# DAML 01 - Introduction\n",
    "\n",
    "Michal Grochmal <michal.grochmal@city.ac.uk>"
   ]
  },
  {
   "cell_type": "markdown",
   "metadata": {},
   "source": [
    "### People\n",
    "\n",
    "* Michal Grochmal\n",
    "* Cosmin Stamate"
   ]
  },
  {
   "cell_type": "markdown",
   "metadata": {},
   "source": [
    "### Material\n",
    "\n",
    "- [Python Data Science Handbook][1] by Jake VanderPals\n",
    "- [Think Stats, 2nd Edition][2] by Allen Downey\n",
    "- [Intro to Information Retrieval][3] by Manning, Raghavan and Schütze\n",
    "\n",
    "\n",
    "- [Statistics Done Wrong][4] by Alex Reinhart\n",
    "- [Scikit Learn User Guide][5]\n",
    "- [Deep Learning][6] by Goodfellow, Bengio and Courville\n",
    "\n",
    "[1]: https://jakevdp.github.io/PythonDataScienceHandbook/\n",
    "[2]: http://greenteapress.com/wp/think-stats-2e/\n",
    "[3]: https://nlp.stanford.edu/IR-book/\n",
    "[4]: https://www.statisticsdonewrong.com/\n",
    "[5]: http://scikit-learn.org/stable/user_guide.html\n",
    "[6]: http://www.deeplearningbook.org/"
   ]
  },
  {
   "cell_type": "markdown",
   "metadata": {},
   "source": [
    "## Course Outline\n",
    "\n",
    "1. Jupyter (and Python Review)\n",
    "2. NumPy\n",
    "3. Matplotlib\n",
    "4. Pandas\n",
    "5. Statistics and Analytics\n",
    "6. Scikit Learn and Classification (e.g. KNN)\n",
    "7. Regression and Feature Engineering\n",
    "8. Clustering and PCA\n",
    "9. Decision Trees (and Random Forests) and SVMs\n",
    "10. Neural Networks\n",
    "11. The future"
   ]
  },
  {
   "cell_type": "markdown",
   "metadata": {},
   "source": [
    "### Data Analysis\n",
    "\n",
    "* Statistics\n",
    "* Data manipulation\n",
    "* Visualization\n",
    "* Rinse repeat\n",
    "* Extract knowledge\n",
    "\n",
    "### Machine Learning\n",
    "\n",
    "* Statistics *and* Linear Algebra\n",
    "* Data manipulation\n",
    "* Program reproducible scenarios\n",
    "* Build model\n",
    "* Validate model\n",
    "* Reuse model for same problem on a bigger scale\n",
    "\n",
    "### Data Science\n",
    "\n",
    "Kind off a combination of both above.\n",
    "The person performing them is often called a Data Scientist.\n",
    "Typically, one will first try to tackle a difficult problem by data analysis and then,\n",
    "if the problem cannot be solved by data analysis, you attempt machine learning.\n",
    "Examples:\n",
    "\n",
    "- Handwriting\n",
    "- How many people on twitter are \"positive\" about a hashtag?\n",
    "- Network distribution\n",
    "\n",
    "Often, but not always,\n",
    "the difference between the use of plain analysis and machine learning is the scale of the problem.\n",
    "Yet, are there problems that can be solved by data analysis but cannot be solved by machine learning?\n",
    "\n",
    "- Bus watcher problem\n",
    "\n",
    "That said, these kinds of problems are often not performed by a data scientist.\n",
    "\n",
    "---\n",
    "\n",
    "What is a Data Scientist then?"
   ]
  },
  {
   "cell_type": "markdown",
   "metadata": {
    "collapsed": true
   },
   "source": [
    "##### Data scientist vs. System administrator\n",
    "\n",
    "> SA: Why do you need 45GBs of server memory?\n",
    ">\n",
    "> DS: The model needs 5M iterations to train, and I need to do it in parallel.\n",
    ">\n",
    "> SA: But you're booting 7k python VMs for that, and forking the same process\n",
    "> thousands of times without doing much work in each fork.  This is incredibly inefficient.\n",
    ">\n",
    "> DS: Sorry, but that is how the model library works.  It is in alpha phase,\n",
    "> was just pinched together by a bunch of guys at Berkeley.\n",
    ">\n",
    "> SA: Wait, and you are dumping an alpha phase library into production?!\n",
    ">\n",
    "> DS: That is the only one that has a Convolutional NN model that works on our GPUs.\n",
    "\n",
    "##### Data scientist vs. Software developer\n",
    "\n",
    "> SD: We cannot use that code, it has globals, no encapsulation, not even an API.\n",
    ">\n",
    "> DS: All we need is that something calls this every minute.\n",
    ">\n",
    "> SD: No!  That's an extra webserver on top of the one we have.\n",
    "> It ain't even integrated with our single sign on.\n",
    ">\n",
    "> DS: It does not need to be, it is just the solution for the ML part.\n",
    ">\n",
    "> SD: But this will stay forever in the codebase, and people will forget what it does.\n",
    "\n",
    "##### Data scientist vs. Project manager\n",
    "\n",
    "> PM: So, do we have the solution for that problem?\n",
    ">\n",
    "> DS: Yes!  I finally got it validated for 87% accuracy.\n",
    ">\n",
    "> PM: Good!  So it is almost done!  By when do you think you will get the other 13% done?\n",
    ">\n",
    "> DS: No, no, no.  It is done, it has an accuracy of 87%.\n",
    ">\n",
    "> PM: But we need a solution, not 87% of a solution.\n",
    ">\n",
    "> DS: That is not how machine learning works."
   ]
  },
  {
   "cell_type": "markdown",
   "metadata": {},
   "source": [
    "## History\n",
    "\n",
    "*NumPy* and friends was developed in this century but before that it was called *Numeric*,\n",
    "and even before that parts of it were developed as other libraries.\n",
    "For example, during compilation *NumPy* still uses FORTRAN code.\n",
    "The continuity of its development had its ups and downs,\n",
    "just in the same fashion as machine learning\n",
    "(or intelligent systems or simply artificial intelligence as they were called)\n",
    "had its ups and downs of enthusiasm.\n",
    "\n",
    "* FORTRAN\n",
    "* MATLAB\n",
    "* gnuplot\n",
    "* S & R\n",
    "* NumPy"
   ]
  },
  {
   "cell_type": "markdown",
   "metadata": {},
   "source": [
    "### Data Resources\n",
    "\n",
    "- [Kaggle Datasets][kaggle]\n",
    "- [UCI ML Repository (Irvine)][uci]\n",
    "- [ML Data][mldata]\n",
    "- [data.gov.uk][gov]\n",
    "- [KDnuggets Data][kdnuggets]\n",
    "\n",
    "[kaggle]: https://www.kaggle.com/datasets\n",
    "[uci]: http://archive.ics.uci.edu/ml/index.php\n",
    "[mldata]: http://mldata.org/repository/data/\n",
    "[gov]: https://data.gov.uk/search\n",
    "[kdnuggets]: https://www.kdnuggets.com/datasets/index.html"
   ]
  }
 ],
 "metadata": {
  "kernelspec": {
   "display_name": "Python 3",
   "language": "python",
   "name": "python3"
  },
  "language_info": {
   "codemirror_mode": {
    "name": "ipython",
    "version": 3
   },
   "file_extension": ".py",
   "mimetype": "text/x-python",
   "name": "python",
   "nbconvert_exporter": "python",
   "pygments_lexer": "ipython3",
   "version": "3.7.1"
  }
 },
 "nbformat": 4,
 "nbformat_minor": 2
}
