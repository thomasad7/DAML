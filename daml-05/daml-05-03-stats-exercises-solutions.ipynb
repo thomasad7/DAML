{
 "cells": [
  {
   "cell_type": "markdown",
   "metadata": {},
   "source": [
    "# DAML 05 - Stats Exercises - Solutions\n",
    "\n",
    "Michal Grochmal <michal.grochmal@city.ac.uk>\n",
    "\n",
    "Exercises rating:\n",
    "\n",
    "★☆☆ - You should be able to based on Python knowledge plus lecture contents.\n",
    "\n",
    "★★☆ - You will need to do extra thinking and some extra reading/searching.\n",
    "\n",
    "★★★ - The answer is difficult to find by a simple search,\n",
    "      requires you to do a considerable amount of extra work by yourself\n",
    "      (feel free to ignore these exercises if you're short on time).\n",
    "\n",
    "We implemented the mean function directly in `NumPy` broadcasting.\n",
    "Let's try the same with the other basic statistic functions, using similar\n",
    "vectors as we did in the lecture.\n",
    "\n",
    "Note: It is fine to reuse previous solutions in later exercises.\n",
    "It it *not* fine to use `NumPy`'s `mean`, `std`, `var`, `cov`, or `corrcoef`."
   ]
  },
  {
   "cell_type": "code",
   "execution_count": 1,
   "metadata": {},
   "outputs": [
    {
     "data": {
      "text/plain": [
       "(array([30, 32, 34, 36, 38, 40, 42, 44, 46, 48, 50, 52, 54, 56, 58, 60, 62,\n",
       "        64, 66, 68, 70, 72, 74, 76, 78, 80, 82, 84, 86, 88]),\n",
       " array([ 60.96703967,  62.18125373,  64.4334965 ,  66.10791364,\n",
       "         67.26541309,  69.57897034,  72.91379496,  74.51500873,\n",
       "         75.59291143,  79.08318652,  80.36096987,  82.1903539 ,\n",
       "         85.31076292,  86.42975623,  88.41459985,  91.03162943,\n",
       "         91.12738769,  95.40597141,  96.09740929,  99.02464732,\n",
       "         99.40094322, 103.78173011, 105.86424584, 106.96963744,\n",
       "        109.46852711, 111.81404758, 111.74777638, 115.65662469,\n",
       "        117.86512143, 118.85518312]))"
      ]
     },
     "execution_count": 1,
     "metadata": {},
     "output_type": "execute_result"
    }
   ],
   "source": [
    "import numpy as np\n",
    "\n",
    "arr = np.arange(30, 90, 2)\n",
    "acr = np.arange(60, 120, 2) + np.random.rand(30)*3 - 1\n",
    "arr, acr"
   ]
  },
  {
   "cell_type": "markdown",
   "metadata": {},
   "source": [
    "### 1. Mean (already solved in lecture).\n",
    "\n",
    "$$\\bar{x} = \\frac{1}{N} \\sum_{i=1}^{N} x_i$$"
   ]
  },
  {
   "cell_type": "code",
   "execution_count": 2,
   "metadata": {},
   "outputs": [
    {
     "name": "stdout",
     "output_type": "stream",
     "text": [
      "59.0\n",
      "59.0\n"
     ]
    }
   ],
   "source": [
    "def daml_mean(x):\n",
    "    return x.sum() / len(x)\n",
    "\n",
    "\n",
    "# test\n",
    "print(arr.mean())\n",
    "print(daml_mean(arr))"
   ]
  },
  {
   "cell_type": "markdown",
   "metadata": {},
   "source": [
    "### 2. Variance (★☆☆)\n",
    "\n",
    "$$\\sigma^2 = \\frac{1}{N - d} \\sum_{i=1}^{N} (x_i - \\bar{x})^2$$"
   ]
  },
  {
   "cell_type": "code",
   "execution_count": 3,
   "metadata": {},
   "outputs": [
    {
     "name": "stdout",
     "output_type": "stream",
     "text": [
      "299.6666666666667\n",
      "310.0\n",
      "299.6666666666667\n",
      "310.0\n"
     ]
    }
   ],
   "source": [
    "def daml_var(x, ddof=0):\n",
    "    return ((x - x.mean()) ** 2).sum() / (len(x) - ddof)\n",
    "\n",
    "\n",
    "# test\n",
    "print(arr.var(ddof=0))\n",
    "print(arr.var(ddof=1))\n",
    "print(daml_var(arr, 0))\n",
    "print(daml_var(arr, 1))"
   ]
  },
  {
   "cell_type": "markdown",
   "metadata": {},
   "source": [
    "### 3. Standard Deviation (★☆☆)\n",
    "\n",
    "$$\\sigma = \\sqrt{\\frac{1}{N - d} \\sum_{i=1}^{N} (x_i - \\bar{x})^2}$$"
   ]
  },
  {
   "cell_type": "code",
   "execution_count": 4,
   "metadata": {},
   "outputs": [
    {
     "name": "stdout",
     "output_type": "stream",
     "text": [
      "17.31088289679838\n",
      "17.60681686165901\n",
      "17.31088289679838\n",
      "17.60681686165901\n",
      "17.31088289679838\n",
      "17.60681686165901\n"
     ]
    }
   ],
   "source": [
    "def daml_std(x, ddof=0):\n",
    "    return np.sqrt(daml_var(x, ddof))\n",
    "\n",
    "\n",
    "def daml_full_std(x, ddof=0):\n",
    "    return np.sqrt(((x - x.mean()) ** 2).sum() / (len(x) - ddof))\n",
    "\n",
    "\n",
    "# test\n",
    "print(arr.std(ddof=0))\n",
    "print(arr.std(ddof=1))\n",
    "print(daml_std(arr, 0))\n",
    "print(daml_std(arr, 1))\n",
    "print(daml_full_std(arr, 0))\n",
    "print(daml_full_std(arr, 1))"
   ]
  },
  {
   "cell_type": "markdown",
   "metadata": {},
   "source": [
    "### 4. Covariance (★☆☆)\n",
    "\n",
    "$$cov(X, Y) = \\sigma_{xy} = \\frac{1}{N - d} \\sum_{i=1}^{N} (x_i - \\bar{x})(y_i - \\bar{y})$$\n",
    "\n",
    "Note: You only need to calculate the covariance *between* the arrays, and only between two arrays.\n",
    "No need to calculate the diagonal of the covariance matrix."
   ]
  },
  {
   "cell_type": "code",
   "execution_count": 5,
   "metadata": {},
   "outputs": [
    {
     "name": "stdout",
     "output_type": "stream",
     "text": [
      "305.9194944930895\n",
      "316.4684425790581\n",
      "305.9194944930895\n",
      "316.4684425790581\n"
     ]
    }
   ],
   "source": [
    "def daml_cov(x, y, ddof=0):\n",
    "    return ((x - x.mean()) * (y - y.mean())).sum() / (len(x) - ddof)\n",
    "\n",
    "\n",
    "# test\n",
    "print(np.cov([arr, acr], ddof=0)[0, 1])\n",
    "print(np.cov([arr, acr], ddof=1)[0, 1])\n",
    "print(daml_cov(arr, acr, 0))\n",
    "print(daml_cov(arr, acr, 1))"
   ]
  },
  {
   "cell_type": "markdown",
   "metadata": {},
   "source": [
    "### 5. Correlation (★★☆)\n",
    "\n",
    "$$corr(X, Y) = r = \\frac{cov(X, Y)}{\\sigma_x \\sigma_y} = \\frac{\\sigma_{xy}}{\\sigma_x \\sigma_y}$$\n",
    "\n",
    "Note: You only need to implement the correlation coefficient between two arrays.\n",
    "No need for the entire matrix of the `p-values`.  Also, degrees of freedom are\n",
    "meaningless for correlation (the $1/(N - ddof)$ is simplified in the equation)."
   ]
  },
  {
   "cell_type": "code",
   "execution_count": 6,
   "metadata": {},
   "outputs": [
    {
     "name": "stdout",
     "output_type": "stream",
     "text": [
      "0.9991840136269693\n",
      "0.9991840136269692\n",
      "0.9991840136269692\n"
     ]
    }
   ],
   "source": [
    "def daml_corr(x, y):\n",
    "    ddof = len(x) - 1\n",
    "    return daml_cov(x, y, ddof) / (daml_std(x, ddof) * daml_std(y, ddof))\n",
    "\n",
    "\n",
    "def daml_full_corr(x, y):\n",
    "    return ( (((x - x.mean()) * (y - y.mean())).sum() / len(x))\n",
    "            / (  (np.sqrt(((x - x.mean()) ** 2).sum() / len(x)))\n",
    "               * (np.sqrt(((y - y.mean()) ** 2).sum() / len(x)))\n",
    "           ))\n",
    "\n",
    "# test\n",
    "print(np.corrcoef([arr, acr])[0, 1])\n",
    "print(daml_corr(arr, acr))\n",
    "print(daml_full_corr(arr, acr))"
   ]
  }
 ],
 "metadata": {
  "anaconda-cloud": {},
  "kernelspec": {
   "display_name": "Python 3",
   "language": "python",
   "name": "python3"
  },
  "language_info": {
   "codemirror_mode": {
    "name": "ipython",
    "version": 3
   },
   "file_extension": ".py",
   "mimetype": "text/x-python",
   "name": "python",
   "nbconvert_exporter": "python",
   "pygments_lexer": "ipython3",
   "version": "3.6.3"
  }
 },
 "nbformat": 4,
 "nbformat_minor": 1
}
