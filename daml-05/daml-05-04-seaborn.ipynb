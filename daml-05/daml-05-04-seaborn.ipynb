{
 "cells": [
  {
   "cell_type": "markdown",
   "metadata": {
    "slideshow": {
     "slide_type": "slide"
    }
   },
   "source": [
    "# DAML 05 - Seaborn\n",
    "\n",
    "Michal Grochmal <michal.grochmal@city.ac.uk>\n",
    "\n",
    "A higher level plotting library.\n",
    "Where by higher-level we mean that it is capable of producing specific types of plots\n",
    "without the need to draw every axes of it.  Also, contrary to `matplotlib`, `seaborn`\n",
    "can operate directly on `pandas`' data frames.\n",
    "\n",
    "`seaborn` depends on `matplotlib`, i.e. it is built on top of it, but also depends on\n",
    "`numpy`, `pandas` and `scipy` for several of its plots.  Moreover, the Python `statsmodels`\n",
    "library can also be used by `seaborn` to get nicer plots.  Despite the fact that we will not\n",
    "cover the `statsmodels` or `scipy` libraries both deserve a mention:\n",
    "\n",
    "-   [scipy][] is the mathematical library for Python on top of NumPy,\n",
    "    it is originally built for signal processing yet contains some regression\n",
    "    and statistical models.\n",
    "\n",
    "-   [statsmodels][] has a good deal of statistical models but also several\n",
    "    tools to perform statistical test (e.g. several null hypothesis tests).\n",
    "\n",
    "[scipy]: https://docs.scipy.org/doc/scipy/reference/ \"scipy documentation\"\n",
    "[statsmodels]: http://www.statsmodels.org \"statsmodels documentation\"\n",
    "\n",
    "And there's more: `seaborn` has a better set of plot aesthetics that makes `matplotlib` plots\n",
    "look considerably nicer.  We have been using the `seaborn-whitegrid` style for a while already,\n",
    "yet the full extent of `seaborn` aesthetics is often even more pleasing to the eye.\n",
    "And good looking graphs are particularly important if you need to convince someone that\n",
    "your work is meaningful (unfortunately, but that is the harsh reality)."
   ]
  },
  {
   "cell_type": "code",
   "execution_count": null,
   "metadata": {
    "slideshow": {
     "slide_type": "fragment"
    }
   },
   "outputs": [],
   "source": [
    "%matplotlib inline\n",
    "import matplotlib.pyplot as plt\n",
    "plt.style.use('classic')\n",
    "import matplotlib as mpl\n",
    "mpl.rcParams['figure.figsize'] = (12.5, 6.0)\n",
    "import numpy as np\n",
    "import pandas as pd"
   ]
  },
  {
   "cell_type": "markdown",
   "metadata": {
    "slideshow": {
     "slide_type": "fragment"
    }
   },
   "source": [
    "With imports done let's compare `matplotlib` graphs before and after applying\n",
    "`seaborn`'s styles."
   ]
  },
  {
   "cell_type": "code",
   "execution_count": null,
   "metadata": {
    "slideshow": {
     "slide_type": "fragment"
    }
   },
   "outputs": [],
   "source": [
    "x = np.linspace(0, 10, 500)\n",
    "y = np.array([np.sin(x), np.cos(x), np.sin(x+1)]).T\n",
    "plt.plot(x, y)\n",
    "plt.legend(['sin(x)', 'cos(x)', 'sinc(x+1)']);"
   ]
  },
  {
   "cell_type": "code",
   "execution_count": null,
   "metadata": {
    "slideshow": {
     "slide_type": "fragment"
    }
   },
   "outputs": [],
   "source": [
    "import seaborn as sns\n",
    "sns.set()"
   ]
  },
  {
   "cell_type": "code",
   "execution_count": null,
   "metadata": {
    "slideshow": {
     "slide_type": "fragment"
    }
   },
   "outputs": [],
   "source": [
    "plt.plot(x, y)\n",
    "plt.legend(['sin(x)', 'cos(x)', 'sinc(x+1)']);"
   ]
  },
  {
   "cell_type": "markdown",
   "metadata": {
    "slideshow": {
     "slide_type": "slide"
    }
   },
   "source": [
    "## Distributions\n",
    "\n",
    "Let's use again the Iris dataset to go on a whirlwind tour of `seaborn` histograms\n",
    "and sample distribution plots."
   ]
  },
  {
   "cell_type": "code",
   "execution_count": null,
   "metadata": {},
   "outputs": [],
   "source": [
    "iris = sns.load_dataset('iris')\n",
    "iris.head()"
   ]
  },
  {
   "cell_type": "code",
   "execution_count": null,
   "metadata": {},
   "outputs": [],
   "source": [
    "ax = plt.axes()\n",
    "ax.hist(iris.sepal_length, alpha=0.5)\n",
    "ax.hist(iris.petal_length, alpha=0.5)\n",
    "ax.hist(iris.petal_width, alpha=0.5)\n",
    "ax.legend();"
   ]
  },
  {
   "cell_type": "code",
   "execution_count": null,
   "metadata": {},
   "outputs": [],
   "source": [
    "ax = plt.axes()\n",
    "sns.kdeplot(iris.sepal_length, shade=True, ax=ax)\n",
    "sns.kdeplot(iris.petal_length, shade=True, ax=ax)\n",
    "sns.kdeplot(iris.petal_width, shade=True, ax=ax)\n",
    "ax.set_ylim((0, 0.5));  # KDE is always normalised"
   ]
  },
  {
   "cell_type": "code",
   "execution_count": null,
   "metadata": {},
   "outputs": [],
   "source": [
    "ax = plt.axes()\n",
    "sns.distplot(iris.sepal_length, ax=ax)\n",
    "sns.distplot(iris.petal_length, ax=ax)\n",
    "sns.distplot(iris.petal_width, ax=ax);\n",
    "ax.set_ylim((0, 0.7));"
   ]
  },
  {
   "cell_type": "code",
   "execution_count": null,
   "metadata": {
    "slideshow": {
     "slide_type": "fragment"
    }
   },
   "outputs": [],
   "source": [
    "sns.kdeplot(iris.sepal_width, iris.sepal_length);"
   ]
  },
  {
   "cell_type": "code",
   "execution_count": null,
   "metadata": {},
   "outputs": [],
   "source": [
    "sns.jointplot(iris.sepal_width, iris.sepal_length);"
   ]
  },
  {
   "cell_type": "code",
   "execution_count": null,
   "metadata": {},
   "outputs": [],
   "source": [
    "sns.jointplot(iris.sepal_width, iris.sepal_length, kind='kde');"
   ]
  },
  {
   "cell_type": "code",
   "execution_count": null,
   "metadata": {},
   "outputs": [],
   "source": [
    "mean = [0, 0]\n",
    "cov = [[3, 1],\n",
    "       [1, 2]]\n",
    "x, y = np.random.multivariate_normal(mean, cov, 10240).T\n",
    "sns.jointplot(x, y, kind='hex');"
   ]
  },
  {
   "cell_type": "markdown",
   "metadata": {},
   "source": [
    "## Joint Plots\n",
    "\n",
    "The joint plot plots one vector against another, and it can even perform a regression for us.\n",
    "We will see much more about regression later, for now let's see how the orbital period and mass\n",
    "of a planet are related to each other.  We can load a dataset about recently discovered planets\n",
    "directly from `seaborn`."
   ]
  },
  {
   "cell_type": "code",
   "execution_count": null,
   "metadata": {
    "slideshow": {
     "slide_type": "fragment"
    }
   },
   "outputs": [],
   "source": [
    "planets = sns.load_dataset('planets')\n",
    "planets.head()"
   ]
  },
  {
   "cell_type": "code",
   "execution_count": null,
   "metadata": {},
   "outputs": [],
   "source": [
    "sns.jointplot(planets.orbital_period, planets.mass, kind='reg');"
   ]
  },
  {
   "cell_type": "markdown",
   "metadata": {},
   "source": [
    "## Pair Plot\n",
    "\n",
    "If we do not require the lateral histograms, which is normally when data points\n",
    "do not overlap much, we can compare more vectors at the same time with `pairplots`.\n",
    "Here we can see why the Iris dataset is so popular, it is a great example of\n",
    "three classes where one can be easily separated but the other two cannot."
   ]
  },
  {
   "cell_type": "code",
   "execution_count": null,
   "metadata": {
    "slideshow": {
     "slide_type": "fragment"
    }
   },
   "outputs": [],
   "source": [
    "sns.pairplot(iris, hue='species');"
   ]
  },
  {
   "cell_type": "markdown",
   "metadata": {
    "slideshow": {
     "slide_type": "slide"
    }
   },
   "source": [
    "## Facets\n",
    "\n",
    "When comparing a numeric quantity against a categorical quantity we would often\n",
    "group by the categorical quantity.  Facet plots allow us to perform the grouping\n",
    "against one or even two categorical quantities as a grid, with the group by\n",
    "operation implicit into the grid.  This is very visible on the titanic dataset."
   ]
  },
  {
   "cell_type": "code",
   "execution_count": null,
   "metadata": {},
   "outputs": [],
   "source": [
    "titanic = sns.load_dataset('titanic')\n",
    "titanic.head()"
   ]
  },
  {
   "cell_type": "code",
   "execution_count": null,
   "metadata": {},
   "outputs": [],
   "source": [
    "grid = sns.FacetGrid(titanic, row='sex', col='class', margin_titles=True)\n",
    "grid.map(plt.hist, 'age');"
   ]
  },
  {
   "cell_type": "markdown",
   "metadata": {
    "slideshow": {
     "slide_type": "slide"
    }
   },
   "source": [
    "## Factor (Cat) Plots\n",
    "\n",
    "Quantiles are often used to describe one feature of data.  Just like with the facet,\n",
    "`seaborn` allows us to look at quantiles whilst grouping by a category.\n",
    "In several different visuals at that."
   ]
  },
  {
   "cell_type": "code",
   "execution_count": null,
   "metadata": {},
   "outputs": [],
   "source": [
    "#sns.factorplot('class', 'fare', 'sex', data=titanic, kind='box', size=12)  # old seaborn\n",
    "sns.catplot('class', 'fare', 'sex', data=titanic, kind='box', height=12);"
   ]
  },
  {
   "cell_type": "code",
   "execution_count": null,
   "metadata": {},
   "outputs": [],
   "source": [
    "#sns.factorplot('class', 'fare', 'sex', data=titanic, kind='violin', size=12)  #old seaborn\n",
    "sns.catplot('class', 'fare', 'sex', data=titanic, kind='violin', height=12);"
   ]
  },
  {
   "cell_type": "markdown",
   "metadata": {
    "slideshow": {
     "slide_type": "slide"
    }
   },
   "source": [
    "## Bars\n",
    "\n",
    "Same as with facets and factor plots the bar plots also allow for groupings."
   ]
  },
  {
   "cell_type": "code",
   "execution_count": null,
   "metadata": {},
   "outputs": [],
   "source": [
    "#sns.factorplot('year', data=planets, kind='count', aspect=3)  # old seaborn\n",
    "sns.catplot('year', data=planets, kind='count', aspect=3);"
   ]
  },
  {
   "cell_type": "code",
   "execution_count": null,
   "metadata": {},
   "outputs": [],
   "source": [
    "#sns.factorplot('year', data=planets, hue='method', kind='count', aspect=2, size=6)  # old seaborn\n",
    "sns.catplot('year', data=planets, hue='method', kind='count', aspect=2, height=6);"
   ]
  }
 ],
 "metadata": {
  "anaconda-cloud": {},
  "kernelspec": {
   "display_name": "Python 3",
   "language": "python",
   "name": "python3"
  },
  "language_info": {
   "codemirror_mode": {
    "name": "ipython",
    "version": 3
   },
   "file_extension": ".py",
   "mimetype": "text/x-python",
   "name": "python",
   "nbconvert_exporter": "python",
   "pygments_lexer": "ipython3",
   "version": "3.6.3"
  }
 },
 "nbformat": 4,
 "nbformat_minor": 1
}
