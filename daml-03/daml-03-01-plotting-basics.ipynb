{
 "cells": [
  {
   "cell_type": "markdown",
   "metadata": {},
   "source": [
    "# DAML 03 - Plotting Basics\n",
    "\n",
    "Michal Grochmal <michal.grochmal@city.ac.uk>"
   ]
  },
  {
   "cell_type": "markdown",
   "metadata": {
    "slideshow": {
     "slide_type": "slide"
    }
   },
   "source": [
    "`matplotlib` is a visualization library from the `SciPy`\n",
    "(or the broader `PyData` if one preferes that name) group of packages.\n",
    "It s original purpose was to make visualizations for `NumPy`\n",
    "in a similar fashion that can be performed in MATLAB.\n",
    "\n",
    "Based on the MATLAB style `matplotlib` has a good deal of historical baggage.\n",
    "For example, its plot styling still uses [gnuplot][]'s colors and markers.\n",
    "Since version 2.x `matplotlib` adopted modern styling defaults,\n",
    "disengaging from MATLAB's old colors.\n",
    "Yet, most software (code) today will still be using `matplotlib` version 1.x\n",
    "where the default apperance of plots was less than appealing.\n",
    "\n",
    "[gnuplot]: http://www.gnuplot.info/ \"ggplot\"\n",
    "\n",
    "[seaborn][] and/or [ggplot][] are some of several interfaces that have been\n",
    "created to get around `matplotlib`'s clunkiness.\n",
    "And even `pandas` can be used as a wrapper around `matplotlib`'s API.\n",
    "That said, customizing plots for presentation will always require\n",
    "some basic knowledge of the interface internals,\n",
    "whether to change line alignments or tick order,\n",
    "and the only way to perform it is with the old and clunky `matplotlib` API.\n",
    "\n",
    "[seaborn]: https://seaborn.pydata.org/ \"seaborn\"\n",
    "[ggplot]: http://ggplot.yhathq.com/ \"ggplot\""
   ]
  },
  {
   "cell_type": "markdown",
   "metadata": {
    "slideshow": {
     "slide_type": "slide"
    }
   },
   "source": [
    "## The import\n",
    "\n",
    "The interface to `matplotlib`'s plotting features is grouped together in the `pyplot` package,\n",
    "and the naming convention most used is to call this package `plt` in your program. "
   ]
  },
  {
   "cell_type": "code",
   "execution_count": null,
   "metadata": {
    "slideshow": {
     "slide_type": "fragment"
    }
   },
   "outputs": [],
   "source": [
    "import matplotlib.pyplot as plt"
   ]
  },
  {
   "cell_type": "markdown",
   "metadata": {
    "slideshow": {
     "slide_type": "slide"
    }
   },
   "source": [
    "### Plotting Backend\n",
    "\n",
    "Plots are images, and images can be generated in hundreds of ways.\n",
    "`matplotlib` supports several engines, which is calls *backends*,\n",
    "e.g. `matplotlib.use('PS')` would use the postscript backend to generate postscript graphics.\n",
    "The two most useful plot displays are: showing a plot as we write and test our code,\n",
    "and saving a plot to an image on disk for later use.\n",
    "\n",
    "The `%matplotlib` magic in `IPython` takes care of the first case.\n",
    "It is a wrapper of sensible backend defaults.\n",
    "Without an argument `%matplotlib` generates an interactive backend for scripts.\n",
    "Yet, for `jupyter` notebooks two options are provided.\n",
    "\n",
    "- `%matplotlib inline` embeds images into the notebook\n",
    "- `%matplotlib notebook` constructs an interactive display in JavaScript\n",
    "\n",
    "Most of the time we will be using `%matplotlib inline` since it is faster\n",
    "and easily maps to images that one can use later.\n",
    "The backend produces PNG images which are displayed as `data:` URLs."
   ]
  },
  {
   "cell_type": "code",
   "execution_count": null,
   "metadata": {
    "slideshow": {
     "slide_type": "slide"
    }
   },
   "outputs": [],
   "source": [
    "%matplotlib inline"
   ]
  },
  {
   "cell_type": "markdown",
   "metadata": {
    "slideshow": {
     "slide_type": "fragment"
    }
   },
   "source": [
    "Let's try plotting a simple function."
   ]
  },
  {
   "cell_type": "code",
   "execution_count": null,
   "metadata": {
    "slideshow": {
     "slide_type": "fragment"
    }
   },
   "outputs": [],
   "source": [
    "import numpy as np\n",
    "x = np.linspace(0, 10, 100)\n",
    "y = np.exp(x - 5)\n",
    "fig = plt.figure(figsize=(14, 6))\n",
    "plt.plot(x, y);"
   ]
  },
  {
   "cell_type": "markdown",
   "metadata": {},
   "source": [
    "Note: the semicolon at the end of the previous cell prevents the output from being printed.\n",
    "i.e. it adds an empty Python line of code at the end,\n",
    "and the return of `plt.plot` is not displayed."
   ]
  },
  {
   "cell_type": "markdown",
   "metadata": {},
   "source": [
    "### The Engine\n",
    "\n",
    "If we prevented the output of the previous cell how is the graph displayed?\n",
    "The `%matplotlib` magic and the backend behind it build the figure(s) generated in the cell\n",
    "during the cell processing, and *after* the cell finishes the figure(s) are displayed.\n",
    "This also means tow extra things:\n",
    "\n",
    "- You can add extra output in a cell apart from the figure\n",
    "- You can edit and already created figure as long as the cell did not finish"
   ]
  },
  {
   "cell_type": "markdown",
   "metadata": {},
   "source": [
    "### Figure size\n",
    "\n",
    "In the above we used the `figsize` argument.\n",
    "It defines the size of the resulting figure **in inches**, based on the default DPI of 72.\n",
    "Figure size is completely arbitrary,\n",
    "and is likely that you want different sizes depending on the display size or accuracy of the figure.\n",
    "One way to specify the figure size for all plots in a session is to alter `figure.figsize` as follows:"
   ]
  },
  {
   "cell_type": "code",
   "execution_count": null,
   "metadata": {
    "slideshow": {
     "slide_type": "fragment"
    }
   },
   "outputs": [],
   "source": [
    "import matplotlib as mpl\n",
    "mpl.rcParams['figure.figsize'] = (12.5, 3)\n",
    "plt.plot(x, y);"
   ]
  },
  {
   "cell_type": "markdown",
   "metadata": {},
   "source": [
    "The `matplotlib` default is a `figure.figsize` of `(5, 3)` (width, height) inches.\n",
    "This is often too small for presentations but good enough for a quick insight.\n",
    "\n",
    "We are configuring the size of the entire figure, not of the plot within it.\n",
    "A single figure can hold several plots (axes) at once."
   ]
  },
  {
   "cell_type": "markdown",
   "metadata": {
    "slideshow": {
     "slide_type": "slide"
    }
   },
   "source": [
    "## MATLAB Interface\n",
    "\n",
    "One way to control `matplotlib`'s plots is with a MATLAB-style interface.\n",
    "To generate several plots we use `plt.subplot`,\n",
    "which can be called only once per figure and has a signature.\n",
    "\n",
    "```python\n",
    "plt.subplot(rows, columns, current_plot, ...)\n",
    "```\n",
    "\n",
    "Akin of MATLAB, if each argument is a single digit only,\n",
    "then they can be combined into a single arguments.\n",
    "i.e. `plt.subplot(2, 2, 1)` is equivalent to `plt.subplot(221)`.\n",
    "Yes, that's horribly confusing.\n",
    "\n",
    "The final argument indicates the plot on which the following commands will execute.\n",
    "`matplotlib` stores the state of plot selection internally."
   ]
  },
  {
   "cell_type": "code",
   "execution_count": null,
   "metadata": {
    "slideshow": {
     "slide_type": "fragment"
    }
   },
   "outputs": [],
   "source": [
    "x = np.linspace(0, 16, 128)\n",
    "plt.figure(figsize=(13, 7))\n",
    "\n",
    "plt.subplot(221)\n",
    "plt.plot(x, np.exp(x))\n",
    "plt.title('$e^x$')\n",
    "\n",
    "plt.subplot(222)\n",
    "plt.plot(x, 1/np.exp(x))\n",
    "plt.title('$1/e^x$')\n",
    "\n",
    "plt.subplot(223)\n",
    "plt.plot(x, np.tan(x))\n",
    "plt.title('$tan(x)$')\n",
    "\n",
    "plt.subplot(224)\n",
    "plt.plot(x, np.sin(x))\n",
    "plt.title('$sin(x)$');"
   ]
  },
  {
   "cell_type": "markdown",
   "metadata": {
    "slideshow": {
     "slide_type": "subslide"
    }
   },
   "source": [
    "This is pretty old and hard to use.\n",
    "One can get the current figure (`plt.gcf`) and current axes/plot (`plt.gca`).\n",
    "All of this was a good way to migrate from MATLAB to Python,\n",
    "and one will still find lots of code written with this interface,\n",
    "but this is not very Pythonic."
   ]
  },
  {
   "cell_type": "markdown",
   "metadata": {
    "slideshow": {
     "slide_type": "slide"
    }
   },
   "source": [
    "## Pythonic Interface\n",
    "\n",
    "`plt.subplots` (note the **s**, not a great name choice) generates and returns handles to subplots.\n",
    "The handles are organized in a matrix the same way as rows and columns are provided in the signature:\n",
    "\n",
    "```python\n",
    "fig, axes = plt.subplots(rows, columns, ...)\n",
    "```\n",
    "\n",
    "Therefore `axes[:, 1]` is the 2nd column of axes/plots in the figure.\n",
    "If one does not particularly care about the plot order there is also `axes.flat`,\n",
    "which holds all axes references in a single dimension array.\n",
    "Let's replicate the previous figure with this interface."
   ]
  },
  {
   "cell_type": "code",
   "execution_count": null,
   "metadata": {
    "slideshow": {
     "slide_type": "fragment"
    }
   },
   "outputs": [],
   "source": [
    "x = np.linspace(0, 16, 128)\n",
    "fig, axi = plt.subplots(2, 2, figsize=(13, 7))\n",
    "\n",
    "axi[0, 0].plot(x, np.exp(x))\n",
    "axi[0, 0].set_title('$e^x$')\n",
    "\n",
    "axi[0, 1].plot(x, 1/np.exp(x))\n",
    "axi[0, 1].set_title('$1/e^x$')\n",
    "\n",
    "axi[1, 0].plot(x, np.tan(x))\n",
    "axi[1, 0].set_title('$tan(x)$')\n",
    "\n",
    "axi.flat[3].plot(x, np.sin(x))\n",
    "axi.flat[3].set_title('$sin(x)$');"
   ]
  },
  {
   "cell_type": "markdown",
   "metadata": {
    "slideshow": {
     "slide_type": "subslide"
    }
   },
   "source": [
    "You may have noticed that *axes* and *plots* are the same thing for `matplotlib`,\n",
    "*axes* is how `matplotlib` calls plots moreover since axes can contain other axes.\n",
    "This is to not be confused with `NumPy`'s *axis*,\n",
    "especially since *axis* is the singular of *axes*.\n",
    "\n",
    "Another thing to notice is that the MATLAB interface is 1-based,\n",
    "whilst the Pythonic interface is 0-based for indexing plots.\n",
    "In the Pythonic interface most `plt` commands need to be executed on the axis\n",
    "(e.g. `plt.plot` vs `ax.plot`), but there are exceptions (e.g. `plt.title` vs `ax.set_title`).\n",
    "Most (although not all) of these discrepancies simply add `set_` to the beginning of the functions.\n",
    "\n",
    "Despite discrepancies the Pythonic interface is much easier to use when one is working\n",
    "with dozens of axes or several figures at once."
   ]
  }
 ],
 "metadata": {
  "anaconda-cloud": {},
  "kernelspec": {
   "display_name": "Python 3",
   "language": "python",
   "name": "python3"
  },
  "language_info": {
   "codemirror_mode": {
    "name": "ipython",
    "version": 3
   },
   "file_extension": ".py",
   "mimetype": "text/x-python",
   "name": "python",
   "nbconvert_exporter": "python",
   "pygments_lexer": "ipython3",
   "version": "3.6.3"
  }
 },
 "nbformat": 4,
 "nbformat_minor": 1
}
