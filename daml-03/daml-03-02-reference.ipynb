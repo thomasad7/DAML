{
 "cells": [
  {
   "cell_type": "markdown",
   "metadata": {},
   "source": [
    "# DAML 03 - Plot Reference\n",
    "\n",
    "Michal Grochmal <michal.grochmal@city.ac.uk>"
   ]
  },
  {
   "cell_type": "markdown",
   "metadata": {
    "slideshow": {
     "slide_type": "fragment"
    }
   },
   "source": [
    "Let's explore that `pyplot` interface with some examples of stylying graphs.\n",
    "First the imports."
   ]
  },
  {
   "cell_type": "code",
   "execution_count": null,
   "metadata": {
    "slideshow": {
     "slide_type": "fragment"
    }
   },
   "outputs": [],
   "source": [
    "import numpy as np\n",
    "import matplotlib.pyplot as plt\n",
    "%matplotlib inline"
   ]
  },
  {
   "cell_type": "markdown",
   "metadata": {
    "slideshow": {
     "slide_type": "slide"
    }
   },
   "source": [
    "One could use `plt.figure` and then `plt.axes` to get a hold of a single\n",
    "figure with a single axes but using `plt.subplots` is often quicker.\n",
    "By default (i.e. without positional arguments) `plt.subplots` will create\n",
    "a single figure containing one axes."
   ]
  },
  {
   "cell_type": "code",
   "execution_count": null,
   "metadata": {
    "slideshow": {
     "slide_type": "fragment"
    }
   },
   "outputs": [],
   "source": [
    "fig, ax = plt.subplots(figsize=(11, 3))"
   ]
  },
  {
   "cell_type": "markdown",
   "metadata": {
    "slideshow": {
     "slide_type": "slide"
    }
   },
   "source": [
    "## Numerical Computing - Again\n",
    "\n",
    "We saw a handful of plots already but we did not talk about how they were made.\n",
    "A plotted function is made numerically,\n",
    "i.e. several points are plotted and straight lines are interleaved between them.\n",
    "In other words, there is nothing particularly clever happening inside the plotting engine,\n",
    "you only apply a function to each point and then plot the (x, y) vectors against each other.\n",
    "For example, if we use a small number of points we can see the straight lines."
   ]
  },
  {
   "cell_type": "code",
   "execution_count": null,
   "metadata": {
    "slideshow": {
     "slide_type": "fragment"
    }
   },
   "outputs": [],
   "source": [
    "fig, axi = plt.subplots(1, 2, figsize=(14, 5))\n",
    "\n",
    "x = np.linspace(0, 10, 128)\n",
    "axi.flat[0].plot(x, np.exp(x))\n",
    "x = np.linspace(0, 10, 5)\n",
    "axi.flat[1].plot(x, np.exp(x));"
   ]
  },
  {
   "cell_type": "markdown",
   "metadata": {
    "slideshow": {
     "slide_type": "slide"
    }
   },
   "source": [
    "## Styling the Plot\n",
    "\n",
    "As a visualization library specialized in plotting numerical functions,\n",
    "`matplotlib` has lots of ways to customize a plot.\n",
    "The simplest customizations are the most often used, these include:\n",
    "styles of lines, axes limits and text on the plot.\n",
    "There are many, many, many more customization options,\n",
    "most of which are useful in particular problems and require a look into\n",
    "the documentation even from people with great memory.\n",
    "The secret is not to remember the information,\n",
    "it is to have a good intuition about how to search for it."
   ]
  },
  {
   "cell_type": "markdown",
   "metadata": {},
   "source": [
    "### Colors, Lines and GNUPlot\n",
    "\n",
    "The `color=` argument accepts:\n",
    "\n",
    "- HTML color names\n",
    "- HTML colors in `#RRGGBB` format\n",
    "- An `(R, G, B)` tuple\n",
    "- A single number between 0 and 1 meaning a grayscale\n",
    "- And GNUPlot color names (including abbreviations)\n",
    "\n",
    "The `linestyle=` argument accepts:\n",
    "\n",
    "- Named styles: solid, dotted, dashed, dashdot\n",
    "- Abbreviated styles: `-`, `:`. `--`, `-.` \n",
    "\n",
    "The `marker=` argument accepts several single character abbreviations of markers.\n",
    "\n",
    "All these arguments can be combined as a single argument using the abbreviations.\n",
    "By passing a 3rd argument to `plot` (or similar function) combining the\n",
    "line style, color and marker (in that order) produces a specific plot style.\n",
    "This is legacy from how the GNUPlot used style definitions,\n",
    "yet it is still used in much of today's code."
   ]
  },
  {
   "cell_type": "markdown",
   "metadata": {},
   "source": [
    "Here are the reference tables for abbreviations:\n",
    "\n",
    "| string | line style |\n",
    "|:------ |:---------- |\n",
    "| -      | solid      |\n",
    "| --     | dashed     |\n",
    "| -.     | dash-dot   |\n",
    "| :      | dotted     |\n",
    "\n",
    "| character | color   |\n",
    "|:--------- |:------- |\n",
    "| b         | blue    |\n",
    "| g         | green   |\n",
    "| r         | red     |\n",
    "| c         | cyan    |\n",
    "| m         | magenta |\n",
    "| y         | yellow  |\n",
    "| k         | black   |\n",
    "| w         | white   |\n",
    "\n",
    "| character | marker         |\n",
    "|:--------- |:-------------- |\n",
    "| .         | point          |\n",
    "| ,         | pixel          |\n",
    "| o         | circle         |\n",
    "| v         | triangle down  |\n",
    "| ^         | triangle up    |\n",
    "| <         | triangle left  |\n",
    "| >         | triangle right |\n",
    "| s         | square         |\n",
    "| p         | pentagon       |\n",
    "| \\*        | star           |\n",
    "| h         | hexagon        |\n",
    "| H         | fat hexagon    |\n",
    "| \\+        | plus           |\n",
    "| x         | ex             |\n",
    "| D         | diamond        |\n",
    "| d         | thin diamond   |\n",
    "\n",
    "Several other variants are available too, see [the docs][plot].\n",
    "\n",
    "[plot]: https://matplotlib.org/api/_as_gen/matplotlib.pyplot.plot.html \"matplotlib plot\""
   ]
  },
  {
   "cell_type": "markdown",
   "metadata": {},
   "source": [
    "By calling `plot` several times on the same axes one can plot several functions,\n",
    "let's build a handful of line style, color and marker examples on a single image."
   ]
  },
  {
   "cell_type": "code",
   "execution_count": null,
   "metadata": {
    "slideshow": {
     "slide_type": "slide"
    }
   },
   "outputs": [],
   "source": [
    "fig, ax = plt.subplots(figsize=(14, 6))\n",
    "x = np.linspace(0, 2, 32)\n",
    "\n",
    "ax.plot(x, np.exp(x + 0.1), color='green')\n",
    "ax.plot(x, np.exp(x + 0.2), color='#fe11aa')\n",
    "ax.plot(x, np.exp(x + 0.3), color='crimson')\n",
    "ax.plot(x, np.exp(x + 0.4), color='g', linestyle='dashdot')\n",
    "ax.plot(x, np.exp(x + 0.5), color='k', linestyle='dashdot', marker='p')\n",
    "ax.plot(x, np.exp(x + 0.6), '-.b')\n",
    "ax.plot(x, np.exp(x + 0.6), '-.m^');"
   ]
  },
  {
   "cell_type": "markdown",
   "metadata": {
    "slideshow": {
     "slide_type": "slide"
    }
   },
   "source": [
    "### Labels\n",
    "\n",
    "A plot isn't complete without text.\n",
    "Typical annotations on a plot are what is on each axis and a title."
   ]
  },
  {
   "cell_type": "code",
   "execution_count": null,
   "metadata": {
    "slideshow": {
     "slide_type": "fragment"
    }
   },
   "outputs": [],
   "source": [
    "fig, ax = plt.subplots(figsize=(14, 6))\n",
    "x = np.linspace(0, 10, 64)\n",
    "\n",
    "ax.plot(x, np.exp(x), '--m')\n",
    "ax.set_title('Natural Exponent')\n",
    "ax.set_xlabel('x')\n",
    "ax.set_ylabel('$e^x$');"
   ]
  },
  {
   "cell_type": "markdown",
   "metadata": {
    "slideshow": {
     "slide_type": "fragment"
    }
   },
   "source": [
    "When several functions are plotted a legend is a way to describe the plot.\n",
    "The legend aggregates all `label=` arguments of plotting functions.\n",
    "The `loc=` argument is used to provide a hint for the best legend location."
   ]
  },
  {
   "cell_type": "code",
   "execution_count": null,
   "metadata": {
    "slideshow": {
     "slide_type": "fragment"
    }
   },
   "outputs": [],
   "source": [
    "fig, ax = plt.subplots(figsize=(14, 6))\n",
    "x = np.linspace(-5, 5, 64)\n",
    "\n",
    "ax.plot(x, np.exp(x), '-m', label='$e^x$')\n",
    "ax.plot(x, 1/np.exp(x), '-b', label='1/e^x')\n",
    "ax.set_title('Natural Exponent')\n",
    "ax.set_xlabel('x')\n",
    "ax.set_ylabel('f(x)')\n",
    "ax.legend(loc='center');"
   ]
  },
  {
   "cell_type": "markdown",
   "metadata": {
    "slideshow": {
     "slide_type": "slide"
    }
   },
   "source": [
    "### Axis Limits\n",
    "\n",
    "By default the limits of the axes are taken from the minimum and maximum values of the plotted function.\n",
    "Yet, we can customize those."
   ]
  },
  {
   "cell_type": "code",
   "execution_count": null,
   "metadata": {
    "slideshow": {
     "slide_type": "fragment"
    }
   },
   "outputs": [],
   "source": [
    "fig, ax = plt.subplots(figsize=(14, 6))\n",
    "x = np.linspace(0, 10, 64)\n",
    "\n",
    "ax.plot(x, np.exp(x))\n",
    "ax.axis([4, 8, 0, 2000]);"
   ]
  },
  {
   "cell_type": "markdown",
   "metadata": {
    "slideshow": {
     "slide_type": "slide"
    }
   },
   "source": [
    "Other options are:\n",
    "\n",
    "- `axis('tight')` - binds closer to the function limits (really visible within crowded plots)\n",
    "- `axis('equal')` - same scale on both axes (x and y)\n",
    "\n",
    "One can set the axes independently with `set_xlim` and `set_ylim`.\n",
    "Moreover, one can combine labeling and tiding the axes with the `set` method of the axes,\n",
    "which can perform several plot functions at once.  For example:"
   ]
  },
  {
   "cell_type": "code",
   "execution_count": null,
   "metadata": {
    "slideshow": {
     "slide_type": "fragment"
    }
   },
   "outputs": [],
   "source": [
    "fig, ax = plt.subplots(figsize=(14, 6))\n",
    "x = np.linspace(0, 10, 64)\n",
    "\n",
    "ax.axis([4, 8, 0, 2000]);\n",
    "ax.plot(x, np.exp(x))\n",
    "ax.set(xlim=(4, 8), ylim=(0, 2000), xlabel='x', ylabel='$e^x$', title='Natural Exponent');"
   ]
  },
  {
   "cell_type": "markdown",
   "metadata": {},
   "source": [
    "### $\\LaTeX$\n",
    "\n",
    "You may have noticed stings written between dollar signs (`$`),\n",
    "which, when plotted, produce some magic characters.\n",
    "Text within dollar signs is interpreted as [$\\LaTeX$][latex] (pronounced lah-tek)\n",
    "and can contain a plethora of mathematical expressions.\n",
    "\n",
    "[latex]: https://www.latex-project.org/ \"LaTeX project\"\n",
    "\n",
    "$\\LaTeX$ is a typesetting engine, originally for mathematical papers,\n",
    "used as a standard for publications in several fields.\n",
    "$\\LaTeX$ is huge, and covering it is a course of its own;\n",
    "moreover since `Jupyter` supports only partial $\\LaTeX$ through the [MathJax][math]\n",
    "JavaScript library, whilst `matplotlib` support is through its selected backend engine.\n",
    "Yet, we will try a quick run through.\n",
    "\n",
    "[math]: https://www.mathjax.org/ \"MathJax\""
   ]
  },
  {
   "cell_type": "markdown",
   "metadata": {},
   "source": [
    "The `{` and `}` characters perform grouping, the `\\` character starts a function.\n",
    "A function performs some form of display action based on the groupings passed to it.\n",
    "(One can think of the groupings as function arguments.)\n",
    "Here are some characters and display functions supported.\n",
    "\n",
    "| symbol               | code                 |\n",
    "|:-------------------- |:-------------------- |\n",
    "| $\\alpha$             | `\\alpha`             |\n",
    "| $\\phi$               | `\\phi`               |\n",
    "| $\\Phi$               | `\\Phi`               |\n",
    "| $\\Pi$                | `\\Pi`                |\n",
    "| $\\pi$                | `\\pi`                |\n",
    "| $\\theta$             | `\\theta`             |\n",
    "| $\\mu$                | `\\mu`                |\n",
    "| $\\nabla$             | `\\nabla`             |\n",
    "| $\\frac{\\mu}{\\theta}$ | `\\frac{\\mu}{\\theta}` |\n",
    "| $x^y$                | `x^y`                |\n",
    "| $x_y$                | `x_y`                |\n",
    "| $\\sum$               | `\\sum`               |\n",
    "| $\\prod$              | `\\prod`              |\n",
    "| $\\in$                | `\\in`                |\n",
    "| $\\notin$             | `\\notin`             |\n",
    "| $\\partial$           | `\\partial`           |\n",
    "| $\\ell$               | `\\ell`               |\n",
    "| $\\neg$               | `\\neg`               |\n",
    "| $\\forall$            | `\\forall`            |\n",
    "| $\\vec{x}$            | `\\vec{x}`            |\n",
    "\n",
    "Symbol support is slightly different between `matplotlib` and `jupyter`\n",
    "but we can use `jupyter` equations show how we can combine $\\LaTeX$ elements.\n",
    "\n",
    "$$\n",
    "\\frac{\\sum^{N}_{i=0} x^i}{i}\n",
    "$$\n",
    "\n",
    "The above equation is generated by `\\frac{\\sum^{N}_{i=0} x^i}{i}`."
   ]
  },
  {
   "cell_type": "markdown",
   "metadata": {
    "slideshow": {
     "slide_type": "slide"
    }
   },
   "source": [
    "## Other Plotting Functions - Error Bars\n",
    "\n",
    "There are more specialized functions in `matplotlib` for specific problems.\n",
    "One such is `errorbar`, for plotting measures with a measure error.\n",
    "Here the `fmt=` argument works as the third argument to `plot`,\n",
    "accepting abbreviations of line style, color and/or marker."
   ]
  },
  {
   "cell_type": "code",
   "execution_count": null,
   "metadata": {
    "slideshow": {
     "slide_type": "slide"
    }
   },
   "outputs": [],
   "source": [
    "fig, ax = plt.subplots(figsize=(14, 6))\n",
    "x = np.linspace(0, 2, 64)\n",
    "dy = 0.5 + 0.2 * np.random.random(64)\n",
    "y = np.exp(x) + dy * np.random.randn(64)\n",
    "\n",
    "ax.errorbar(x, y, yerr=dy, fmt='pg', elinewidth=0.5, capsize=2);"
   ]
  },
  {
   "cell_type": "markdown",
   "metadata": {
    "slideshow": {
     "slide_type": "slide"
    }
   },
   "source": [
    "Of course one can style the `errorbar` plot too."
   ]
  },
  {
   "cell_type": "code",
   "execution_count": null,
   "metadata": {
    "slideshow": {
     "slide_type": "fragment"
    }
   },
   "outputs": [],
   "source": [
    "fig, ax = plt.subplots(figsize=(14, 6))\n",
    "x = np.linspace(0, 2, 64)\n",
    "dy = 0.5 + 0.2 * np.random.random(64)\n",
    "y = np.exp(x) + dy * np.random.randn(64)\n",
    "\n",
    "ax.errorbar(x, y, yerr=dy, fmt='H', color='navy', ecolor='aquamarine', elinewidth=3, capsize=0);"
   ]
  },
  {
   "cell_type": "markdown",
   "metadata": {
    "slideshow": {
     "slide_type": "fragment"
    }
   },
   "source": [
    "`yerr` are vertical error bars, `xerr` can be used to plot horizontal ones.\n",
    "\n",
    "One cannot remember the full set of customizations.\n",
    "Each plot is different and to make a plot look good one will always need to try out\n",
    "several options, and search the documentation for customization possibilities."
   ]
  }
 ],
 "metadata": {
  "anaconda-cloud": {},
  "kernelspec": {
   "display_name": "Python 3",
   "language": "python",
   "name": "python3"
  },
  "language_info": {
   "codemirror_mode": {
    "name": "ipython",
    "version": 3
   },
   "file_extension": ".py",
   "mimetype": "text/x-python",
   "name": "python",
   "nbconvert_exporter": "python",
   "pygments_lexer": "ipython3",
   "version": "3.6.3"
  }
 },
 "nbformat": 4,
 "nbformat_minor": 1
}
