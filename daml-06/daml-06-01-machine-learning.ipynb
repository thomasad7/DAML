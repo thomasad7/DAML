{
 "cells": [
  {
   "cell_type": "markdown",
   "metadata": {},
   "source": [
    "# DAML 06 - Machine Learning\n",
    "\n",
    "Michal Grochmal <michal.grochmal@city.ac.uk>"
   ]
  },
  {
   "cell_type": "markdown",
   "metadata": {},
   "source": [
    "Until now we have seen a lot of ways to describe data (including plotting) which allows\n",
    "us to get some insight into the processes that caused the creation of that data.\n",
    "We can also argue that we can get insight into the process of measuring this data.\n",
    "The analysis and interpretation of data are a branch of statistics therefore we can\n",
    "classify what we have been doing until now as an exercise in statistics.\n",
    "\n",
    "Machine learning can be understood as a branch of statistics and is classified\n",
    "as such by some.  On the other hand, several people argue that machine learning\n",
    "is a different area that overlap with statistics.  Without caring about the schematics\n",
    "we will say that machine learning is a collection of techniques that extract and\n",
    "use information contained in the data to **predict the behavior** of similar data.\n",
    "Note that this is different from the general goal of statistics.\n",
    "\n",
    "-   Statistics' goal is to interpret the resulting model of the data\n",
    "    and from there understand the inherent process that creates the data.\n",
    "    Whether we can construct a similar process and create new data\n",
    "    in similar fashion is not a requirement.\n",
    "\n",
    "-   Machine learning's goal is to construct a model that will predict the\n",
    "    behavior of new inputs just as if the inherent process would perform,\n",
    "    this without necessarily performing or understanding the inherent process\n",
    "    creating the data.\n",
    "\n",
    "It is viable to, and we often do, perform statistics on the products of machine learning.\n",
    "For example, after running thousands of models we perform statistics to try to understand\n",
    "non-linear relations in the *hyperparameters* of an ML model."
   ]
  },
  {
   "cell_type": "markdown",
   "metadata": {},
   "source": [
    "## Forms of Machine Learning\n",
    "\n",
    "-   Supervised Learning\n",
    "    *   Classification\n",
    "    *   Regression\n",
    "-   Unsupervised Learning\n",
    "    *   Dimensionality Reduction\n",
    "    *   Clustering\n",
    "\n",
    "A single technique does not necessarily fit one specific bullet point,\n",
    "e.g. SVMs can be used for classification or regression,\n",
    "and ANNs can be used for any of the points above."
   ]
  },
  {
   "cell_type": "markdown",
   "metadata": {},
   "source": [
    "## Validation\n",
    "\n",
    "Since we do not have mathematical rigor on the selection of hyperparameters,\n",
    "we need some form of checking whether our model is (more-or-less) right.\n",
    "Let's see how to build a model in Python, then how those so-called hyperparameters\n",
    "work and then we see if we can think of a way of evaluating our models."
   ]
  }
 ],
 "metadata": {
  "anaconda-cloud": {},
  "kernelspec": {
   "display_name": "Python 3",
   "language": "python",
   "name": "python3"
  },
  "language_info": {
   "codemirror_mode": {
    "name": "ipython",
    "version": 3
   },
   "file_extension": ".py",
   "mimetype": "text/x-python",
   "name": "python",
   "nbconvert_exporter": "python",
   "pygments_lexer": "ipython3",
   "version": "3.6.3"
  }
 },
 "nbformat": 4,
 "nbformat_minor": 1
}
