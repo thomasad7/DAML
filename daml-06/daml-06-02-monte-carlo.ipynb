{
 "cells": [
  {
   "cell_type": "markdown",
   "metadata": {},
   "source": [
    "# DAML 06 - Monte Carlo\n",
    "\n",
    "Michal Grochmal <michal.grochmal@city.ac.uk>"
   ]
  },
  {
   "cell_type": "markdown",
   "metadata": {},
   "source": [
    "The idea of the Monte Carlo technique consists of measuring random points in a search space\n",
    "and then take out conclusions from the measured points.  The bigger number of random points\n",
    "the more likely we are to an exact solution.  In other words, the method *converges* on a solution.\n",
    "\n",
    "We will play with `NumPy` to build a Monte Carlo method."
   ]
  },
  {
   "cell_type": "code",
   "execution_count": null,
   "metadata": {},
   "outputs": [],
   "source": [
    "import numpy as np\n",
    "import matplotlib.pyplot as plt\n",
    "%matplotlib inline\n",
    "plt.style.use('seaborn-talk')"
   ]
  },
  {
   "cell_type": "markdown",
   "metadata": {},
   "source": [
    "As an example we can estimate the value of $\\pi$ using the distance between the origin\n",
    "and the radius of a circle centered on the origin.  This comes straight from Pythagoras:\n",
    "\n",
    "$$h^2 = a^2 + b^2 \\Leftrightarrow d = \\sqrt{x^2 + y^2}$$\n",
    "\n",
    "If a point is inside the circle, then the distance will smaller then the radius, otherwise\n",
    "it will be bigger.  We will use a circle or radius 1, since that is the basic trigonometric circle.\n",
    "The argument to our estimator is the number of points used."
   ]
  },
  {
   "cell_type": "code",
   "execution_count": null,
   "metadata": {},
   "outputs": [],
   "source": [
    "def approx_pi(n=1000, plot=False):\n",
    "    points = np.random.rand(n, 2)\n",
    "    result = np.sqrt(points[:, 0]**2 + points[:, 1]**2) < 1.0\n",
    "    pi = 4 * (result.sum() /  n)\n",
    "    if plot:\n",
    "        fig, ax = plt.subplots(figsize=(7, 7))\n",
    "        ax.plot(points[result, 0], points[result, 1], 'o', color='crimson')\n",
    "        ax.plot(points[~result, 0], points[~result, 1], 'o', color='steelblue')\n",
    "        ax.axis('equal')\n",
    "        ax.axis([0, 1, 0, 1])\n",
    "    return pi\n",
    "\n",
    "\n",
    "approx_pi(plot=True)"
   ]
  },
  {
   "cell_type": "markdown",
   "metadata": {},
   "source": [
    "Kind of fuzzy, and $\\pi$ is quite off too, let's try more points."
   ]
  },
  {
   "cell_type": "code",
   "execution_count": null,
   "metadata": {},
   "outputs": [],
   "source": [
    "approx_pi(10**6, plot=True)"
   ]
  },
  {
   "cell_type": "markdown",
   "metadata": {},
   "source": [
    "That's much better.\n",
    "This makes for the points that the more points we use the more likely\n",
    "we are to reach the correct solution."
   ]
  },
  {
   "cell_type": "code",
   "execution_count": null,
   "metadata": {},
   "outputs": [],
   "source": [
    "for i in range(7):\n",
    "    print(10**i, approx_pi(10**i))"
   ]
  },
  {
   "cell_type": "markdown",
   "metadata": {},
   "source": [
    "Hmmm... but that still variates wildly.\n",
    "What if we repeat the approximation and then take the mean of that."
   ]
  },
  {
   "cell_type": "code",
   "execution_count": null,
   "metadata": {},
   "outputs": [],
   "source": [
    "def approx_times(func, times=10, *args, **kwargs):\n",
    "    results = []\n",
    "    for i in range(times):\n",
    "        results.append(func(*args, **kwargs))\n",
    "    return np.mean(results)\n",
    "\n",
    "\n",
    "approx_times(approx_pi, times=3, n=1000)"
   ]
  },
  {
   "cell_type": "markdown",
   "metadata": {},
   "source": [
    "Doesn't seem like an improvement.\n",
    "Let's try to do that on a grid,\n",
    "i.e. we approximate several numbers of points and repeat that several different times."
   ]
  },
  {
   "cell_type": "code",
   "execution_count": null,
   "metadata": {},
   "outputs": [],
   "source": [
    "for i in range(1, 26):\n",
    "    for j in range(7):\n",
    "        if i % 5 == 0 and j % 3 == 0:\n",
    "            print(i, 10**j, approx_times(approx_pi, times=i, n=10**j))\n",
    "np.pi"
   ]
  },
  {
   "cell_type": "markdown",
   "metadata": {},
   "source": [
    "It gets better and better but either increasing the number of random points\n",
    "or taking the mean from several runs, makes for the same improvement.\n",
    "In other words there is no real difference in the output if we either\n",
    "increase the number of random points or repeat the measure several times.\n",
    "This is because Monte Carlo is a **brute force** algorithm,\n",
    "it tries many, many combinations to try to find a solution.\n",
    "\n",
    "But is Monte Carlo Machine Learning?"
   ]
  }
 ],
 "metadata": {
  "anaconda-cloud": {},
  "kernelspec": {
   "display_name": "Python 3",
   "language": "python",
   "name": "python3"
  },
  "language_info": {
   "codemirror_mode": {
    "name": "ipython",
    "version": 3
   },
   "file_extension": ".py",
   "mimetype": "text/x-python",
   "name": "python",
   "nbconvert_exporter": "python",
   "pygments_lexer": "ipython3",
   "version": "3.6.3"
  }
 },
 "nbformat": 4,
 "nbformat_minor": 1
}
