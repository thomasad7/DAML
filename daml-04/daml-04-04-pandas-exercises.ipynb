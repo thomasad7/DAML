{
 "cells": [
  {
   "cell_type": "markdown",
   "metadata": {},
   "source": [
    "# DAML 04 - Pandas Exercises\n",
    "\n",
    "Michal Grochmal <michal.grochmal@city.ac.uk>\n",
    "\n",
    "Exercises rating:\n",
    "\n",
    "★☆☆ - You should be able to based on Python knowledge plus lecture contents.\n",
    "\n",
    "★★☆ - You will need to do extra thinking and some extra reading/searching.\n",
    "\n",
    "★★★ - The answer is difficult to find by a simple search,\n",
    "      requires you to do a considerable amount of extra work by yourself\n",
    "      (feel free to ignore these exercises if you're short on time).\n",
    "\n",
    "We will use the titanic data for this set of exercises, it gives the account of the survivors\n",
    "from that tragic voyage.  Since the accounts are often incomplete, or the accounts for many could\n",
    "not even be found, there is a very good deal of missing data, you will need to be careful with that."
   ]
  },
  {
   "cell_type": "code",
   "execution_count": null,
   "metadata": {},
   "outputs": [],
   "source": [
    "import numpy as np\n",
    "import matplotlib.pyplot as plt\n",
    "import matplotlib as mpl\n",
    "%matplotlib inline\n",
    "plt.style.use('seaborn-talk')\n",
    "mpl.rcParams['figure.figsize'] = (13, 6)\n",
    "import pandas as pd\n",
    "pd.options.display.max_rows = 12\n",
    "import seaborn as sns\n",
    "titanic = sns.load_dataset('titanic')\n",
    "titanic"
   ]
  },
  {
   "cell_type": "markdown",
   "metadata": {},
   "source": [
    "### 1. Describe general statistics and memory/values for the data frame, what can you evaluate from it (★☆☆)?"
   ]
  },
  {
   "cell_type": "code",
   "execution_count": null,
   "metadata": {},
   "outputs": [],
   "source": []
  },
  {
   "cell_type": "code",
   "execution_count": null,
   "metadata": {},
   "outputs": [],
   "source": []
  },
  {
   "cell_type": "markdown",
   "metadata": {},
   "source": [
    "Evaluation:"
   ]
  },
  {
   "cell_type": "markdown",
   "metadata": {
    "collapsed": true
   },
   "source": [
    "### 2. How many and what were the towns where people embarked on the Titanic (★☆☆)?"
   ]
  },
  {
   "cell_type": "code",
   "execution_count": null,
   "metadata": {},
   "outputs": [],
   "source": []
  },
  {
   "cell_type": "markdown",
   "metadata": {
    "collapsed": true
   },
   "source": [
    "### 3. What is the overall survival rate of the people that were on board (★☆☆)?"
   ]
  },
  {
   "cell_type": "code",
   "execution_count": null,
   "metadata": {},
   "outputs": [],
   "source": []
  },
  {
   "cell_type": "markdown",
   "metadata": {
    "collapsed": true
   },
   "source": [
    "### 4. What is the survival rate depending on the gender?  Use a bar plot to show the difference. (★★☆)"
   ]
  },
  {
   "cell_type": "code",
   "execution_count": null,
   "metadata": {},
   "outputs": [],
   "source": []
  },
  {
   "cell_type": "markdown",
   "metadata": {
    "collapsed": true
   },
   "source": [
    "### 5. Is the survival rate different depending on the class in which the person traveled? Use a plot. (★★☆)"
   ]
  },
  {
   "cell_type": "code",
   "execution_count": null,
   "metadata": {},
   "outputs": [],
   "source": []
  },
  {
   "cell_type": "markdown",
   "metadata": {
    "collapsed": true
   },
   "source": [
    "### 6. Compare, with a plot, the survival rate according to both: gender and class. (★★☆)"
   ]
  },
  {
   "cell_type": "code",
   "execution_count": null,
   "metadata": {},
   "outputs": [],
   "source": []
  },
  {
   "cell_type": "markdown",
   "metadata": {
    "collapsed": true
   },
   "source": [
    "### 7. Is there a relationship between the town in which a passenger embarked onto the Titanic and the class in which he traveled? (★★★)"
   ]
  },
  {
   "cell_type": "code",
   "execution_count": null,
   "metadata": {},
   "outputs": [],
   "source": []
  }
 ],
 "metadata": {
  "anaconda-cloud": {},
  "kernelspec": {
   "display_name": "Python 3",
   "language": "python",
   "name": "python3"
  },
  "language_info": {
   "codemirror_mode": {
    "name": "ipython",
    "version": 3
   },
   "file_extension": ".py",
   "mimetype": "text/x-python",
   "name": "python",
   "nbconvert_exporter": "python",
   "pygments_lexer": "ipython3",
   "version": "3.6.3"
  }
 },
 "nbformat": 4,
 "nbformat_minor": 1
}
